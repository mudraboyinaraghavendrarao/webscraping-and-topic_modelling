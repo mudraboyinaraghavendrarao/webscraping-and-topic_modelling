{
 "cells": [
  {
   "cell_type": "code",
   "execution_count": 0,
   "metadata": {
    "colab": {},
    "colab_type": "code",
    "id": "KyCTwCP2uSlh"
   },
   "outputs": [],
   "source": []
  },
  {
   "cell_type": "code",
   "execution_count": 1,
   "metadata": {
    "colab": {
     "base_uri": "https://localhost:8080/",
     "height": 122
    },
    "colab_type": "code",
    "id": "nb4WsG1quUtO",
    "outputId": "f9212f50-828b-446a-899c-3616ceda46eb"
   },
   "outputs": [
    {
     "name": "stdout",
     "output_type": "stream",
     "text": [
      "Go to this URL in a browser: https://accounts.google.com/o/oauth2/auth?client_id=947318989803-6bn6qk8qdgf4n4g3pfee6491hc0brc4i.apps.googleusercontent.com&redirect_uri=urn%3aietf%3awg%3aoauth%3a2.0%3aoob&response_type=code&scope=email%20https%3a%2f%2fwww.googleapis.com%2fauth%2fdocs.test%20https%3a%2f%2fwww.googleapis.com%2fauth%2fdrive%20https%3a%2f%2fwww.googleapis.com%2fauth%2fdrive.photos.readonly%20https%3a%2f%2fwww.googleapis.com%2fauth%2fpeopleapi.readonly\n",
      "\n",
      "Enter your authorization code:\n",
      "··········\n",
      "Mounted at /content/drive\n"
     ]
    }
   ],
   "source": [
    "from google.colab import drive\n",
    "drive.mount('/content/drive')"
   ]
  },
  {
   "cell_type": "code",
   "execution_count": 0,
   "metadata": {
    "colab": {},
    "colab_type": "code",
    "id": "gunboBWmSeY6"
   },
   "outputs": [],
   "source": [
    "import requests\n",
    "from bs4 import BeautifulSoup as bs "
   ]
  },
  {
   "cell_type": "code",
   "execution_count": 3,
   "metadata": {
    "colab": {
     "base_uri": "https://localhost:8080/",
     "height": 85
    },
    "colab_type": "code",
    "id": "AEACRRLFSguk",
    "outputId": "15c9a1b8-8ee0-4b26-f2e6-d8d72a4006f2"
   },
   "outputs": [
    {
     "name": "stdout",
     "output_type": "stream",
     "text": [
      "Requirement already satisfied: wordcloud in /usr/local/lib/python3.6/dist-packages (1.5.0)\n",
      "Requirement already satisfied: numpy>=1.6.1 in /usr/local/lib/python3.6/dist-packages (from wordcloud) (1.17.4)\n",
      "Requirement already satisfied: pillow in /usr/local/lib/python3.6/dist-packages (from wordcloud) (4.3.0)\n",
      "Requirement already satisfied: olefile in /usr/local/lib/python3.6/dist-packages (from pillow->wordcloud) (0.46)\n"
     ]
    }
   ],
   "source": [
    "import numpy as np\n",
    "import pandas as pd\n",
    "\n",
    "#!pip install urllib\n",
    "import urllib.request as url \n",
    "\n",
    "#!pip install bs4\n",
    "from bs4 import BeautifulSoup as bs\n",
    "\n",
    "!pip install wordcloud\n",
    "from wordcloud import WordCloud\n",
    "\n",
    "import re\n",
    "import requests\n",
    "import matplotlib.pyplot as plt\n",
    "%matplotlib inline\n",
    "\n",
    "import random\n",
    "random.seed(123)\n",
    "\n",
    "#ignore warnings\n",
    "import warnings\n",
    "warnings.filterwarnings('ignore')"
   ]
  },
  {
   "cell_type": "code",
   "execution_count": 4,
   "metadata": {
    "colab": {
     "base_uri": "https://localhost:8080/",
     "height": 921
    },
    "colab_type": "code",
    "id": "ULS3KbOYSlur",
    "outputId": "9a518e76-25fe-4bb0-d8b1-80ad04118394"
   },
   "outputs": [
    {
     "name": "stdout",
     "output_type": "stream",
     "text": [
      "/bin/bash: conda: command not found\n",
      "Requirement already satisfied: en_core_web_sm==2.1.0 from https://github.com/explosion/spacy-models/releases/download/en_core_web_sm-2.1.0/en_core_web_sm-2.1.0.tar.gz#egg=en_core_web_sm==2.1.0 in /usr/local/lib/python3.6/dist-packages (2.1.0)\n",
      "\u001b[38;5;2m✔ Download and installation successful\u001b[0m\n",
      "You can now load the model via spacy.load('en_core_web_sm')\n",
      "\u001b[38;5;2m✔ Linking successful\u001b[0m\n",
      "/usr/local/lib/python3.6/dist-packages/en_core_web_sm -->\n",
      "/usr/local/lib/python3.6/dist-packages/spacy/data/en\n",
      "You can now load the model via spacy.load('en')\n",
      "Collecting spacy\n",
      "\u001b[?25l  Downloading https://files.pythonhosted.org/packages/47/13/80ad28ef7a16e2a86d16d73e28588be5f1085afd3e85e4b9b912bd700e8a/spacy-2.2.3-cp36-cp36m-manylinux1_x86_64.whl (10.4MB)\n",
      "\u001b[K     |████████████████████████████████| 10.4MB 44.2MB/s \n",
      "\u001b[?25hRequirement already satisfied, skipping upgrade: murmurhash<1.1.0,>=0.28.0 in /usr/local/lib/python3.6/dist-packages (from spacy) (1.0.2)\n",
      "Collecting blis<0.5.0,>=0.4.0\n",
      "\u001b[?25l  Downloading https://files.pythonhosted.org/packages/41/19/f95c75562d18eb27219df3a3590b911e78d131b68466ad79fdf5847eaac4/blis-0.4.1-cp36-cp36m-manylinux1_x86_64.whl (3.7MB)\n",
      "\u001b[K     |████████████████████████████████| 3.7MB 37.1MB/s \n",
      "\u001b[?25hRequirement already satisfied, skipping upgrade: srsly<1.1.0,>=0.1.0 in /usr/local/lib/python3.6/dist-packages (from spacy) (0.2.0)\n",
      "Requirement already satisfied, skipping upgrade: requests<3.0.0,>=2.13.0 in /usr/local/lib/python3.6/dist-packages (from spacy) (2.21.0)\n",
      "Collecting thinc<7.4.0,>=7.3.0\n",
      "\u001b[?25l  Downloading https://files.pythonhosted.org/packages/07/59/6bb553bc9a5f072d3cd479fc939fea0f6f682892f1f5cff98de5c9b615bb/thinc-7.3.1-cp36-cp36m-manylinux1_x86_64.whl (2.2MB)\n",
      "\u001b[K     |████████████████████████████████| 2.2MB 59.9MB/s \n",
      "\u001b[?25hCollecting preshed<3.1.0,>=3.0.2\n",
      "\u001b[?25l  Downloading https://files.pythonhosted.org/packages/db/6b/e07fad36913879757c90ba03d6fb7f406f7279e11dcefc105ee562de63ea/preshed-3.0.2-cp36-cp36m-manylinux1_x86_64.whl (119kB)\n",
      "\u001b[K     |████████████████████████████████| 122kB 60.3MB/s \n",
      "\u001b[?25hRequirement already satisfied, skipping upgrade: cymem<2.1.0,>=2.0.2 in /usr/local/lib/python3.6/dist-packages (from spacy) (2.0.3)\n",
      "Requirement already satisfied, skipping upgrade: setuptools in /usr/local/lib/python3.6/dist-packages (from spacy) (42.0.2)\n",
      "Requirement already satisfied, skipping upgrade: plac<1.2.0,>=0.9.6 in /usr/local/lib/python3.6/dist-packages (from spacy) (0.9.6)\n",
      "Collecting catalogue<1.1.0,>=0.0.7\n",
      "  Downloading https://files.pythonhosted.org/packages/4f/d5/46ff975f0d7d055cf95557b944fd5d29d9dfb37a4341038e070f212b24fe/catalogue-0.0.8-py2.py3-none-any.whl\n",
      "Requirement already satisfied, skipping upgrade: numpy>=1.15.0 in /usr/local/lib/python3.6/dist-packages (from spacy) (1.17.4)\n",
      "Requirement already satisfied, skipping upgrade: wasabi<1.1.0,>=0.4.0 in /usr/local/lib/python3.6/dist-packages (from spacy) (0.4.2)\n",
      "Requirement already satisfied, skipping upgrade: certifi>=2017.4.17 in /usr/local/lib/python3.6/dist-packages (from requests<3.0.0,>=2.13.0->spacy) (2019.11.28)\n",
      "Requirement already satisfied, skipping upgrade: chardet<3.1.0,>=3.0.2 in /usr/local/lib/python3.6/dist-packages (from requests<3.0.0,>=2.13.0->spacy) (3.0.4)\n",
      "Requirement already satisfied, skipping upgrade: urllib3<1.25,>=1.21.1 in /usr/local/lib/python3.6/dist-packages (from requests<3.0.0,>=2.13.0->spacy) (1.24.3)\n",
      "Requirement already satisfied, skipping upgrade: idna<2.9,>=2.5 in /usr/local/lib/python3.6/dist-packages (from requests<3.0.0,>=2.13.0->spacy) (2.8)\n",
      "Requirement already satisfied, skipping upgrade: tqdm<5.0.0,>=4.10.0 in /usr/local/lib/python3.6/dist-packages (from thinc<7.4.0,>=7.3.0->spacy) (4.28.1)\n",
      "Requirement already satisfied, skipping upgrade: importlib-metadata>=0.20; python_version < \"3.8\" in /usr/local/lib/python3.6/dist-packages (from catalogue<1.1.0,>=0.0.7->spacy) (1.2.0)\n",
      "Requirement already satisfied, skipping upgrade: zipp>=0.5 in /usr/local/lib/python3.6/dist-packages (from importlib-metadata>=0.20; python_version < \"3.8\"->catalogue<1.1.0,>=0.0.7->spacy) (0.6.0)\n",
      "Requirement already satisfied, skipping upgrade: more-itertools in /usr/local/lib/python3.6/dist-packages (from zipp>=0.5->importlib-metadata>=0.20; python_version < \"3.8\"->catalogue<1.1.0,>=0.0.7->spacy) (8.0.0)\n",
      "Installing collected packages: blis, preshed, thinc, catalogue, spacy\n",
      "  Found existing installation: blis 0.2.4\n",
      "    Uninstalling blis-0.2.4:\n",
      "      Successfully uninstalled blis-0.2.4\n",
      "  Found existing installation: preshed 2.0.1\n",
      "    Uninstalling preshed-2.0.1:\n",
      "      Successfully uninstalled preshed-2.0.1\n",
      "  Found existing installation: thinc 7.0.8\n",
      "    Uninstalling thinc-7.0.8:\n",
      "      Successfully uninstalled thinc-7.0.8\n",
      "  Found existing installation: spacy 2.1.9\n",
      "    Uninstalling spacy-2.1.9:\n",
      "      Successfully uninstalled spacy-2.1.9\n",
      "Successfully installed blis-0.4.1 catalogue-0.0.8 preshed-3.0.2 spacy-2.2.3 thinc-7.3.1\n"
     ]
    }
   ],
   "source": [
    "!conda install -c conda-forge spacy\n",
    "!python -m spacy download en\n",
    "!pip install -U spacy\n",
    "import spacy\n",
    "nlp = spacy.load(\"en_core_web_sm\")\n",
    "\n",
    "\n",
    "# import en_core_web_sm\n",
    "# nlp = en_core_web_sm.load()"
   ]
  },
  {
   "cell_type": "code",
   "execution_count": 5,
   "metadata": {
    "colab": {
     "base_uri": "https://localhost:8080/",
     "height": 153
    },
    "colab_type": "code",
    "id": "RuWvFN7jNvJc",
    "outputId": "0cda1cb9-5f15-49c0-f6a0-414828222f4a"
   },
   "outputs": [
    {
     "name": "stdout",
     "output_type": "stream",
     "text": [
      "Requirement already satisfied: requests in /usr/local/lib/python3.6/dist-packages (2.21.0)\n",
      "Requirement already satisfied: certifi>=2017.4.17 in /usr/local/lib/python3.6/dist-packages (from requests) (2019.11.28)\n",
      "Requirement already satisfied: chardet<3.1.0,>=3.0.2 in /usr/local/lib/python3.6/dist-packages (from requests) (3.0.4)\n",
      "Requirement already satisfied: idna<2.9,>=2.5 in /usr/local/lib/python3.6/dist-packages (from requests) (2.8)\n",
      "Requirement already satisfied: urllib3<1.25,>=1.21.1 in /usr/local/lib/python3.6/dist-packages (from requests) (1.24.3)\n",
      "Requirement already satisfied: lxml in /usr/local/lib/python3.6/dist-packages (4.2.6)\n",
      "Requirement already satisfied: bs4 in /usr/local/lib/python3.6/dist-packages (0.0.1)\n",
      "Requirement already satisfied: beautifulsoup4 in /usr/local/lib/python3.6/dist-packages (from bs4) (4.6.3)\n"
     ]
    }
   ],
   "source": [
    "!pip install requests\n",
    "!pip install lxml\n",
    "!pip install bs4"
   ]
  },
  {
   "cell_type": "code",
   "execution_count": 1,
   "metadata": {
    "colab": {
     "base_uri": "https://localhost:8080/",
     "height": 357
    },
    "colab_type": "code",
    "id": "DsCJovKZNu4b",
    "outputId": "231c6c85-5601-4e2a-ae3b-965356544a5e"
   },
   "outputs": [
    {
     "name": "stdout",
     "output_type": "stream",
     "text": [
      "https://news.ycombinator.com/newest\n"
     ]
    },
    {
     "ename": "NameError",
     "evalue": "name 'bs' is not defined",
     "output_type": "error",
     "traceback": [
      "\u001b[1;31m---------------------------------------------------------------------------\u001b[0m",
      "\u001b[1;31mNameError\u001b[0m                                 Traceback (most recent call last)",
      "\u001b[1;32m<ipython-input-1-ce7d85420e6e>\u001b[0m in \u001b[0;36m<module>\u001b[1;34m\u001b[0m\n\u001b[0;32m      9\u001b[0m     \u001b[0mlist1\u001b[0m\u001b[1;33m.\u001b[0m\u001b[0mappend\u001b[0m\u001b[1;33m(\u001b[0m\u001b[0mlink1\u001b[0m\u001b[1;33m)\u001b[0m\u001b[1;33m\u001b[0m\u001b[1;33m\u001b[0m\u001b[0m\n\u001b[0;32m     10\u001b[0m   \u001b[0mprint\u001b[0m\u001b[1;33m(\u001b[0m\u001b[0mlink1\u001b[0m\u001b[1;33m)\u001b[0m\u001b[1;33m\u001b[0m\u001b[1;33m\u001b[0m\u001b[0m\n\u001b[1;32m---> 11\u001b[1;33m   \u001b[0msoup\u001b[0m\u001b[1;33m=\u001b[0m \u001b[0mbs\u001b[0m\u001b[1;33m(\u001b[0m\u001b[0murl\u001b[0m\u001b[1;33m.\u001b[0m\u001b[0murlopen\u001b[0m\u001b[1;33m(\u001b[0m\u001b[0mlink1\u001b[0m\u001b[1;33m)\u001b[0m\u001b[1;33m)\u001b[0m\u001b[1;33m\u001b[0m\u001b[1;33m\u001b[0m\u001b[0m\n\u001b[0m\u001b[0;32m     12\u001b[0m   \u001b[1;32mfor\u001b[0m \u001b[0mlink\u001b[0m \u001b[1;32min\u001b[0m \u001b[0msoup\u001b[0m\u001b[1;33m.\u001b[0m\u001b[0mfind_all\u001b[0m\u001b[1;33m(\u001b[0m\u001b[1;34m'a'\u001b[0m\u001b[1;33m)\u001b[0m\u001b[1;33m:\u001b[0m\u001b[1;33m\u001b[0m\u001b[1;33m\u001b[0m\u001b[0m\n\u001b[0;32m     13\u001b[0m     \u001b[1;32mtry\u001b[0m\u001b[1;33m:\u001b[0m\u001b[1;33m\u001b[0m\u001b[1;33m\u001b[0m\u001b[0m\n",
      "\u001b[1;31mNameError\u001b[0m: name 'bs' is not defined"
     ]
    }
   ],
   "source": [
    "list1 = []\n",
    "link_newest = \"https://news.ycombinator.com/\"\n",
    "for i in range(1,21):\n",
    "  if i == 1:\n",
    "    link1=\"https://news.ycombinator.com/newest\"\n",
    "    list1.append(link1)\n",
    "  else:\n",
    "    link1 = link_newest + add\n",
    "    list1.append(link1)\n",
    "  print(link1)\n",
    "  soup= bs(url.urlopen(link1))\n",
    "  for link in soup.find_all('a'):\n",
    "    try:\n",
    "      if len(link.text.strip()) > 1 and re.match('More',link.text):\n",
    "          add = link['href']\n",
    "    except TypeError:\n",
    "           i = i+1"
   ]
  },
  {
   "cell_type": "code",
   "execution_count": 2,
   "metadata": {
    "colab": {
     "base_uri": "https://localhost:8080/",
     "height": 357
    },
    "colab_type": "code",
    "id": "MoqAIsSocImz",
    "outputId": "c228a92a-50c0-4404-99bb-1b151dd981ed"
   },
   "outputs": [
    {
     "data": {
      "text/plain": [
       "['https://news.ycombinator.com/newest']"
      ]
     },
     "execution_count": 2,
     "metadata": {},
     "output_type": "execute_result"
    }
   ],
   "source": [
    "list1"
   ]
  },
  {
   "cell_type": "code",
   "execution_count": 0,
   "metadata": {
    "colab": {},
    "colab_type": "code",
    "id": "B48SyYrCR_wu"
   },
   "outputs": [],
   "source": [
    "d = {'Title':[],'age':[],'posted_by_user':[],'URL':[],'domain':[],'num_upvotes':[],'comments':[]}\n",
    "i = 0\n",
    "for i in list1:\n",
    "  soup =  bs(url.urlopen(i))\n",
    "  i = 0\n",
    "  for link in soup.find_all('a'):\n",
    "    if len(link.text.strip()) > 1 and bool(re.match('http',link['href'])) and not bool(re.search('past|web|guidelines|faq|support|api|security|lists|bookmarklet|legal|apply to yc|contact|search|log in|subscribe',link.text.lower()))  and not bool(\n",
    "          re.search('indianblogginers|indianbloggers|twitter|facebook|images|youtube|docs.google.com|myaccount',link['href'])) :\n",
    "          d['Title'].append(link.string)\n",
    "          d['URL'].append(link['href'])\n",
    "          spans1=soup.find_all('span',{'class' : 'sitestr'})\n",
    "          lines1 = [span.get_text() for span in spans1]\n",
    "          spans2=soup.find_all('span',{'class' : 'score'})\n",
    "          lines2 = [span.get_text() for span in spans2]\n",
    "          spans3=soup.find_all('span',{'class' : 'age'})\n",
    "          lines3 = [span.get_text() for span in spans3]\n",
    "          spans4=soup.find_all('a',{'class' : 'hnuser'})\n",
    "          lines4 = [span.get_text() for span in spans4]\n",
    "          spans5=soup.find_all(\"td\",{\"class\": \"subtext\"})\n",
    "          lines5 = [span.get_text() for span in spans5]\n",
    "          d['domain'].append(lines1[i])\n",
    "          d['num_upvotes'].append(lines2[i])\n",
    "          d['age'].append(lines3[i])\n",
    "          d['posted_by_user'].append(lines4[i])\n",
    "          d['comments'].append(lines5[i])\n",
    "          i=i+1\n",
    "blog_list = pd.DataFrame(d)"
   ]
  },
  {
   "cell_type": "markdown",
   "metadata": {
    "colab_type": "text",
    "id": "D7jKFc-bdZnh"
   },
   "source": [
    "#Extract the recent 500 posts information from Hacker News websit"
   ]
  },
  {
   "cell_type": "code",
   "execution_count": 9,
   "metadata": {
    "colab": {
     "base_uri": "https://localhost:8080/",
     "height": 912
    },
    "colab_type": "code",
    "id": "Q1YSJfvg_qOA",
    "outputId": "fbc0c451-2f08-4e2d-b877-7753a6f728b5"
   },
   "outputs": [
    {
     "data": {
      "text/html": [
       "<div>\n",
       "<style scoped>\n",
       "    .dataframe tbody tr th:only-of-type {\n",
       "        vertical-align: middle;\n",
       "    }\n",
       "\n",
       "    .dataframe tbody tr th {\n",
       "        vertical-align: top;\n",
       "    }\n",
       "\n",
       "    .dataframe thead th {\n",
       "        text-align: right;\n",
       "    }\n",
       "</style>\n",
       "<table border=\"1\" class=\"dataframe\">\n",
       "  <thead>\n",
       "    <tr style=\"text-align: right;\">\n",
       "      <th></th>\n",
       "      <th>Title</th>\n",
       "      <th>age</th>\n",
       "      <th>posted_by_user</th>\n",
       "      <th>URL</th>\n",
       "      <th>domain</th>\n",
       "      <th>num_upvotes</th>\n",
       "      <th>comments</th>\n",
       "    </tr>\n",
       "  </thead>\n",
       "  <tbody>\n",
       "    <tr>\n",
       "      <th>0</th>\n",
       "      <td>Robocallers face fight on many fronts</td>\n",
       "      <td>0 minutes ago</td>\n",
       "      <td>petercooper</td>\n",
       "      <td>https://www.axios.com/robocalls-fcc-congress-t...</td>\n",
       "      <td>phoronix.com</td>\n",
       "      <td>1 point</td>\n",
       "      <td>\\n1 point by petercooper 0 minutes ago  | hide...</td>\n",
       "    </tr>\n",
       "    <tr>\n",
       "      <th>1</th>\n",
       "      <td>World's First and Only Hackproof Site</td>\n",
       "      <td>0 minutes ago</td>\n",
       "      <td>hhs</td>\n",
       "      <td>http://hackprooftechnologies.com/index.html</td>\n",
       "      <td>axios.com</td>\n",
       "      <td>1 point</td>\n",
       "      <td>\\n1 point by hhs 0 minutes ago  | hide | past ...</td>\n",
       "    </tr>\n",
       "    <tr>\n",
       "      <th>2</th>\n",
       "      <td>Affinity Profiling and Discrimination by Assoc...</td>\n",
       "      <td>1 minute ago</td>\n",
       "      <td>hexadec</td>\n",
       "      <td>https://poseidon01.ssrn.com/delivery.php?ID=19...</td>\n",
       "      <td>hackprooftechnologies.com</td>\n",
       "      <td>1 point</td>\n",
       "      <td>\\n1 point by hexadec 1 minute ago  | hide | pa...</td>\n",
       "    </tr>\n",
       "    <tr>\n",
       "      <th>3</th>\n",
       "      <td>React Benefits: A Blessing for Businesses?</td>\n",
       "      <td>2 minutes ago</td>\n",
       "      <td>DyslexicAtheist</td>\n",
       "      <td>https://habr.com/en/post/480070/</td>\n",
       "      <td>ssrn.com</td>\n",
       "      <td>1 point</td>\n",
       "      <td>\\n1 point by DyslexicAtheist 2 minutes ago  | ...</td>\n",
       "    </tr>\n",
       "    <tr>\n",
       "      <th>4</th>\n",
       "      <td>Soundness bugs in Rust libraries: can't live w...</td>\n",
       "      <td>3 minutes ago</td>\n",
       "      <td>martinlaz</td>\n",
       "      <td>https://docs.rs/dtolnay/0.0.7/dtolnay/macro._0...</td>\n",
       "      <td>technologyreview.com</td>\n",
       "      <td>1 point</td>\n",
       "      <td>\\n1 point by martinlaz 3 minutes ago  | hide |...</td>\n",
       "    </tr>\n",
       "    <tr>\n",
       "      <th>...</th>\n",
       "      <td>...</td>\n",
       "      <td>...</td>\n",
       "      <td>...</td>\n",
       "      <td>...</td>\n",
       "      <td>...</td>\n",
       "      <td>...</td>\n",
       "      <td>...</td>\n",
       "    </tr>\n",
       "    <tr>\n",
       "      <th>489</th>\n",
       "      <td>Rise of the Antarctican Accent</td>\n",
       "      <td>17 hours ago</td>\n",
       "      <td>ilikepi</td>\n",
       "      <td>https://www.scientificamerican.com/podcast/epi...</td>\n",
       "      <td>amazon.com</td>\n",
       "      <td>2 points</td>\n",
       "      <td>\\n2 points by ilikepi 17 hours ago  | hide | p...</td>\n",
       "    </tr>\n",
       "    <tr>\n",
       "      <th>490</th>\n",
       "      <td>Opinion: Small modular reactors help in the fi...</td>\n",
       "      <td>17 hours ago</td>\n",
       "      <td>humps</td>\n",
       "      <td>https://www.theglobeandmail.com/business/comme...</td>\n",
       "      <td>igalia.com</td>\n",
       "      <td>4 points</td>\n",
       "      <td>\\n4 points by humps 17 hours ago  | hide | pas...</td>\n",
       "    </tr>\n",
       "    <tr>\n",
       "      <th>491</th>\n",
       "      <td>Benchmarking Spreadsheet Systems</td>\n",
       "      <td>17 hours ago</td>\n",
       "      <td>davidfoster</td>\n",
       "      <td>https://blog.acolyer.org/2019/12/06/benchmarki...</td>\n",
       "      <td>onezero.medium.com</td>\n",
       "      <td>3 points</td>\n",
       "      <td>\\n3 points by davidfoster 17 hours ago  | hide...</td>\n",
       "    </tr>\n",
       "    <tr>\n",
       "      <th>492</th>\n",
       "      <td>We Need to Measure More</td>\n",
       "      <td>17 hours ago</td>\n",
       "      <td>tobr</td>\n",
       "      <td>https://www.bloomberg.com/opinion/articles/201...</td>\n",
       "      <td>frontiersin.org</td>\n",
       "      <td>3 points</td>\n",
       "      <td>\\n3 points by tobr 17 hours ago  | hide | past...</td>\n",
       "    </tr>\n",
       "    <tr>\n",
       "      <th>493</th>\n",
       "      <td>New York Just Set a ‘Dangerous Precedent’ on A...</td>\n",
       "      <td>17 hours ago</td>\n",
       "      <td>pslattery</td>\n",
       "      <td>https://www.citylab.com/equity/2019/12/ai-tech...</td>\n",
       "      <td>linearb.io</td>\n",
       "      <td>4 points</td>\n",
       "      <td>\\n4 points by pslattery 17 hours ago  | hide |...</td>\n",
       "    </tr>\n",
       "  </tbody>\n",
       "</table>\n",
       "<p>494 rows × 7 columns</p>\n",
       "</div>"
      ],
      "text/plain": [
       "                                                 Title  ...                                           comments\n",
       "0                Robocallers face fight on many fronts  ...  \\n1 point by petercooper 0 minutes ago  | hide...\n",
       "1                World's First and Only Hackproof Site  ...  \\n1 point by hhs 0 minutes ago  | hide | past ...\n",
       "2    Affinity Profiling and Discrimination by Assoc...  ...  \\n1 point by hexadec 1 minute ago  | hide | pa...\n",
       "3           React Benefits: A Blessing for Businesses?  ...  \\n1 point by DyslexicAtheist 2 minutes ago  | ...\n",
       "4    Soundness bugs in Rust libraries: can't live w...  ...  \\n1 point by martinlaz 3 minutes ago  | hide |...\n",
       "..                                                 ...  ...                                                ...\n",
       "489                     Rise of the Antarctican Accent  ...  \\n2 points by ilikepi 17 hours ago  | hide | p...\n",
       "490  Opinion: Small modular reactors help in the fi...  ...  \\n4 points by humps 17 hours ago  | hide | pas...\n",
       "491                   Benchmarking Spreadsheet Systems  ...  \\n3 points by davidfoster 17 hours ago  | hide...\n",
       "492                            We Need to Measure More  ...  \\n3 points by tobr 17 hours ago  | hide | past...\n",
       "493  New York Just Set a ‘Dangerous Precedent’ on A...  ...  \\n4 points by pslattery 17 hours ago  | hide |...\n",
       "\n",
       "[494 rows x 7 columns]"
      ]
     },
     "execution_count": 9,
     "metadata": {
      "tags": []
     },
     "output_type": "execute_result"
    }
   ],
   "source": [
    "blog_list"
   ]
  },
  {
   "cell_type": "markdown",
   "metadata": {
    "colab_type": "text",
    "id": "dYno8NV0dzi7"
   },
   "source": [
    "#For each url, extract the full article from its respective website.\n"
   ]
  },
  {
   "cell_type": "code",
   "execution_count": 0,
   "metadata": {
    "colab": {},
    "colab_type": "code",
    "id": "pH0o-uCz8ZZt"
   },
   "outputs": [],
   "source": [
    "def extract_article(link1):\n",
    "    text_data =''\n",
    "    exceptionMessage = ''\n",
    "    try:\n",
    "        html = url.urlopen(link1).read()\n",
    "        soup = bs(html, 'html.parser')\n",
    "        text_all = soup.find_all('p') #Selecting all the paragraphs\n",
    "        for text in text_all:\n",
    "            if not 'copyright' in text.text.lower():\n",
    "                text_data = text_data +\" \" +text.text\n",
    "    except Exception as e:\n",
    "        exceptionMessage = e\n",
    "        pass\n",
    "    return text_data,exceptionMessage"
   ]
  },
  {
   "cell_type": "code",
   "execution_count": 11,
   "metadata": {
    "colab": {
     "base_uri": "https://localhost:8080/",
     "height": 238
    },
    "colab_type": "code",
    "id": "Pr2QUlyA8ZNP",
    "outputId": "1c5ed821-76f4-4b56-f004-43e436500a90"
   },
   "outputs": [
    {
     "name": "stderr",
     "output_type": "stream",
     "text": [
      "Some characters could not be decoded, and were replaced with REPLACEMENT CHARACTER.\n",
      "Some characters could not be decoded, and were replaced with REPLACEMENT CHARACTER.\n",
      "Some characters could not be decoded, and were replaced with REPLACEMENT CHARACTER.\n",
      "Some characters could not be decoded, and were replaced with REPLACEMENT CHARACTER.\n",
      "Some characters could not be decoded, and were replaced with REPLACEMENT CHARACTER.\n",
      "Some characters could not be decoded, and were replaced with REPLACEMENT CHARACTER.\n",
      "Some characters could not be decoded, and were replaced with REPLACEMENT CHARACTER.\n",
      "Some characters could not be decoded, and were replaced with REPLACEMENT CHARACTER.\n",
      "Some characters could not be decoded, and were replaced with REPLACEMENT CHARACTER.\n",
      "Some characters could not be decoded, and were replaced with REPLACEMENT CHARACTER.\n",
      "Some characters could not be decoded, and were replaced with REPLACEMENT CHARACTER.\n",
      "Some characters could not be decoded, and were replaced with REPLACEMENT CHARACTER.\n",
      "Some characters could not be decoded, and were replaced with REPLACEMENT CHARACTER.\n"
     ]
    }
   ],
   "source": [
    "blog_list[['text','exception']] = blog_list['URL'].apply(extract_article).apply(pd.Series)"
   ]
  },
  {
   "cell_type": "code",
   "execution_count": 12,
   "metadata": {
    "colab": {
     "base_uri": "https://localhost:8080/",
     "height": 949
    },
    "colab_type": "code",
    "id": "MeZPfFPvzZ0_",
    "outputId": "45554fed-8612-420e-baa3-9d0794a665d4"
   },
   "outputs": [
    {
     "data": {
      "text/html": [
       "<div>\n",
       "<style scoped>\n",
       "    .dataframe tbody tr th:only-of-type {\n",
       "        vertical-align: middle;\n",
       "    }\n",
       "\n",
       "    .dataframe tbody tr th {\n",
       "        vertical-align: top;\n",
       "    }\n",
       "\n",
       "    .dataframe thead th {\n",
       "        text-align: right;\n",
       "    }\n",
       "</style>\n",
       "<table border=\"1\" class=\"dataframe\">\n",
       "  <thead>\n",
       "    <tr style=\"text-align: right;\">\n",
       "      <th></th>\n",
       "      <th>Title</th>\n",
       "      <th>age</th>\n",
       "      <th>posted_by_user</th>\n",
       "      <th>URL</th>\n",
       "      <th>domain</th>\n",
       "      <th>num_upvotes</th>\n",
       "      <th>comments</th>\n",
       "      <th>text</th>\n",
       "      <th>exception</th>\n",
       "    </tr>\n",
       "  </thead>\n",
       "  <tbody>\n",
       "    <tr>\n",
       "      <th>0</th>\n",
       "      <td>Robocallers face fight on many fronts</td>\n",
       "      <td>0 minutes ago</td>\n",
       "      <td>petercooper</td>\n",
       "      <td>https://www.axios.com/robocalls-fcc-congress-t...</td>\n",
       "      <td>phoronix.com</td>\n",
       "      <td>1 point</td>\n",
       "      <td>\\n1 point by petercooper 0 minutes ago  | hide...</td>\n",
       "      <td>Federal regulators, lawmakers, and private co...</td>\n",
       "      <td></td>\n",
       "    </tr>\n",
       "    <tr>\n",
       "      <th>1</th>\n",
       "      <td>World's First and Only Hackproof Site</td>\n",
       "      <td>0 minutes ago</td>\n",
       "      <td>hhs</td>\n",
       "      <td>http://hackprooftechnologies.com/index.html</td>\n",
       "      <td>axios.com</td>\n",
       "      <td>1 point</td>\n",
       "      <td>\\n1 point by hhs 0 minutes ago  | hide | past ...</td>\n",
       "      <td>In The News</td>\n",
       "      <td></td>\n",
       "    </tr>\n",
       "    <tr>\n",
       "      <th>2</th>\n",
       "      <td>Affinity Profiling and Discrimination by Assoc...</td>\n",
       "      <td>1 minute ago</td>\n",
       "      <td>hexadec</td>\n",
       "      <td>https://poseidon01.ssrn.com/delivery.php?ID=19...</td>\n",
       "      <td>hackprooftechnologies.com</td>\n",
       "      <td>1 point</td>\n",
       "      <td>\\n1 point by hexadec 1 minute ago  | hide | pa...</td>\n",
       "      <td></td>\n",
       "      <td>HTTP Error 403: Forbidden</td>\n",
       "    </tr>\n",
       "    <tr>\n",
       "      <th>3</th>\n",
       "      <td>React Benefits: A Blessing for Businesses?</td>\n",
       "      <td>2 minutes ago</td>\n",
       "      <td>DyslexicAtheist</td>\n",
       "      <td>https://habr.com/en/post/480070/</td>\n",
       "      <td>ssrn.com</td>\n",
       "      <td>1 point</td>\n",
       "      <td>\\n1 point by DyslexicAtheist 2 minutes ago  | ...</td>\n",
       "      <td>Only users with full accounts can post commen...</td>\n",
       "      <td></td>\n",
       "    </tr>\n",
       "    <tr>\n",
       "      <th>4</th>\n",
       "      <td>Soundness bugs in Rust libraries: can't live w...</td>\n",
       "      <td>3 minutes ago</td>\n",
       "      <td>martinlaz</td>\n",
       "      <td>https://docs.rs/dtolnay/0.0.7/dtolnay/macro._0...</td>\n",
       "      <td>technologyreview.com</td>\n",
       "      <td>1 point</td>\n",
       "      <td>\\n1 point by martinlaz 3 minutes ago  | hide |...</td>\n",
       "      <td>dtolnay by David Tolnay , 2019.12.09 My role ...</td>\n",
       "      <td></td>\n",
       "    </tr>\n",
       "    <tr>\n",
       "      <th>...</th>\n",
       "      <td>...</td>\n",
       "      <td>...</td>\n",
       "      <td>...</td>\n",
       "      <td>...</td>\n",
       "      <td>...</td>\n",
       "      <td>...</td>\n",
       "      <td>...</td>\n",
       "      <td>...</td>\n",
       "      <td>...</td>\n",
       "    </tr>\n",
       "    <tr>\n",
       "      <th>489</th>\n",
       "      <td>Rise of the Antarctican Accent</td>\n",
       "      <td>17 hours ago</td>\n",
       "      <td>ilikepi</td>\n",
       "      <td>https://www.scientificamerican.com/podcast/epi...</td>\n",
       "      <td>amazon.com</td>\n",
       "      <td>2 points</td>\n",
       "      <td>\\n2 points by ilikepi 17 hours ago  | hide | p...</td>\n",
       "      <td>Residents of an overwintering station in Anta...</td>\n",
       "      <td></td>\n",
       "    </tr>\n",
       "    <tr>\n",
       "      <th>490</th>\n",
       "      <td>Opinion: Small modular reactors help in the fi...</td>\n",
       "      <td>17 hours ago</td>\n",
       "      <td>humps</td>\n",
       "      <td>https://www.theglobeandmail.com/business/comme...</td>\n",
       "      <td>igalia.com</td>\n",
       "      <td>4 points</td>\n",
       "      <td>\\n4 points by humps 17 hours ago  | hide | pas...</td>\n",
       "      <td>The subject who is truly loyal to the Chief M...</td>\n",
       "      <td></td>\n",
       "    </tr>\n",
       "    <tr>\n",
       "      <th>491</th>\n",
       "      <td>Benchmarking Spreadsheet Systems</td>\n",
       "      <td>17 hours ago</td>\n",
       "      <td>davidfoster</td>\n",
       "      <td>https://blog.acolyer.org/2019/12/06/benchmarki...</td>\n",
       "      <td>onezero.medium.com</td>\n",
       "      <td>3 points</td>\n",
       "      <td>\\n3 points by davidfoster 17 hours ago  | hide...</td>\n",
       "      <td>the morning paper a random walk through Compu...</td>\n",
       "      <td></td>\n",
       "    </tr>\n",
       "    <tr>\n",
       "      <th>492</th>\n",
       "      <td>We Need to Measure More</td>\n",
       "      <td>17 hours ago</td>\n",
       "      <td>tobr</td>\n",
       "      <td>https://www.bloomberg.com/opinion/articles/201...</td>\n",
       "      <td>frontiersin.org</td>\n",
       "      <td>3 points</td>\n",
       "      <td>\\n3 points by tobr 17 hours ago  | hide | past...</td>\n",
       "      <td>To continue, please click the box below to le...</td>\n",
       "      <td></td>\n",
       "    </tr>\n",
       "    <tr>\n",
       "      <th>493</th>\n",
       "      <td>New York Just Set a ‘Dangerous Precedent’ on A...</td>\n",
       "      <td>17 hours ago</td>\n",
       "      <td>pslattery</td>\n",
       "      <td>https://www.citylab.com/equity/2019/12/ai-tech...</td>\n",
       "      <td>linearb.io</td>\n",
       "      <td>4 points</td>\n",
       "      <td>\\n4 points by pslattery 17 hours ago  | hide |...</td>\n",
       "      <td>It was supposed to be groundbreaking. When Ne...</td>\n",
       "      <td></td>\n",
       "    </tr>\n",
       "  </tbody>\n",
       "</table>\n",
       "<p>494 rows × 9 columns</p>\n",
       "</div>"
      ],
      "text/plain": [
       "                                                 Title  ...                  exception\n",
       "0                Robocallers face fight on many fronts  ...                           \n",
       "1                World's First and Only Hackproof Site  ...                           \n",
       "2    Affinity Profiling and Discrimination by Assoc...  ...  HTTP Error 403: Forbidden\n",
       "3           React Benefits: A Blessing for Businesses?  ...                           \n",
       "4    Soundness bugs in Rust libraries: can't live w...  ...                           \n",
       "..                                                 ...  ...                        ...\n",
       "489                     Rise of the Antarctican Accent  ...                           \n",
       "490  Opinion: Small modular reactors help in the fi...  ...                           \n",
       "491                   Benchmarking Spreadsheet Systems  ...                           \n",
       "492                            We Need to Measure More  ...                           \n",
       "493  New York Just Set a ‘Dangerous Precedent’ on A...  ...                           \n",
       "\n",
       "[494 rows x 9 columns]"
      ]
     },
     "execution_count": 12,
     "metadata": {
      "tags": []
     },
     "output_type": "execute_result"
    }
   ],
   "source": [
    "blog_list"
   ]
  },
  {
   "cell_type": "code",
   "execution_count": 0,
   "metadata": {
    "colab": {},
    "colab_type": "code",
    "id": "wdnlvnYDKpH2"
   },
   "outputs": [],
   "source": [
    "blog_data = blog_list.copy()"
   ]
  },
  {
   "cell_type": "code",
   "execution_count": 14,
   "metadata": {
    "colab": {
     "base_uri": "https://localhost:8080/",
     "height": 949
    },
    "colab_type": "code",
    "id": "IvPYbCWF-2fu",
    "outputId": "a210593c-1ae8-4f17-c3d7-784372e7daa3"
   },
   "outputs": [
    {
     "data": {
      "text/html": [
       "<div>\n",
       "<style scoped>\n",
       "    .dataframe tbody tr th:only-of-type {\n",
       "        vertical-align: middle;\n",
       "    }\n",
       "\n",
       "    .dataframe tbody tr th {\n",
       "        vertical-align: top;\n",
       "    }\n",
       "\n",
       "    .dataframe thead th {\n",
       "        text-align: right;\n",
       "    }\n",
       "</style>\n",
       "<table border=\"1\" class=\"dataframe\">\n",
       "  <thead>\n",
       "    <tr style=\"text-align: right;\">\n",
       "      <th></th>\n",
       "      <th>Title</th>\n",
       "      <th>age</th>\n",
       "      <th>posted_by_user</th>\n",
       "      <th>URL</th>\n",
       "      <th>domain</th>\n",
       "      <th>num_upvotes</th>\n",
       "      <th>comments</th>\n",
       "      <th>text</th>\n",
       "      <th>exception</th>\n",
       "    </tr>\n",
       "  </thead>\n",
       "  <tbody>\n",
       "    <tr>\n",
       "      <th>0</th>\n",
       "      <td>Robocallers face fight on many fronts</td>\n",
       "      <td>0 minutes ago</td>\n",
       "      <td>petercooper</td>\n",
       "      <td>https://www.axios.com/robocalls-fcc-congress-t...</td>\n",
       "      <td>phoronix.com</td>\n",
       "      <td>1 point</td>\n",
       "      <td>\\n1 point by petercooper 0 minutes ago  | hide...</td>\n",
       "      <td>Federal regulators, lawmakers, and private co...</td>\n",
       "      <td></td>\n",
       "    </tr>\n",
       "    <tr>\n",
       "      <th>1</th>\n",
       "      <td>World's First and Only Hackproof Site</td>\n",
       "      <td>0 minutes ago</td>\n",
       "      <td>hhs</td>\n",
       "      <td>http://hackprooftechnologies.com/index.html</td>\n",
       "      <td>axios.com</td>\n",
       "      <td>1 point</td>\n",
       "      <td>\\n1 point by hhs 0 minutes ago  | hide | past ...</td>\n",
       "      <td>In The News</td>\n",
       "      <td></td>\n",
       "    </tr>\n",
       "    <tr>\n",
       "      <th>2</th>\n",
       "      <td>Affinity Profiling and Discrimination by Assoc...</td>\n",
       "      <td>1 minute ago</td>\n",
       "      <td>hexadec</td>\n",
       "      <td>https://poseidon01.ssrn.com/delivery.php?ID=19...</td>\n",
       "      <td>hackprooftechnologies.com</td>\n",
       "      <td>1 point</td>\n",
       "      <td>\\n1 point by hexadec 1 minute ago  | hide | pa...</td>\n",
       "      <td></td>\n",
       "      <td>HTTP Error 403: Forbidden</td>\n",
       "    </tr>\n",
       "    <tr>\n",
       "      <th>3</th>\n",
       "      <td>React Benefits: A Blessing for Businesses?</td>\n",
       "      <td>2 minutes ago</td>\n",
       "      <td>DyslexicAtheist</td>\n",
       "      <td>https://habr.com/en/post/480070/</td>\n",
       "      <td>ssrn.com</td>\n",
       "      <td>1 point</td>\n",
       "      <td>\\n1 point by DyslexicAtheist 2 minutes ago  | ...</td>\n",
       "      <td>Only users with full accounts can post commen...</td>\n",
       "      <td></td>\n",
       "    </tr>\n",
       "    <tr>\n",
       "      <th>4</th>\n",
       "      <td>Soundness bugs in Rust libraries: can't live w...</td>\n",
       "      <td>3 minutes ago</td>\n",
       "      <td>martinlaz</td>\n",
       "      <td>https://docs.rs/dtolnay/0.0.7/dtolnay/macro._0...</td>\n",
       "      <td>technologyreview.com</td>\n",
       "      <td>1 point</td>\n",
       "      <td>\\n1 point by martinlaz 3 minutes ago  | hide |...</td>\n",
       "      <td>dtolnay by David Tolnay , 2019.12.09 My role ...</td>\n",
       "      <td></td>\n",
       "    </tr>\n",
       "    <tr>\n",
       "      <th>...</th>\n",
       "      <td>...</td>\n",
       "      <td>...</td>\n",
       "      <td>...</td>\n",
       "      <td>...</td>\n",
       "      <td>...</td>\n",
       "      <td>...</td>\n",
       "      <td>...</td>\n",
       "      <td>...</td>\n",
       "      <td>...</td>\n",
       "    </tr>\n",
       "    <tr>\n",
       "      <th>489</th>\n",
       "      <td>Rise of the Antarctican Accent</td>\n",
       "      <td>17 hours ago</td>\n",
       "      <td>ilikepi</td>\n",
       "      <td>https://www.scientificamerican.com/podcast/epi...</td>\n",
       "      <td>amazon.com</td>\n",
       "      <td>2 points</td>\n",
       "      <td>\\n2 points by ilikepi 17 hours ago  | hide | p...</td>\n",
       "      <td>Residents of an overwintering station in Anta...</td>\n",
       "      <td></td>\n",
       "    </tr>\n",
       "    <tr>\n",
       "      <th>490</th>\n",
       "      <td>Opinion: Small modular reactors help in the fi...</td>\n",
       "      <td>17 hours ago</td>\n",
       "      <td>humps</td>\n",
       "      <td>https://www.theglobeandmail.com/business/comme...</td>\n",
       "      <td>igalia.com</td>\n",
       "      <td>4 points</td>\n",
       "      <td>\\n4 points by humps 17 hours ago  | hide | pas...</td>\n",
       "      <td>The subject who is truly loyal to the Chief M...</td>\n",
       "      <td></td>\n",
       "    </tr>\n",
       "    <tr>\n",
       "      <th>491</th>\n",
       "      <td>Benchmarking Spreadsheet Systems</td>\n",
       "      <td>17 hours ago</td>\n",
       "      <td>davidfoster</td>\n",
       "      <td>https://blog.acolyer.org/2019/12/06/benchmarki...</td>\n",
       "      <td>onezero.medium.com</td>\n",
       "      <td>3 points</td>\n",
       "      <td>\\n3 points by davidfoster 17 hours ago  | hide...</td>\n",
       "      <td>the morning paper a random walk through Compu...</td>\n",
       "      <td></td>\n",
       "    </tr>\n",
       "    <tr>\n",
       "      <th>492</th>\n",
       "      <td>We Need to Measure More</td>\n",
       "      <td>17 hours ago</td>\n",
       "      <td>tobr</td>\n",
       "      <td>https://www.bloomberg.com/opinion/articles/201...</td>\n",
       "      <td>frontiersin.org</td>\n",
       "      <td>3 points</td>\n",
       "      <td>\\n3 points by tobr 17 hours ago  | hide | past...</td>\n",
       "      <td>To continue, please click the box below to le...</td>\n",
       "      <td></td>\n",
       "    </tr>\n",
       "    <tr>\n",
       "      <th>493</th>\n",
       "      <td>New York Just Set a ‘Dangerous Precedent’ on A...</td>\n",
       "      <td>17 hours ago</td>\n",
       "      <td>pslattery</td>\n",
       "      <td>https://www.citylab.com/equity/2019/12/ai-tech...</td>\n",
       "      <td>linearb.io</td>\n",
       "      <td>4 points</td>\n",
       "      <td>\\n4 points by pslattery 17 hours ago  | hide |...</td>\n",
       "      <td>It was supposed to be groundbreaking. When Ne...</td>\n",
       "      <td></td>\n",
       "    </tr>\n",
       "  </tbody>\n",
       "</table>\n",
       "<p>494 rows × 9 columns</p>\n",
       "</div>"
      ],
      "text/plain": [
       "                                                 Title  ...                  exception\n",
       "0                Robocallers face fight on many fronts  ...                           \n",
       "1                World's First and Only Hackproof Site  ...                           \n",
       "2    Affinity Profiling and Discrimination by Assoc...  ...  HTTP Error 403: Forbidden\n",
       "3           React Benefits: A Blessing for Businesses?  ...                           \n",
       "4    Soundness bugs in Rust libraries: can't live w...  ...                           \n",
       "..                                                 ...  ...                        ...\n",
       "489                     Rise of the Antarctican Accent  ...                           \n",
       "490  Opinion: Small modular reactors help in the fi...  ...                           \n",
       "491                   Benchmarking Spreadsheet Systems  ...                           \n",
       "492                            We Need to Measure More  ...                           \n",
       "493  New York Just Set a ‘Dangerous Precedent’ on A...  ...                           \n",
       "\n",
       "[494 rows x 9 columns]"
      ]
     },
     "execution_count": 14,
     "metadata": {
      "tags": []
     },
     "output_type": "execute_result"
    }
   ],
   "source": [
    "blog_data"
   ]
  },
  {
   "cell_type": "code",
   "execution_count": 0,
   "metadata": {
    "colab": {},
    "colab_type": "code",
    "id": "ORK3ZpB2dv6F"
   },
   "outputs": [],
   "source": [
    "blog_list.to_csv('text.csv',index=False)"
   ]
  },
  {
   "cell_type": "code",
   "execution_count": 16,
   "metadata": {
    "colab": {
     "base_uri": "https://localhost:8080/",
     "height": 34
    },
    "colab_type": "code",
    "id": "hNRN6K-xeAey",
    "outputId": "5ac54f54-8653-4cb2-d0c2-508ebea505e6"
   },
   "outputs": [
    {
     "data": {
      "text/plain": [
       "' In The News'"
      ]
     },
     "execution_count": 16,
     "metadata": {
      "tags": []
     },
     "output_type": "execute_result"
    }
   ],
   "source": [
    "blog_data['text'][1]"
   ]
  },
  {
   "cell_type": "code",
   "execution_count": 0,
   "metadata": {
    "colab": {},
    "colab_type": "code",
    "id": "JpfgSEPGeIG3"
   },
   "outputs": [],
   "source": [
    "blog_data['text']=[text.strip().lower() for text in blog_data['text']]"
   ]
  },
  {
   "cell_type": "code",
   "execution_count": 18,
   "metadata": {
    "colab": {
     "base_uri": "https://localhost:8080/",
     "height": 34
    },
    "colab_type": "code",
    "id": "G2mng-CQeIFY",
    "outputId": "2795461a-9dfa-4f84-b24a-b9100c5d0968"
   },
   "outputs": [
    {
     "data": {
      "text/plain": [
       "'in the news'"
      ]
     },
     "execution_count": 18,
     "metadata": {
      "tags": []
     },
     "output_type": "execute_result"
    }
   ],
   "source": [
    "blog_data['text'][1]"
   ]
  },
  {
   "cell_type": "code",
   "execution_count": 0,
   "metadata": {
    "colab": {},
    "colab_type": "code",
    "id": "4WeB8wEIeIBO"
   },
   "outputs": [],
   "source": [
    "data=blog_data.copy()"
   ]
  },
  {
   "cell_type": "code",
   "execution_count": 0,
   "metadata": {
    "colab": {},
    "colab_type": "code",
    "id": "906dNoL2eH-_"
   },
   "outputs": [],
   "source": [
    "def scrub_words(text):\n",
    "    text = re.sub('’', \"'\", text)\n",
    "    \n",
    "    text = re.sub('\\xa0', ' ', text)\n",
    "    \n",
    "    \n",
    "    text = re.sub(\"(\\\\W|\\\\d)\",' ',text)\n",
    "    \n",
    "   \n",
    "    text = re.sub('\\n(\\w*?)[\\s]', '', text)\n",
    "    \n",
    "    \n",
    "    text = re.sub(\"<.*?>\", ' ', text)\n",
    "    \n",
    "  \n",
    "    text = re.sub(\"\\s+\", ' ', text)\n",
    "    return text"
   ]
  },
  {
   "cell_type": "code",
   "execution_count": 0,
   "metadata": {
    "colab": {},
    "colab_type": "code",
    "id": "WS_j72Y1eH7R"
   },
   "outputs": [],
   "source": [
    "data['text'] = [scrub_words(text) for text in data['text']]"
   ]
  },
  {
   "cell_type": "code",
   "execution_count": 22,
   "metadata": {
    "colab": {
     "base_uri": "https://localhost:8080/",
     "height": 34
    },
    "colab_type": "code",
    "id": "t8Pn0rWGeH4t",
    "outputId": "92cbd296-cbee-418c-efdf-1df617c765c1"
   },
   "outputs": [
    {
     "data": {
      "text/plain": [
       "'in the news'"
      ]
     },
     "execution_count": 22,
     "metadata": {
      "tags": []
     },
     "output_type": "execute_result"
    }
   ],
   "source": [
    "\n",
    "\n",
    "\n",
    "data['text'][1]"
   ]
  },
  {
   "cell_type": "code",
   "execution_count": 23,
   "metadata": {
    "colab": {
     "base_uri": "https://localhost:8080/",
     "height": 34
    },
    "colab_type": "code",
    "id": "1DxKvhrqeyEh",
    "outputId": "ff3fc8e3-c5fa-4164-96d2-e0ba0f219972"
   },
   "outputs": [
    {
     "data": {
      "text/plain": [
       "' In The News'"
      ]
     },
     "execution_count": 23,
     "metadata": {
      "tags": []
     },
     "output_type": "execute_result"
    }
   ],
   "source": [
    "blog_list['text'][1]"
   ]
  },
  {
   "cell_type": "code",
   "execution_count": 0,
   "metadata": {
    "colab": {},
    "colab_type": "code",
    "id": "aV5BqXE9wTfc"
   },
   "outputs": [],
   "source": []
  },
  {
   "cell_type": "code",
   "execution_count": 24,
   "metadata": {
    "colab": {
     "base_uri": "https://localhost:8080/",
     "height": 238
    },
    "colab_type": "code",
    "id": "fFNTEzWJeyB2",
    "outputId": "f42518c0-7d8d-4890-f7cc-b19d054eed0b"
   },
   "outputs": [
    {
     "name": "stdout",
     "output_type": "stream",
     "text": [
      "Data Type:  <class 'pandas.core.series.Series'>\n",
      "Data Type:  <class 'pandas.core.series.Series'>\n",
      "Length of data:  494\n",
      "Length of data:  494\n",
      "Original data: \n",
      "  Only users with full accounts can post comments. Log in, please.\n",
      "\n",
      "\n",
      "**************************************************************************\n",
      "\n",
      "\n",
      "Clean data: \n",
      " only users with full accounts can post comments log in please \n"
     ]
    }
   ],
   "source": [
    "print(\"Data Type: \", type(blog_list['text']))\n",
    "print(\"Data Type: \", type(data['text']))\n",
    "\n",
    "print(\"Length of data: \", len(blog_list['text']))\n",
    "print(\"Length of data: \", len(data['text']))\n",
    "\n",
    "print(\"Original data: \\n\", blog_list['text'][3])\n",
    "print(\"\\n\\n**************************************************************************\\n\\n\")\n",
    "print(\"Clean data: \\n\", data['text'][3])"
   ]
  },
  {
   "cell_type": "code",
   "execution_count": 25,
   "metadata": {
    "colab": {
     "base_uri": "https://localhost:8080/",
     "height": 297
    },
    "colab_type": "code",
    "id": "4lCOKu8Xex-F",
    "outputId": "eeba2cb3-eff7-4263-8f17-595f82c3a0d9"
   },
   "outputs": [
    {
     "data": {
      "text/html": [
       "<div>\n",
       "<style scoped>\n",
       "    .dataframe tbody tr th:only-of-type {\n",
       "        vertical-align: middle;\n",
       "    }\n",
       "\n",
       "    .dataframe tbody tr th {\n",
       "        vertical-align: top;\n",
       "    }\n",
       "\n",
       "    .dataframe thead th {\n",
       "        text-align: right;\n",
       "    }\n",
       "</style>\n",
       "<table border=\"1\" class=\"dataframe\">\n",
       "  <thead>\n",
       "    <tr style=\"text-align: right;\">\n",
       "      <th></th>\n",
       "      <th>word_count</th>\n",
       "    </tr>\n",
       "  </thead>\n",
       "  <tbody>\n",
       "    <tr>\n",
       "      <th>count</th>\n",
       "      <td>494.000000</td>\n",
       "    </tr>\n",
       "    <tr>\n",
       "      <th>mean</th>\n",
       "      <td>1656.002024</td>\n",
       "    </tr>\n",
       "    <tr>\n",
       "      <th>std</th>\n",
       "      <td>10245.835283</td>\n",
       "    </tr>\n",
       "    <tr>\n",
       "      <th>min</th>\n",
       "      <td>1.000000</td>\n",
       "    </tr>\n",
       "    <tr>\n",
       "      <th>25%</th>\n",
       "      <td>1.000000</td>\n",
       "    </tr>\n",
       "    <tr>\n",
       "      <th>50%</th>\n",
       "      <td>499.500000</td>\n",
       "    </tr>\n",
       "    <tr>\n",
       "      <th>75%</th>\n",
       "      <td>1273.750000</td>\n",
       "    </tr>\n",
       "    <tr>\n",
       "      <th>max</th>\n",
       "      <td>222278.000000</td>\n",
       "    </tr>\n",
       "  </tbody>\n",
       "</table>\n",
       "</div>"
      ],
      "text/plain": [
       "          word_count\n",
       "count     494.000000\n",
       "mean     1656.002024\n",
       "std     10245.835283\n",
       "min         1.000000\n",
       "25%         1.000000\n",
       "50%       499.500000\n",
       "75%      1273.750000\n",
       "max    222278.000000"
      ]
     },
     "execution_count": 25,
     "metadata": {
      "tags": []
     },
     "output_type": "execute_result"
    }
   ],
   "source": [
    "data['word_count'] = [len(text.split(' ')) for text in data['text']]\n",
    "pd.DataFrame(data['word_count']).describe()"
   ]
  },
  {
   "cell_type": "code",
   "execution_count": 26,
   "metadata": {
    "colab": {
     "base_uri": "https://localhost:8080/",
     "height": 196
    },
    "colab_type": "code",
    "id": "k2SWKHH_e9vj",
    "outputId": "deec7424-6a13-42c6-a415-ced662fd8dc2"
   },
   "outputs": [
    {
     "data": {
      "text/html": [
       "<div>\n",
       "<style scoped>\n",
       "    .dataframe tbody tr th:only-of-type {\n",
       "        vertical-align: middle;\n",
       "    }\n",
       "\n",
       "    .dataframe tbody tr th {\n",
       "        vertical-align: top;\n",
       "    }\n",
       "\n",
       "    .dataframe thead th {\n",
       "        text-align: right;\n",
       "    }\n",
       "</style>\n",
       "<table border=\"1\" class=\"dataframe\">\n",
       "  <thead>\n",
       "    <tr style=\"text-align: right;\">\n",
       "      <th></th>\n",
       "      <th>Title</th>\n",
       "      <th>age</th>\n",
       "      <th>posted_by_user</th>\n",
       "      <th>URL</th>\n",
       "      <th>domain</th>\n",
       "      <th>num_upvotes</th>\n",
       "      <th>comments</th>\n",
       "      <th>text</th>\n",
       "      <th>exception</th>\n",
       "      <th>word_count</th>\n",
       "    </tr>\n",
       "  </thead>\n",
       "  <tbody>\n",
       "    <tr>\n",
       "      <th>0</th>\n",
       "      <td>Robocallers face fight on many fronts</td>\n",
       "      <td>0 minutes ago</td>\n",
       "      <td>petercooper</td>\n",
       "      <td>https://www.axios.com/robocalls-fcc-congress-t...</td>\n",
       "      <td>phoronix.com</td>\n",
       "      <td>1 point</td>\n",
       "      <td>\\n1 point by petercooper 0 minutes ago  | hide...</td>\n",
       "      <td>federal regulators lawmakers and private compa...</td>\n",
       "      <td></td>\n",
       "      <td>202</td>\n",
       "    </tr>\n",
       "    <tr>\n",
       "      <th>1</th>\n",
       "      <td>World's First and Only Hackproof Site</td>\n",
       "      <td>0 minutes ago</td>\n",
       "      <td>hhs</td>\n",
       "      <td>http://hackprooftechnologies.com/index.html</td>\n",
       "      <td>axios.com</td>\n",
       "      <td>1 point</td>\n",
       "      <td>\\n1 point by hhs 0 minutes ago  | hide | past ...</td>\n",
       "      <td>in the news</td>\n",
       "      <td></td>\n",
       "      <td>3</td>\n",
       "    </tr>\n",
       "  </tbody>\n",
       "</table>\n",
       "</div>"
      ],
      "text/plain": [
       "                                   Title            age  ... exception word_count\n",
       "0  Robocallers face fight on many fronts  0 minutes ago  ...                  202\n",
       "1  World's First and Only Hackproof Site  0 minutes ago  ...                    3\n",
       "\n",
       "[2 rows x 10 columns]"
      ]
     },
     "execution_count": 26,
     "metadata": {
      "tags": []
     },
     "output_type": "execute_result"
    }
   ],
   "source": [
    "data.head(2)"
   ]
  },
  {
   "cell_type": "code",
   "execution_count": 0,
   "metadata": {
    "colab": {},
    "colab_type": "code",
    "id": "CpXNElx-e9uG"
   },
   "outputs": [],
   "source": [
    "from nltk.stem.snowball import SnowballStemmer\n",
    "\n",
    "stemmer = SnowballStemmer(\"english\")"
   ]
  },
  {
   "cell_type": "code",
   "execution_count": 0,
   "metadata": {
    "colab": {},
    "colab_type": "code",
    "id": "8Z382PGqe9pu"
   },
   "outputs": [],
   "source": [
    "def tokenize_and_stem(doc, remove_stopwords = True):\n",
    "    # first tokenize by sentence, then by word to ensure that punctuation is caught as it's own token\n",
    "    if remove_stopwords:\n",
    "        tokens = [word.text for word in doc if not word.is_stop]\n",
    "    else:\n",
    "        tokens = [word.text for word in doc]\n",
    "\n",
    "    filtered_tokens = []\n",
    "    # filter out any tokens not containing letters (e.g., numeric tokens, raw punctuation)\n",
    "    for token in tokens:\n",
    "        if re.search('[a-zA-Z]', token):\n",
    "            filtered_tokens.append(token)\n",
    "\n",
    "    stems = [stemmer.stem(t) for t in filtered_tokens]\n",
    "    return stems\n",
    "\n",
    "def tokenize_and_lemmatize(doc, remove_stopwords = True):\n",
    "    \n",
    "    if remove_stopwords:\n",
    "        tokens = [word for word in doc if not word.is_stop]\n",
    "    else:\n",
    "        tokens = [word for word in doc]\n",
    "        \n",
    "    filtered_tokens = []\n",
    "    # filter out any tokens not containing letters (e.g., numeric tokens, raw punctuation)\n",
    "    for token in tokens:\n",
    "        if re.search('[a-zA-Z]', token.text):\n",
    "            filtered_tokens.append(token)\n",
    "            \n",
    "    lemma = [t.lemma_ for t in filtered_tokens]\n",
    "    return lemma\n",
    "\n",
    "\n",
    "def tokenize_only(doc, remove_stopwords = True):\n",
    "    \n",
    "    if remove_stopwords:\n",
    "        tokens = [word.text for word in doc if not word.is_stop]\n",
    "    else:\n",
    "        tokens = [word.text for word in doc]\n",
    "    filtered_tokens = []\n",
    "    # filter out any tokens not containing letters (e.g., numeric tokens, raw punctuation)\n",
    "    for token in tokens:\n",
    "        if re.search('[a-zA-Z]', token):\n",
    "            filtered_tokens.append(token)\n",
    "    return filtered_tokens"
   ]
  },
  {
   "cell_type": "code",
   "execution_count": 0,
   "metadata": {
    "colab": {},
    "colab_type": "code",
    "id": "qGoQFmiDe9oF"
   },
   "outputs": [],
   "source": [
    "import spacy\n",
    "nlp=spacy.load('en_core_web_sm')\n",
    "nlp.max_length = 10000000"
   ]
  },
  {
   "cell_type": "code",
   "execution_count": 0,
   "metadata": {
    "colab": {},
    "colab_type": "code",
    "id": "V9yzhvBQe9jW"
   },
   "outputs": [],
   "source": [
    "import nltk\n",
    "from nltk import word_tokenize,sent_tokenize\n",
    "from nltk.stem import PorterStemmer,WordNetLemmatizer"
   ]
  },
  {
   "cell_type": "code",
   "execution_count": 36,
   "metadata": {
    "colab": {
     "base_uri": "https://localhost:8080/",
     "height": 598
    },
    "colab_type": "code",
    "id": "Wa3wOZqcn1Nv",
    "outputId": "ee09e036-050d-4ef7-9e13-2ae6fc0e11cb"
   },
   "outputs": [
    {
     "name": "stdout",
     "output_type": "stream",
     "text": [
      "\r",
      "⠙ Loading compatibility table...\r",
      "\u001b[2K\u001b[38;5;2m✔ Loaded compatibility table\u001b[0m\n",
      "\u001b[1m\n",
      "====================== Installed models (spaCy v2.2.3) ======================\u001b[0m\n",
      "\u001b[38;5;4mℹ spaCy installation: /usr/local/lib/python3.6/dist-packages/spacy\u001b[0m\n",
      "\n",
      "TYPE      NAME             MODEL            VERSION                            \n",
      "package   en-core-web-sm   en_core_web_sm   \u001b[38;5;2m2.2.5\u001b[0m   \u001b[38;5;2m✔\u001b[0m\n",
      "\n",
      "Requirement already satisfied: en_core_web_sm==2.2.5 from https://github.com/explosion/spacy-models/releases/download/en_core_web_sm-2.2.5/en_core_web_sm-2.2.5.tar.gz#egg=en_core_web_sm==2.2.5 in /usr/local/lib/python3.6/dist-packages (2.2.5)\n",
      "Requirement already satisfied: spacy>=2.2.2 in /usr/local/lib/python3.6/dist-packages (from en_core_web_sm==2.2.5) (2.2.3)\n",
      "Requirement already satisfied: murmurhash<1.1.0,>=0.28.0 in /usr/local/lib/python3.6/dist-packages (from spacy>=2.2.2->en_core_web_sm==2.2.5) (1.0.2)\n",
      "Requirement already satisfied: preshed<3.1.0,>=3.0.2 in /usr/local/lib/python3.6/dist-packages (from spacy>=2.2.2->en_core_web_sm==2.2.5) (3.0.2)\n",
      "Requirement already satisfied: numpy>=1.15.0 in /usr/local/lib/python3.6/dist-packages (from spacy>=2.2.2->en_core_web_sm==2.2.5) (1.17.4)\n",
      "Requirement already satisfied: cymem<2.1.0,>=2.0.2 in /usr/local/lib/python3.6/dist-packages (from spacy>=2.2.2->en_core_web_sm==2.2.5) (2.0.3)\n",
      "Requirement already satisfied: wasabi<1.1.0,>=0.4.0 in /usr/local/lib/python3.6/dist-packages (from spacy>=2.2.2->en_core_web_sm==2.2.5) (0.4.2)\n",
      "Requirement already satisfied: thinc<7.4.0,>=7.3.0 in /usr/local/lib/python3.6/dist-packages (from spacy>=2.2.2->en_core_web_sm==2.2.5) (7.3.1)\n",
      "Requirement already satisfied: setuptools in /usr/local/lib/python3.6/dist-packages (from spacy>=2.2.2->en_core_web_sm==2.2.5) (42.0.2)\n",
      "Requirement already satisfied: srsly<1.1.0,>=0.1.0 in /usr/local/lib/python3.6/dist-packages (from spacy>=2.2.2->en_core_web_sm==2.2.5) (0.2.0)\n",
      "Requirement already satisfied: catalogue<1.1.0,>=0.0.7 in /usr/local/lib/python3.6/dist-packages (from spacy>=2.2.2->en_core_web_sm==2.2.5) (0.0.8)\n",
      "Requirement already satisfied: blis<0.5.0,>=0.4.0 in /usr/local/lib/python3.6/dist-packages (from spacy>=2.2.2->en_core_web_sm==2.2.5) (0.4.1)\n",
      "Requirement already satisfied: plac<1.2.0,>=0.9.6 in /usr/local/lib/python3.6/dist-packages (from spacy>=2.2.2->en_core_web_sm==2.2.5) (0.9.6)\n",
      "Requirement already satisfied: requests<3.0.0,>=2.13.0 in /usr/local/lib/python3.6/dist-packages (from spacy>=2.2.2->en_core_web_sm==2.2.5) (2.21.0)\n",
      "Requirement already satisfied: tqdm<5.0.0,>=4.10.0 in /usr/local/lib/python3.6/dist-packages (from thinc<7.4.0,>=7.3.0->spacy>=2.2.2->en_core_web_sm==2.2.5) (4.28.1)\n",
      "Requirement already satisfied: importlib-metadata>=0.20; python_version < \"3.8\" in /usr/local/lib/python3.6/dist-packages (from catalogue<1.1.0,>=0.0.7->spacy>=2.2.2->en_core_web_sm==2.2.5) (1.2.0)\n",
      "Requirement already satisfied: idna<2.9,>=2.5 in /usr/local/lib/python3.6/dist-packages (from requests<3.0.0,>=2.13.0->spacy>=2.2.2->en_core_web_sm==2.2.5) (2.8)\n",
      "Requirement already satisfied: chardet<3.1.0,>=3.0.2 in /usr/local/lib/python3.6/dist-packages (from requests<3.0.0,>=2.13.0->spacy>=2.2.2->en_core_web_sm==2.2.5) (3.0.4)\n",
      "Requirement already satisfied: urllib3<1.25,>=1.21.1 in /usr/local/lib/python3.6/dist-packages (from requests<3.0.0,>=2.13.0->spacy>=2.2.2->en_core_web_sm==2.2.5) (1.24.3)\n",
      "Requirement already satisfied: certifi>=2017.4.17 in /usr/local/lib/python3.6/dist-packages (from requests<3.0.0,>=2.13.0->spacy>=2.2.2->en_core_web_sm==2.2.5) (2019.11.28)\n",
      "Requirement already satisfied: zipp>=0.5 in /usr/local/lib/python3.6/dist-packages (from importlib-metadata>=0.20; python_version < \"3.8\"->catalogue<1.1.0,>=0.0.7->spacy>=2.2.2->en_core_web_sm==2.2.5) (0.6.0)\n",
      "Requirement already satisfied: more-itertools in /usr/local/lib/python3.6/dist-packages (from zipp>=0.5->importlib-metadata>=0.20; python_version < \"3.8\"->catalogue<1.1.0,>=0.0.7->spacy>=2.2.2->en_core_web_sm==2.2.5) (8.0.0)\n",
      "\u001b[38;5;2m✔ Download and installation successful\u001b[0m\n",
      "You can now load the model via spacy.load('en_core_web_sm')\n",
      "\u001b[31mERROR: Invalid requirement: 'scispacy.'\u001b[0m\n"
     ]
    }
   ],
   "source": [
    "!python -m spacy validate\n",
    "!python -m spacy download en_core_web_sm\n",
    "!pip install scispacy.\n"
   ]
  },
  {
   "cell_type": "code",
   "execution_count": 0,
   "metadata": {
    "colab": {},
    "colab_type": "code",
    "id": "eYjQ0mzue9hZ"
   },
   "outputs": [],
   "source": [
    "data['newtext'] = data['text'].apply(nlp)"
   ]
  },
  {
   "cell_type": "code",
   "execution_count": 42,
   "metadata": {
    "colab": {
     "base_uri": "https://localhost:8080/",
     "height": 54
    },
    "colab_type": "code",
    "id": "73F50ETGe9dR",
    "outputId": "bb2b97bc-a3d2-48aa-8a1c-a4da8dcec5d8"
   },
   "outputs": [
    {
     "data": {
      "text/plain": [
       "from micro stays in rustic off grid cabins to alpine hiking in piedmont and feasts of soft feta and local olives on small greek islands these are the travel trends we predict for by rhiannon batten charlotte morgan looking for travel inspiration for want to know which countries to visit on holiday from uk staycations to wellness retreats in the french alps these are the top trips to take in we ve long been fans of europe s foodie heartlands here at olive whether that s warming up with paprika laced stews in budapest travelling vicariously to warsaw via foodren s recipe for polish gingerbread biscuits rifle through your back catalogue and you ll find it in the christmas issue or revelling in a dish of meltingly tender roebuck with twice smoked apple sauce buttery bread soufflé and birch syrup at chef ana roš destination restaurant hiša franko in slovenia we predict that more people will be discovering central europe s culinary corners in if you haven t yet been there we suggest you start in ljubljana and continuing further east to the caucasus and beyond sharp eyed readers will remember the edentravels feature we ran on the black sea in the christmas issue and her descriptions of the heirloom recipes that blend the best of georgian russian turkish bulgarian romanian and ukranian food culture shout out to that deliciously lemony bankers fish soup it s the last two countries in that list that our money is on for enjoying the largest surge in visitor numbers the forthcoming publication of irina georgescu s cookbook carpathia food from the heart of romania look out for irina s upcoming feature in the magazine and olia hercules next release summer kitchens a much anticipated window onto regional cooking culture in the ukraine will no doubt tempt more of us to visit those two countries turns out we holidaymakers like to immerse ourselves in new places whether that be picking botanicals for diy gin in skye or joining an italian food photography workshop in sardinia expect even the most mainstream travel brands to embrace the experiential travel trend this coming year ramada by wyndham recently launched its own series of local insider experiences for guests called discovering red the aim is to encourage travellers to better explore their destination in germany s flensburg for example you can discover the town s year old rum making history on a distillery tour then taste flensburg s best rums in the comfort of the hotel bar elsewhere this immersive approach has already taken off in saint lucia for instance guests at boucan hotel chocolat s hotel are encouraged to visit the adjoining year old cocoa plantation with bean to bar tours that literally walk guests through the production process and the very purpose of salt a new community centred food focussed environmentally savvy resort on the east coast of mauritius is to provide authentic experiences for culturally curious travellers cocktails at the bar come with background stories relating to the island s heritage and everything from supper with a mauritian family to fishing trips with a local fisherman can be arranged no this isn t a bad joke about the return of top gun to our screens after a three decade gap the sequel will be released in july but the much welcomed rise of cheese tourism we ve had brewery tours distillery tours farm tours and vineyard tours but now it s the turn of dairy tourism bucking the vegan trend an increasing number of cheesemakers and creameries are opening their doors to visitors keen to seek out the finest regional small batch artisan cheeses we re big fans of cult cheese shops that host tastings and wine beer or cider pairing events such as edinburgh s ij mellis and london s mons cheesemongers and cheese focused bars don t miss palmer street bottle in frome exclusive dairy tours we re thinking of you quicke s and cheese making courses such as that at the school of artisan food are also guaranteed ways to our hearts as are festivals such as westcombe s annual beer and cheese festival pop up cheese events have you been to the london cheese project or one of homage fromage s tastings yet and even whole holidays arranged around cheese courtesy of the folk at cheese journeys not sure where to get on board with this latest turophile trend make yourself a cheese toastie and sit down to read about our visit to one of somerset s most inspiring cheese makers another trend powered by climate change concerns is that of eliminating air travel from our holidays or at least rationing ourselves the mantra many of us are adopting is to fly less and to stay longer when we do to cut down on carbon emissions getting further afield means embracing train and ferry travel easy enough to weekend break destinations just across the channel such as amsterdam paris and utrecht if you want to plan a longer flight free holiday it s now surprisingly easy to reach many short haul destinations from the uk including the mediterranean take the train to the french spanish or italian coasts and then catch a ferry across the sea especially in summer when many operators put on faster vessels you can get to corsica for instance in a few hours from nice ditto ibiza from valencia it s usually still quicker and cheaper to fly of course but much less fun to plan a rail and ferry journey from the uk see seat com and to book tickets try raileurope for trains and direct ferries for trains it s always been a popular holiday destination but greece is set for a renewed influx in head to athens for street food join the queue at hole in the wall o kostas for the best souvlaki fresh greek mountain oregano from the city s central market fish steamed in assyrtiko wine at new wave bistro vizene and scented tsoureki brioche from afoi asimakopouloi a pastry shop that uses its own milk and butter in every bake or step away from the crowds and discover new flavours in the country s pelion peninsula visit six keys hotel in afyssos for one of the country s best high end restaurants where greek chef ioannis baxevanis uses foraged ingredients in dishes such as sea urchin with chives and tarama mousse on the east coast there s even a b b devoted to mushrooms guests at amanita are guided through local beech and chestnut forests to find their own penny bun black porcini parasol and caesar mushrooms the country s islands are also super hot right now the bigger showier destinations like santorini and mykonos will continue to pull in the crowds but for the best food we recommend seeking out the smaller islands take ithaca for example there you can beach hop by boat swim in dazzling cobalt waters and graze your way through meltingly soft feta local olives just caught fish and lemon tart the levendis estate is one of our favourite places to stay stocked as it is with local thyme honey own recipe muesli tapenade made from homegrown olives and plenty of sparkling coves nearby for swimming or sail to the island of syros to recuperate at the good life an aptly named organic retreat where you can help yourself to plums peaches and lemons from an on site farm check out our guide to the best greek island retreats for foodies to learn what else greece s enchanting archipelagos have to offer from freshly picked figs on an organic farm in syros to home cooked zucchini pie in corfu from rustic off grid cabins to bijoux one room hotels and tiny tropical villas finding time for two shouldn t be difficult in with the rise of micro retreats luckily for us it s easy to find romantic escapes that put an emphasis on good food the shack at sheepwash bay on tasmania s bruny island for example is as secluded as it gets but the owners still deliver freshly baked sourdough to your door enjoy it alongside fresh oysters foraged from the rocky waterfront right outside if your fantasies instead involve relaxing under the stars in a hot tub made from a vintage land rover book a stay at converted s caravan the bluebird penthouse in devon s high bickerton if you like us think devon will be big in check out our foodie guide to the land of cream teas here or go completely off grid at arnor the rangers hut a rustic wooden cabin hidden within an year old scottish forest the welcome basket of prosecco tablet of the fudge y kind shore puffs locally made seaweed puffs and inverness coffee roasting co coffee would make a perfect picnic to eat while stargazing instead of sunburnt and bloated choose to return rested and rejuvenated from your next holiday we re not fans of dieting or skinny anything at olive but nourishing the body through good food fitness and beautiful surroundings can only be a good thing from alpine hiking in piedmont with frequent gourmet picnic stops to surfing yoga and tiger nut muffins on a drift retreat in jersey we ve plenty of healthy holiday ideas for foodies right here among them is a mountain therapy holiday in the french alps that encourages guests to challenge that fondue and flaming san bucas apres ski stereotype participants stay in a cosy snow dusted eco lodge and spend their time taking part in snowga classes yoga in the snow relaxing in a wood fired hot tub striding out with some nordic walking and eating energising menus free from refined carbohydrates and sugar we ve reviewed pig hotels in devon and kent and on both occasions have been impressed by the kitchen gardens farm to fork restaurants and all round happy atmosphere which is why we can t wait for the next piglet the pig at harlyn bay to open near padstow in june it s indicative of an ever blossoming food scene in cornwall which has kept the county in the spotlight for many summers fowey is especially in vogue it may be small but you ll still find fresh crab and dill butter sarnies warm monkey muffins and pizzas topped with squid mussels and anchovies brand new to the town is fashionable fitzroy a riverside restaurant with black framed sash windows and an art deco typeface fill your table with fried sprats ray wing with chicken butter sauce raw sea bass with chilli and cucumber and red napa cabbage with plum and sesame we ve travelled the whole of west cornwall to find the best eating and drinking spots for you including raw chocolate pie in st ives squid ink linguine in penzance steaming bowls of thai fish stew at a cinema café in newyln and curried rice pudding in marazion and if you ve travelled all that way why not hop over to the isles of scilly while you re there its five inhabited islands promise sparkling turquoise seas silver sand beaches a slow lane atmosphere porcelain white crab and in season some of the best strawberries you ll ever taste the seven wonders of the world didn t get their reputations for nothing but in this era of instagram insatiability many of the world s biggest tourism destinations are struggling to cope with overtourism numbers of visitors far greater than their inherent infrastructure allows for thailand s maya bay has been closed to visitors indefinitely the faroes are closing temporarily for maintenance in april and cities such as venice and barcelona that are especially challenged by cruise ship visitors are either introducing or raising tourist taxes not just to deter tourists but to help fund the infrasturtcure and waste management services needed to host them a more mainstream awareness of these issues means there s likely to be a return to tourists actively choosing to venture off the beaten path in and a rash of undertourism posts on instagram on our wish list a tour of ireland s cider trail in county armargh a trip to germany s answer to the hamptons and an exploration of cafe culture in the armenian capital yerevan time to dust off your school french because it looks like we ll all be dreaming of crossing the channel in rick stein s secret france which aired on bbc in november studied each region in turn showcasing everything from salt cod in uzes a foodie town that we think will be big next year check out our guide to uzes here to garden fresh sorrel soup made in family kitchens across burgundy book wise look out for simply stellar french recipes a new french cookbook from jean imbert with a foreword written by jamie oliver that includes a recipe for slow cooked blanquette with roast carrots felicity cloake is another francophile who recently toured france on bike in search of definitive versions of classic french dishes you can listen to her olive magazine podcast on the subject here others like chef alex jackson owner of a french bistro in hoxton are putting a more modern spin on french cuisine alex s new cookbook sardine named after his restaurant focuses on cooking from provence and the languedoc what s refreshing is the way his fuss free recipes reinvent classics from a tuna potato egg and pepper sandwich that puts a harissa spiked twist on pan bagnat to roast bone marrow boats packed with snails and persillade and panna cotta with cherries poached in pastis if that doesn t have you jumping on the nearest cross channel ferry you re made of stronger willed stuff than us holidays aren t just for summer wrapping up warm and setting off on a wintry coastal walk is a revitalising way to start the year especially if it s at a blustery seaside resort like ventnor on the isle of wight the royal hotel serves an elegant afternoon tea all year round devon is particularly romantic when it s chilly out and you ll find better deals on decadent rooms outside the school holidays or summer months the cary arms squeezed inside the curve of babbacombe bay dates back to the s and feels custom designed to embrace its beachfront views book one of its beach huts for undisturbed panoramas of the moody english channel and take a trip on the nearby art deco babbacombe funicular railway open throughout winter aberdovey a picturesque estuary village in snowdonia on the west coast of wales has miles of wind whipped sand and dunes to explore all deserted outside the peak summer months take a stroll then hunker down at the trefeddian hotel with buttered bara brith homemade welsh cakes and a pot of tea still one of the lesser visited nordic destinations finland will surely get its moment in the spotlight this year though ethnically and linguistically distinct from the other nordic nations geographically the country is scandinavian through and through with the hygge credentials to match if you ve eaten cinnamon buns in stockholm drunk mikkeler in copenhagen and licked rye bread ice cream in reykjavik then it s time to hop to helsinki to sip some finnish salmon and potato soup lohikietto is pretty easy to make at home too in finland s seaside capital you can grab everything from colourful ceramic plates piled high with pickled cauliflower and lemon labneh to croissants filled with huge wedges of brie and strawberries stroll minutes or so round töölönlahti bay to its eastern shore and you ll come across a beautiful blue clapboard house tucked behind it set back from the water s edge is a tiny blue shed that s home to a charming café that sells finnish blueberry ice cream or hop on a little ferry from the southern shore of helsinki to reach skiffer a restaurant and party spot that sells chorizo and crayfish pizzas so large that they curl up at either end like a viking longboat fancy something equally nordic but more booze based we ve also rounded up the world s best beer based experiences which includes a brewery to brewery road trip along the norwegian coast sunshine seekers will find solace in turkey next year too in october olive travel editor rhiannon batten and digital editor alex crossley devoted a podcast to why istanbul is so hot right now it s the city s appealing mash up between old and new traditional tea houses and kebab shops nudge up against hip restaurants and cafés that make it so interesting and the club marvy resort in izmir is a great example of an easy family friendly sunshine soaked destination that caters better than the norm for foodies despite the resort stretching across hectares of hillside and beach the majority of ingredients cooked at its restaurants are plucked from owner ece tonbul s mother s organic hectare farm the breakfasts are particularly good feast on flaky boyos breads hummus sticky honey fresh cheese and sundried tomato dips alongside made to order eggs and turkish tea and coffee there s a waterpark and a busy list of activities to keep small people occupied while adults can make the most of pre dinner g ts laced with pomegranate seeds make way paris rome and new york next year is all about letting the little guys shine we spent much of unearthing lesser known foodie towns so that you can visit them in style starting with the uk we ve said it once and we ll say it again it s all about staycations dundee is high on our wish list check out our tips for where to eat and drink in the scottish city home to the million ship like v a dundee design museum including chef jamie scott s the newport which he opened after winning masterchef the professionals margate is also getting the attention it deserves olive editor laura rowe swears by peter s fish factory for the best fish n chips following the arrival of the turner gallery and the revival of dreamland a vintage style theme park check out our foodie guide to margate for loads more inspiration and don t miss our whitstable foodie guide if you re exploring more of kent across the pond swap new york or boston for little league places like maine s kennebunkport with its placid dock iconic colonial weatherboard houses some on stilts and lobster restaurants this is a place that lives up to a tourist s american dream visit during autumn when coastal maine shines with vibrant orange red and yellow foliage and stay at the white barn inn during the fall this charming hotel puts on a mighty display of pumpkins and squashes wraps corn husks around fences and decorates trees with twinkly fairy lights or rhode island s newport is the place to go for a glitzy hub of bobbing yachts age old wharfs and boardwalks stay at grace vanderbilt to enjoy yoga classes on the rooftop and a gatsby style restaurant it s really time to give malmö a go if you re into sweden but have already explored stockholm just a short hop over the bridge from copehangen malmö is a foodie s paradise thanks to local coffee shops hip bars and artisan food shops stocking some of the skåne region s finest produce special mention goes to noir kaffekultur coffee shop and its sauna smoked sourdough baguettes or visit gothenburg also in west sweden for giant cinnamon buns and fresh lemon sole at the city s fish market sticking to the fresh fish theme try traditional sushi crafted using the freshest scandinavian fish at hoze with only six seats at the counter this minimalist sushi bar is mighty difficult to get into if you re lucky enough to secure a spot you ll sample a traditional omakase menu that makes the most of foraged elderflowers unripe strawberries spruce shoots and scallops eating less meat has been a core trend of encouraging us all to live a more sustainable and planet friendly life if you re leading a vegetarian or vegan lifestyle or trying to choose plant based more often we ve got thousands of vegetarian and vegan recipes on our website olivemagazine com in we reckon it s going to be a whole lot easier to find plant based eats on holiday too from the uk s first per cent vegan hotel in scotland s pretty pitlochry read our review of saorsa to a goan hotel that serves homemade tofu and makes smoothies from nut milk you can read all about the world s best veggie and vegan hotels here even in paris where steak frites reign supreme you can eat at excellent vegetarian restaurants read our veggie paris guide here including jah jah by le tricycle which blends reggae vibes with flavourful rainbow hued ingredients don t miss its raw rolls with carrots beets and dakatine peanut dipping sauce there are plenty of vegan and vegetarian cookery courses to join if you feel your meat free kitchen skills need a reboot we love the idea of heading to the devonshire countryside for a day of vegetarian cooking at river cottage and malmö we re all about malmö can you tell has so many meat free restaurants that we ve devoted a whole feature to the best plant based spots in this edgy city we ve also got meat free guides to vancouver and new york and you can even go on an all vegan skiing holiday should you wish companies such as ski beat are now offering vegan menus for chalet guests never has it been so fashionable to holiday at home staycations cut down on travel time reduce carbon footprints support local economies and eliminate tiresome problems like jet lag back in august this year we wrote a whole feature on the best foodie towns to visit in the uk dive in if you re seeking a food adventure closer to home this year the croissants at bostock bakery in north berwick for example are so good that noma s rené redzepi sent his pastry chef from copenhagen to learn from bostock s ross baxter and in the lancashire market town of clitheroe you ll find a heaving cheese counter at holmes mill clitheroe s monumental new food hall we ve also noticed kent s coastal towns smartening up as they lure in a hip london crowd steering south on fast trains deal is the buzzy new kid on the block and is home to one of our favourite chippies middle street fish bar the uk self catering industry is also booming helped by the ever increasing popularity of sites like airbnb we narrowed uk holiday cottages down to our favourites earlier this year including loch an eilein cottage in the cairngorms with its double fronted wood burning stove and charming window seat looking out onto a neighbouring loch in the craggy lakeland fells above coniston you can bed down in beatrix potter s old home yew tree farm and eat at her original dining table and if you re heading to mounmouthshire the piggery is a cosy traditional farmyard cottage with its own hens that s breakfast sorted and an orchard outside the door step out of your comfort zone in it s one of our new year s resolutions from off grid glampsites in cornwall to glass roofed dens in wales and rustic hideaways in the west country we suggest that you spend cuddled up in a cosy british cabin start at kudhva an off grid glampsite near trebarwith strand four futuristic cabins on stilts are hidden amongst willow groves and dense woodland and each one has its own firepit stoke your own barbecue and drink locally made wines beers and gins from nearby hilltop farm shop for something really memorable drive an hour south of edinburgh check out the best places to eat and drink in the scottish capital here park up at berwickshire s cove harbour chuck your bags in a wheelbarrow and walk through a little tunnel to the blue cabin by the sea a cornflower blue bolthole that s tucked into the grasses above a tiny beach with its tv wi fi dishwasher and underfloor heating it s not technically off grid but it feels the part you can also buy crabs and lobsters direct from fishermen who head out from this spot every week day japan threw a memorable rugby world cup in warm hospitality good natured sportsmanship and inventive play from a team that reached the quarter final and tokyo is the host for next year s olympic games so expect a fresh surge of interest in the country next summer chef tim anderson shared his enthusiasm for tokyo in an olive magazine podcast earlier this year have a listen to discover the city s secret ramen bars and we ve picked our own top places to eat in japan s capital it s not just sushi although kyubey is the place to go for that tokyo is also great for cocktails head to gen yamamoto for smart concoctions made from hokkaidan grapes or sweet potato shochu and syrupy espressos from devoted joints such as bear pond espresso already in tokyo think about venturing further west when you re done to explore kyoto and osaka for a great introduction to kyoto and its yuzu sake high end kaiseki dinners and ramen vending machines check out our podcast episode here one of kyoto s favourite dishes yakitori basically skewered chicken has reached british shores in a big way so get cooking our miso glazed yakitori or salmon version with brown rice as soon as the new year hits we ve even got a guide to yakitori written by the experts at jidori restaurant in north east london if you want to prepare for the trend bake off star and regular olive contributor edd kimber loves osaka the second biggest japanese city after tokyo it s often referred to as the kitchen of japan so much so that there is even a local maxim kuidaore which means to eat yourself into bankruptcy check out edd s foodie guide to osaka which includes the best places to go for takoyaki molten balls filled with chunks of octopus and fish shaped waffles called taiyaki we challenge you not to feel zen after a stay at oman s six senses zighy bay a destination resort in the country s musandam peninsula set among date palms pomegranate and fig trees six senses welcomes guests with a date smoothie made from the fruits of the resort s own palms chill in your private majlis a shady outdoor lounging area wander around the vast kitchen garden take a farm tour or just swim in the sea then walk barefoot along the beach for dinner at the shua shak this breezy bedouin style restaurant is set under a simple palm leaf canopy and serves a simple set menu that ends with pistachio flecked kanafeh and starts with a mezze style spread of hummus baba ganoush pickles olives flatbread and filo wrapped deep fried akawi cheese a feta like cheese first made in palestine but now produced across the middle east it s the main course that everyone comes for though shuwa flaky lamb that s been marinated for hours in olive oil date syrup bay leaves onion garlic carrot cinnamon anise cumin and rosemary then wrapped in banana leaves and foil and cooked on coals in a pit under the sand for seven hours despite being served within a luxury resort the lamb dish is a true taste of omani food culture food that s deeply rooted in place made with care and unique to the destination is what we ve long been all about at olive whether that s tasting the most exquisite handmade pastries in paris visiting a co operative in morocco that specialises in hand rolled couscous learning about sobrasada on a cooking class in mallorca tracking down the best falafels in beirut tasting woody wild mountain tea in taiwan or hanging out with pasta grannies in sardinia we reckon that will be the year that everyone else catches on to the diversity and sheer greedy joy of slowfoodtravel words by rhiannon batten and charlotte morgan issues for from homemade bottled cocktails to garnish kits and gin themed getaways we ve got you covered after eight cake jerk turkey and all you need for festive entertaining"
      ]
     },
     "execution_count": 42,
     "metadata": {
      "tags": []
     },
     "output_type": "execute_result"
    }
   ],
   "source": [
    "data['newtext'][10]"
   ]
  },
  {
   "cell_type": "code",
   "execution_count": 0,
   "metadata": {
    "colab": {},
    "colab_type": "code",
    "id": "iMcjey0Ce9bB"
   },
   "outputs": [],
   "source": [
    "data['tokens']=[token.text for token in data['newtext']] "
   ]
  },
  {
   "cell_type": "code",
   "execution_count": 44,
   "metadata": {
    "colab": {
     "base_uri": "https://localhost:8080/",
     "height": 68
    },
    "colab_type": "code",
    "id": "0oh2VhVHft_f",
    "outputId": "1c0c11c0-5290-4404-ebb3-96f1999758c6"
   },
   "outputs": [
    {
     "data": {
      "text/plain": [
       "0    (federal, regulators, lawmakers, and, private,...\n",
       "1                                      (in, the, news)\n",
       "Name: newtext, dtype: object"
      ]
     },
     "execution_count": 44,
     "metadata": {
      "tags": []
     },
     "output_type": "execute_result"
    }
   ],
   "source": [
    "data.newtext.head(2)"
   ]
  },
  {
   "cell_type": "code",
   "execution_count": 0,
   "metadata": {
    "colab": {},
    "colab_type": "code",
    "id": "THS04RjMft8U"
   },
   "outputs": [],
   "source": [
    "from spacy.lang.en.stop_words import STOP_WORDS"
   ]
  },
  {
   "cell_type": "code",
   "execution_count": 0,
   "metadata": {
    "colab": {},
    "colab_type": "code",
    "id": "JKR3X5hAft5U"
   },
   "outputs": [],
   "source": [
    "def tokenize_and_stem(doc, remove_stopwords = True):\n",
    "    # first tokenize by sentence, then by word to ensure that punctuation is caught as it's own token\n",
    "    if remove_stopwords:\n",
    "        tokens = [word.text for word in doc if not word.is_stop]\n",
    "    else:\n",
    "        tokens = [word.text for word in doc]\n",
    "\n",
    "    filtered_tokens = []\n",
    "    # filter out any tokens not containing letters (e.g., numeric tokens, raw punctuation)\n",
    "    for token in tokens:\n",
    "        if re.search('[a-zA-Z]', token):\n",
    "            filtered_tokens.append(token)\n",
    "\n",
    "    stems = [stemmer.stem(t) for t in filtered_tokens]\n",
    "    return stems"
   ]
  },
  {
   "cell_type": "code",
   "execution_count": 0,
   "metadata": {
    "colab": {},
    "colab_type": "code",
    "id": "zULntKvOft3K"
   },
   "outputs": [],
   "source": [
    " data['tokenize_and_stem']=data['newtext'].apply(tokenize_and_stem)"
   ]
  },
  {
   "cell_type": "code",
   "execution_count": 48,
   "metadata": {
    "colab": {
     "base_uri": "https://localhost:8080/",
     "height": 119
    },
    "colab_type": "code",
    "id": "QA2HupOcftz4",
    "outputId": "509f7464-0c31-491e-f50a-cd6f05a84005"
   },
   "outputs": [
    {
     "data": {
      "text/plain": [
       "0    [feder, regul, lawmak, privat, compani, haven,...\n",
       "1                                               [news]\n",
       "2                                                   []\n",
       "3                  [user, account, post, comment, log]\n",
       "4    [dtolnay, david, tolnay, role, work, day, help...\n",
       "Name: tokenize_and_stem, dtype: object"
      ]
     },
     "execution_count": 48,
     "metadata": {
      "tags": []
     },
     "output_type": "execute_result"
    }
   ],
   "source": [
    "data['tokenize_and_stem'].head(5)"
   ]
  },
  {
   "cell_type": "code",
   "execution_count": 0,
   "metadata": {
    "colab": {},
    "colab_type": "code",
    "id": "UmAv2o9Bf_Zt"
   },
   "outputs": [],
   "source": [
    "def tokenize_and_lemmatize(doc, remove_stopwords = True):\n",
    "    \n",
    "    if remove_stopwords:\n",
    "        tokens = [word for word in doc if not word.is_stop]\n",
    "    else:\n",
    "        tokens = [word for word in doc]\n",
    "        \n",
    "    filtered_tokens = []\n",
    "    # filter out any tokens not containing letters (e.g., numeric tokens, raw punctuation)\n",
    "    for token in tokens:\n",
    "        if re.search('[a-zA-Z]', token.text):\n",
    "            filtered_tokens.append(token)\n",
    "            \n",
    "    lemma = [t.lemma_ for t in filtered_tokens]\n",
    "    return lemma"
   ]
  },
  {
   "cell_type": "code",
   "execution_count": 0,
   "metadata": {
    "colab": {},
    "colab_type": "code",
    "id": "9spD1Jqhf_Xm"
   },
   "outputs": [],
   "source": [
    " data['tokenize_and_lemmatize']=data['newtext'].apply(tokenize_and_lemmatize)"
   ]
  },
  {
   "cell_type": "code",
   "execution_count": 51,
   "metadata": {
    "colab": {
     "base_uri": "https://localhost:8080/",
     "height": 564
    },
    "colab_type": "code",
    "id": "2_K-9Mzqf_Up",
    "outputId": "75f320ad-268a-4ea4-ea10-dfb1c4951b05"
   },
   "outputs": [
    {
     "data": {
      "text/html": [
       "<div>\n",
       "<style scoped>\n",
       "    .dataframe tbody tr th:only-of-type {\n",
       "        vertical-align: middle;\n",
       "    }\n",
       "\n",
       "    .dataframe tbody tr th {\n",
       "        vertical-align: top;\n",
       "    }\n",
       "\n",
       "    .dataframe thead th {\n",
       "        text-align: right;\n",
       "    }\n",
       "</style>\n",
       "<table border=\"1\" class=\"dataframe\">\n",
       "  <thead>\n",
       "    <tr style=\"text-align: right;\">\n",
       "      <th></th>\n",
       "      <th>Title</th>\n",
       "      <th>age</th>\n",
       "      <th>posted_by_user</th>\n",
       "      <th>URL</th>\n",
       "      <th>domain</th>\n",
       "      <th>num_upvotes</th>\n",
       "      <th>comments</th>\n",
       "      <th>text</th>\n",
       "      <th>exception</th>\n",
       "      <th>word_count</th>\n",
       "      <th>newtext</th>\n",
       "      <th>tokens</th>\n",
       "      <th>tokenize_and_stem</th>\n",
       "      <th>tokenize_and_lemmatize</th>\n",
       "    </tr>\n",
       "  </thead>\n",
       "  <tbody>\n",
       "    <tr>\n",
       "      <th>0</th>\n",
       "      <td>Robocallers face fight on many fronts</td>\n",
       "      <td>0 minutes ago</td>\n",
       "      <td>petercooper</td>\n",
       "      <td>https://www.axios.com/robocalls-fcc-congress-t...</td>\n",
       "      <td>phoronix.com</td>\n",
       "      <td>1 point</td>\n",
       "      <td>\\n1 point by petercooper 0 minutes ago  | hide...</td>\n",
       "      <td>federal regulators lawmakers and private compa...</td>\n",
       "      <td></td>\n",
       "      <td>202</td>\n",
       "      <td>(federal, regulators, lawmakers, and, private,...</td>\n",
       "      <td>federal regulators lawmakers and private compa...</td>\n",
       "      <td>[feder, regul, lawmak, privat, compani, haven,...</td>\n",
       "      <td>[federal, regulator, lawmaker, private, compan...</td>\n",
       "    </tr>\n",
       "    <tr>\n",
       "      <th>1</th>\n",
       "      <td>World's First and Only Hackproof Site</td>\n",
       "      <td>0 minutes ago</td>\n",
       "      <td>hhs</td>\n",
       "      <td>http://hackprooftechnologies.com/index.html</td>\n",
       "      <td>axios.com</td>\n",
       "      <td>1 point</td>\n",
       "      <td>\\n1 point by hhs 0 minutes ago  | hide | past ...</td>\n",
       "      <td>in the news</td>\n",
       "      <td></td>\n",
       "      <td>3</td>\n",
       "      <td>(in, the, news)</td>\n",
       "      <td>in the news</td>\n",
       "      <td>[news]</td>\n",
       "      <td>[news]</td>\n",
       "    </tr>\n",
       "    <tr>\n",
       "      <th>2</th>\n",
       "      <td>Affinity Profiling and Discrimination by Assoc...</td>\n",
       "      <td>1 minute ago</td>\n",
       "      <td>hexadec</td>\n",
       "      <td>https://poseidon01.ssrn.com/delivery.php?ID=19...</td>\n",
       "      <td>hackprooftechnologies.com</td>\n",
       "      <td>1 point</td>\n",
       "      <td>\\n1 point by hexadec 1 minute ago  | hide | pa...</td>\n",
       "      <td></td>\n",
       "      <td>HTTP Error 403: Forbidden</td>\n",
       "      <td>1</td>\n",
       "      <td>()</td>\n",
       "      <td></td>\n",
       "      <td>[]</td>\n",
       "      <td>[]</td>\n",
       "    </tr>\n",
       "    <tr>\n",
       "      <th>3</th>\n",
       "      <td>React Benefits: A Blessing for Businesses?</td>\n",
       "      <td>2 minutes ago</td>\n",
       "      <td>DyslexicAtheist</td>\n",
       "      <td>https://habr.com/en/post/480070/</td>\n",
       "      <td>ssrn.com</td>\n",
       "      <td>1 point</td>\n",
       "      <td>\\n1 point by DyslexicAtheist 2 minutes ago  | ...</td>\n",
       "      <td>only users with full accounts can post comment...</td>\n",
       "      <td></td>\n",
       "      <td>12</td>\n",
       "      <td>(only, users, with, full, accounts, can, post,...</td>\n",
       "      <td>only users with full accounts can post comment...</td>\n",
       "      <td>[user, account, post, comment, log]</td>\n",
       "      <td>[user, account, post, comment, log]</td>\n",
       "    </tr>\n",
       "    <tr>\n",
       "      <th>4</th>\n",
       "      <td>Soundness bugs in Rust libraries: can't live w...</td>\n",
       "      <td>3 minutes ago</td>\n",
       "      <td>martinlaz</td>\n",
       "      <td>https://docs.rs/dtolnay/0.0.7/dtolnay/macro._0...</td>\n",
       "      <td>technologyreview.com</td>\n",
       "      <td>1 point</td>\n",
       "      <td>\\n1 point by martinlaz 3 minutes ago  | hide |...</td>\n",
       "      <td>dtolnay by david tolnay my role at work these ...</td>\n",
       "      <td></td>\n",
       "      <td>1684</td>\n",
       "      <td>(dtolnay, by, david, tolnay, my, role, at, wor...</td>\n",
       "      <td>dtolnay by david tolnay my role at work these ...</td>\n",
       "      <td>[dtolnay, david, tolnay, role, work, day, help...</td>\n",
       "      <td>[dtolnay, david, tolnay, role, work, day, help...</td>\n",
       "    </tr>\n",
       "  </tbody>\n",
       "</table>\n",
       "</div>"
      ],
      "text/plain": [
       "                                               Title  ...                             tokenize_and_lemmatize\n",
       "0              Robocallers face fight on many fronts  ...  [federal, regulator, lawmaker, private, compan...\n",
       "1              World's First and Only Hackproof Site  ...                                             [news]\n",
       "2  Affinity Profiling and Discrimination by Assoc...  ...                                                 []\n",
       "3         React Benefits: A Blessing for Businesses?  ...                [user, account, post, comment, log]\n",
       "4  Soundness bugs in Rust libraries: can't live w...  ...  [dtolnay, david, tolnay, role, work, day, help...\n",
       "\n",
       "[5 rows x 14 columns]"
      ]
     },
     "execution_count": 51,
     "metadata": {
      "tags": []
     },
     "output_type": "execute_result"
    }
   ],
   "source": [
    "data.head(5)"
   ]
  },
  {
   "cell_type": "code",
   "execution_count": 54,
   "metadata": {
    "colab": {
     "base_uri": "https://localhost:8080/",
     "height": 204
    },
    "colab_type": "code",
    "id": "11s028Fef_RB",
    "outputId": "09122be6-0443-4e91-a82d-68bee48efe6f"
   },
   "outputs": [
    {
     "name": "stdout",
     "output_type": "stream",
     "text": [
      "in the news\n",
      "************************************************************\n",
      "\n",
      " tokenize_and_stem \n",
      "\n",
      "['user', 'account', 'post', 'comment', 'log']\n",
      "************************************************************\n",
      "\n",
      " tokenize_and_lemmatize \n",
      "\n",
      "['user', 'account', 'post', 'comment', 'log']\n"
     ]
    }
   ],
   "source": [
    "print(data['text'][1])\n",
    "print(\"************************************************************\")\n",
    "\n",
    "print(\"\\n tokenize_and_stem \\n\")\n",
    "print(data['tokenize_and_stem'][3])\n",
    "\n",
    "print(\"************************************************************\")\n",
    "print(\"\\n tokenize_and_lemmatize \\n\")\n",
    "print(data['tokenize_and_lemmatize'][3])"
   ]
  },
  {
   "cell_type": "code",
   "execution_count": 55,
   "metadata": {
    "colab": {
     "base_uri": "https://localhost:8080/",
     "height": 34
    },
    "colab_type": "code",
    "id": "3Rptf0aUf_PF",
    "outputId": "266e7822-02af-4d2b-8364-b3284bf36355"
   },
   "outputs": [
    {
     "data": {
      "text/plain": [
       "'news'"
      ]
     },
     "execution_count": 55,
     "metadata": {
      "tags": []
     },
     "output_type": "execute_result"
    }
   ],
   "source": [
    "data['tokenize_and_stem'] = [' '.join(text) for text in data['tokenize_and_stem']]\n",
    "data['tokenize_and_lemmatize'] = [' '.join(text) for text in data['tokenize_and_lemmatize']]\n",
    "data['tokenize_and_lemmatize'][1]"
   ]
  },
  {
   "cell_type": "code",
   "execution_count": 56,
   "metadata": {
    "colab": {
     "base_uri": "https://localhost:8080/",
     "height": 34
    },
    "colab_type": "code",
    "id": "2tbceTLWgYoL",
    "outputId": "260e4e3d-c7f6-4c82-f7b4-a77b98fc10ab"
   },
   "outputs": [
    {
     "name": "stdout",
     "output_type": "stream",
     "text": [
      "(494, 112)\n"
     ]
    }
   ],
   "source": [
    "from sklearn.feature_extraction.text import TfidfVectorizer\n",
    "\n",
    "#define vectorizer parameters\n",
    "tfidf_vectorizer = TfidfVectorizer(max_df=0.9, max_features=200,\n",
    "                                 min_df=0.2,\n",
    "                                 use_idf=True, ngram_range=(1,3))\n",
    "\n",
    "tfidf_matrix = tfidf_vectorizer.fit_transform(data['tokenize_and_lemmatize'])\n",
    "\n",
    "print(tfidf_matrix.shape)"
   ]
  },
  {
   "cell_type": "code",
   "execution_count": 57,
   "metadata": {
    "colab": {
     "base_uri": "https://localhost:8080/",
     "height": 51
    },
    "colab_type": "code",
    "id": "VIk3UGMygYgG",
    "outputId": "3e7930e9-b090-446c-bb48-8078f8af5c8f"
   },
   "outputs": [
    {
     "name": "stdout",
     "output_type": "stream",
     "text": [
      "<class 'list'>\n"
     ]
    },
    {
     "data": {
      "text/plain": [
       "['able', 'add', 'allow', 'article', 'ask']"
      ]
     },
     "execution_count": 57,
     "metadata": {
      "tags": []
     },
     "output_type": "execute_result"
    }
   ],
   "source": [
    "terms = tfidf_vectorizer.get_feature_names()\n",
    "print(type(terms))\n",
    "terms[:5]"
   ]
  },
  {
   "cell_type": "code",
   "execution_count": 0,
   "metadata": {
    "colab": {},
    "colab_type": "code",
    "id": "_M26b8dsgYdY"
   },
   "outputs": [],
   "source": [
    "import numpy as np\n",
    "import matplotlib.pyplot as plt\n",
    "from sklearn import metrics\n",
    "from sklearn.cluster import KMeans\n",
    "import joblib\n",
    "Sum_of_squared_distances = []\n",
    "K = range(1,10)\n",
    "for k in K:\n",
    "    kmeanModel = KMeans(n_clusters=k, random_state=143)\n",
    "    kmeanModel.fit(tfidf_matrix)\n",
    "    Sum_of_squared_distances.append(kmeanModel.inertia_)"
   ]
  },
  {
   "cell_type": "code",
   "execution_count": 59,
   "metadata": {
    "colab": {
     "base_uri": "https://localhost:8080/",
     "height": 346
    },
    "colab_type": "code",
    "id": "JfFlL0hNg57g",
    "outputId": "9567fc49-c4b3-4a02-acfe-cc4075249604"
   },
   "outputs": [
    {
     "name": "stderr",
     "output_type": "stream",
     "text": [
      "findfont: Font family ['normal'] not found. Falling back to DejaVu Sans.\n",
      "findfont: Font family ['normal'] not found. Falling back to DejaVu Sans.\n",
      "findfont: Font family ['normal'] not found. Falling back to DejaVu Sans.\n"
     ]
    },
    {
     "data": {
      "image/png": "[encoded data removed]",
      "text/plain": [
       "<Figure size 432x288 with 1 Axes>"
      ]
     },
     "metadata": {
      "tags": []
     },
     "output_type": "display_data"
    }
   ],
   "source": [
    "font = {'family' : 'normal',\n",
    "        'weight' : 'bold',\n",
    "        'size'   : 10}\n",
    "\n",
    "plt.rc('font', **font)\n",
    "plt.plot(K, Sum_of_squared_distances, 'bx-')\n",
    "plt.xlabel('k')\n",
    "plt.ylabel('Sum_of_squared_distances')\n",
    "plt.title('Elbow Method For Optimal k')\n",
    "plt.show()\n"
   ]
  },
  {
   "cell_type": "code",
   "execution_count": 60,
   "metadata": {
    "colab": {
     "base_uri": "https://localhost:8080/",
     "height": 1000
    },
    "colab_type": "code",
    "id": "RVm2oREog53j",
    "outputId": "4181809b-5232-4d68-c8f9-76053c42a2da"
   },
   "outputs": [
    {
     "name": "stdout",
     "output_type": "stream",
     "text": [
      "the cluster centers are [[2.91147548e-02 4.29582108e-02 3.70125034e-02 3.08672291e-02\n",
      "  2.34520374e-02 3.38347581e-02 4.93487492e-02 2.88977557e-02\n",
      "  5.23695746e-02 3.31988702e-02 4.34812583e-02 6.01562789e-02\n",
      "  7.44240116e-02 3.76355237e-02 5.60659854e-02 2.59928971e-02\n",
      "  3.20504347e-02 4.65860161e-02 7.87387841e-02 4.48640731e-02\n",
      "  6.11235659e-02 2.49947838e-02 3.87171952e-02 4.58275841e-02\n",
      "  2.94904640e-02 3.24629262e-02 4.62685058e-02 2.77951441e-02\n",
      "  4.72189329e-02 5.92722118e-02 4.15011874e-02 2.90469082e-02\n",
      "  3.51493915e-02 2.73242858e-02 3.61885064e-02 2.93099301e-02\n",
      "  3.62520194e-02 4.95829926e-02 3.07301830e-02 2.10817101e-02\n",
      "  4.18509541e-02 5.97508475e-02 4.36973872e-02 4.28757101e-02\n",
      "  3.50708651e-02 5.53241589e-02 4.02744756e-02 3.03856132e-02\n",
      "  3.04617658e-02 2.09757345e-02 3.03533476e-02 3.03499708e-02\n",
      "  8.88125058e-02 3.78000952e-02 4.50653219e-02 3.56203085e-02\n",
      "  3.60697716e-02 1.61526434e-02 7.47929105e-02 8.86358422e-02\n",
      "  2.85617362e-02 5.26254920e-02 3.54288232e-02 6.86486511e-02\n",
      "  2.63935197e-02 4.32652756e-02 3.17629406e-02 4.56422678e-02\n",
      "  4.27292331e-02 5.41006743e-02 4.52322332e-02 3.36532776e-02\n",
      "  4.42890742e-02 3.19152584e-02 3.37468880e-02 3.69362749e-02\n",
      "  4.43532104e-02 4.31635326e-02 1.84098633e-02 4.80875390e-02\n",
      "  4.66419648e-02 3.12161221e-02 2.40221728e-02 5.43982748e-02\n",
      "  4.83258345e-02 3.10346815e-02 4.31118587e-02 4.08687028e-02\n",
      "  4.32766023e-02 3.77994856e-02 4.79356409e-02 3.10031643e-02\n",
      "  5.08742665e-02 8.25593282e-02 3.98045255e-02 4.74502058e-02\n",
      "  2.81395704e-02 3.04418114e-02 4.82669956e-02 4.62154905e-02\n",
      "  1.08521476e-01 3.65920001e-02 2.28818354e-02 9.07570815e-02\n",
      "  7.67883658e-02 4.18852591e-02 4.07120480e-02 6.18429675e-02\n",
      "  1.04258400e-01 4.30635279e-02 3.78812750e-02 6.41320600e-02]\n",
      " [0.00000000e+00 1.89029690e-03 0.00000000e+00 1.97802576e-02\n",
      "  6.61044946e-04 4.84504336e-03 3.05832550e-03 1.80430511e-03\n",
      "  3.17131709e-03 0.00000000e+00 3.57512304e-03 0.00000000e+00\n",
      "  5.16123488e-03 4.12915304e-03 2.00041842e-03 0.00000000e+00\n",
      "  2.39748220e-03 1.36464103e-02 0.00000000e+00 2.42377363e-03\n",
      "  1.67952924e-03 6.87827351e-03 9.04940706e-04 0.00000000e+00\n",
      "  0.00000000e+00 4.66344429e-03 2.21958437e-03 2.81580958e-03\n",
      "  1.39918585e-02 4.32033189e-03 1.22675888e-03 2.95630687e-03\n",
      "  4.36962663e-03 7.85399769e-03 0.00000000e+00 7.38558629e-03\n",
      "  9.91885442e-04 0.00000000e+00 0.00000000e+00 0.00000000e+00\n",
      "  1.55772056e-02 3.73547080e-03 5.61052222e-03 2.24330119e-02\n",
      "  7.92257987e-03 1.21069025e-02 3.70640491e-03 5.57824858e-04\n",
      "  1.74505973e-03 2.24167913e-03 1.67692736e-02 2.42821061e-03\n",
      "  4.23280293e-03 1.71434465e-03 5.70497136e-04 0.00000000e+00\n",
      "  1.67811695e-03 5.04473110e-03 1.28056259e-02 1.38080824e-02\n",
      "  7.40211315e-03 0.00000000e+00 5.69602704e-04 2.01969480e-03\n",
      "  5.06715200e-04 1.07798279e-03 0.00000000e+00 9.09211989e-03\n",
      "  2.24035110e-03 7.65563232e-03 1.78343981e-02 9.81804847e-03\n",
      "  8.97073746e-03 9.70139122e-03 7.84734690e-03 0.00000000e+00\n",
      "  2.44630760e-03 5.21643422e-03 1.53659139e-02 5.92709851e-04\n",
      "  5.42998608e-04 1.12275790e-03 0.00000000e+00 2.69702710e-02\n",
      "  0.00000000e+00 3.65757172e-03 5.10310785e-04 4.86293430e-03\n",
      "  7.78484188e-03 9.56155403e-03 3.34914443e-03 1.46627549e-03\n",
      "  3.35674441e-02 0.00000000e+00 4.49479456e-04 0.00000000e+00\n",
      "  0.00000000e+00 2.08017815e-02 0.00000000e+00 0.00000000e+00\n",
      "  8.16159081e-04 0.00000000e+00 2.10219811e-03 7.89865522e-03\n",
      "  9.08337907e-03 5.58390613e-03 0.00000000e+00 2.26049337e-03\n",
      "  1.24455697e-03 1.14813523e-03 6.20641209e-03 6.04699048e-03]\n",
      " [2.32035979e-02 3.95804735e-02 2.61459326e-02 4.10396551e-02\n",
      "  3.56410437e-02 1.31705173e-02 3.47682246e-02 4.94607134e-02\n",
      "  1.85305638e-02 5.37753267e-02 3.78942698e-02 5.48359727e-02\n",
      "  1.67695527e-02 7.29536310e-02 1.47462689e-01 2.44524769e-02\n",
      "  3.25845676e-02 2.82553775e-02 3.78638341e-02 5.06106573e-02\n",
      "  2.93188037e-02 2.55842288e-02 2.71942134e-02 4.08692489e-02\n",
      "  2.61967350e-02 3.47304629e-02 1.50712429e-02 1.77894944e-02\n",
      "  2.31901065e-02 7.30989912e-02 2.76680515e-02 2.49372785e-02\n",
      "  2.51604032e-02 3.75784419e-02 4.24043844e-02 4.56980217e-02\n",
      "  6.91945841e-02 4.57694741e-02 1.78410810e-02 3.31350566e-02\n",
      "  5.55657823e-02 3.75916345e-02 6.28171884e-02 2.87114417e-02\n",
      "  4.09956375e-02 6.49740826e-02 4.40529556e-02 4.37510277e-02\n",
      "  1.73788782e-02 4.37308812e-02 2.29382598e-02 2.87765083e-02\n",
      "  8.45317464e-02 5.97991587e-02 5.18020329e-02 3.25636383e-02\n",
      "  2.88131488e-02 5.57270461e-02 4.52492871e-02 1.19517139e-01\n",
      "  2.04458056e-02 4.59978459e-02 2.56757928e-02 1.12359524e-01\n",
      "  3.87467733e-02 3.95179041e-02 2.35908799e-02 2.65678083e-02\n",
      "  3.85175719e-02 3.85590709e-02 3.18060595e-02 2.75535349e-02\n",
      "  2.17532790e-02 2.83487057e-02 8.12383543e-02 2.34955660e-02\n",
      "  5.22550786e-02 3.69430586e-02 2.08126841e-02 3.98696852e-02\n",
      "  2.95845499e-02 4.28914213e-01 2.98071586e-02 6.87565971e-02\n",
      "  2.70088090e-02 3.03445564e-02 3.14817589e-02 3.32726824e-02\n",
      "  2.12970090e-02 1.38366523e-02 3.71931589e-02 5.69308979e-02\n",
      "  4.17601543e-02 4.05574161e-02 3.90939716e-02 5.35817501e-02\n",
      "  9.10422588e-02 3.87347477e-02 3.47234152e-02 4.83023812e-02\n",
      "  9.97350436e-02 2.97431908e-02 3.74839573e-02 4.74223682e-02\n",
      "  3.59473625e-02 3.40050727e-02 5.94169296e-02 5.23726619e-02\n",
      "  6.07339964e-02 5.92252461e-02 5.46868972e-02 1.68018446e-01]\n",
      " [8.90279157e-03 4.31198645e-02 3.11377975e-02 0.00000000e+00\n",
      "  1.08943379e-02 6.26915636e-02 3.84472289e-02 1.39188746e-02\n",
      "  1.52269654e-01 2.08334662e-03 0.00000000e+00 3.01721977e-02\n",
      "  1.91567159e-01 1.15865118e-02 0.00000000e+00 0.00000000e+00\n",
      "  3.97407289e-03 3.81403288e-02 5.39072004e-02 0.00000000e+00\n",
      "  1.64201023e-02 1.35587017e-02 3.06379056e-02 8.47691341e-03\n",
      "  4.56620785e-02 5.62947795e-03 4.79162985e-02 5.39077058e-03\n",
      "  1.24754276e-02 2.98407680e-02 6.36812893e-02 5.74876318e-03\n",
      "  5.28310830e-03 0.00000000e+00 1.04545727e-02 1.27931643e-02\n",
      "  0.00000000e+00 7.40359297e-03 6.85809165e-03 4.52080077e-01\n",
      "  2.35065520e-02 2.43994041e-02 3.30649451e-02 3.09108635e-02\n",
      "  1.97521178e-02 7.14562744e-03 2.14671283e-03 8.82392445e-03\n",
      "  3.53003962e-02 0.00000000e+00 4.77978475e-03 4.74442547e-03\n",
      "  1.53041728e-02 9.02712175e-03 1.83671691e-02 2.23450821e-02\n",
      "  6.37242231e-03 1.16044853e-01 3.19038149e-02 1.06246570e-01\n",
      "  4.20283022e-02 1.17519246e-02 1.72689227e-02 9.87671165e-03\n",
      "  4.39858051e-03 1.30373540e-02 6.85947385e-03 2.44452171e-02\n",
      "  7.94409819e-03 1.85383925e-01 2.62341898e-02 3.12617990e-03\n",
      "  1.73866207e-02 1.25767919e-01 5.49712891e-03 3.36353736e-02\n",
      "  9.28789378e-03 2.45713563e-02 1.19104001e-01 0.00000000e+00\n",
      "  1.21510588e-01 0.00000000e+00 4.75917545e-03 0.00000000e+00\n",
      "  3.34650530e-02 1.10450921e-02 0.00000000e+00 1.84688556e-02\n",
      "  1.27265914e-01 3.13543069e-02 1.74358453e-02 1.12619587e-02\n",
      "  5.55090826e-02 2.08251178e-02 9.74960165e-03 0.00000000e+00\n",
      "  5.11457881e-03 1.06347418e-02 1.67831724e-02 0.00000000e+00\n",
      "  4.39883158e-02 4.30936451e-01 0.00000000e+00 2.01589223e-01\n",
      "  1.48735800e-02 0.00000000e+00 1.26625453e-01 1.70118266e-02\n",
      "  1.02342052e-01 7.92095623e-03 1.06342676e-02 0.00000000e+00]]\n"
     ]
    },
    {
     "data": {
      "text/plain": [
       "['doc_cluster_best_K.pkl']"
      ]
     },
     "execution_count": 60,
     "metadata": {
      "tags": []
     },
     "output_type": "execute_result"
    }
   ],
   "source": [
    "num_clusters = 4\n",
    "\n",
    "km = KMeans(n_clusters=num_clusters)\n",
    "\n",
    "km.fit(tfidf_matrix)\n",
    "clusters = km.labels_.tolist()\n",
    "centers = km.cluster_centers_\n",
    "print(f\"the cluster centers are {centers}\")\n",
    "\n",
    "joblib.dump(km,  'doc_cluster_best_K.pkl')"
   ]
  },
  {
   "cell_type": "code",
   "execution_count": 61,
   "metadata": {
    "colab": {
     "base_uri": "https://localhost:8080/",
     "height": 343
    },
    "colab_type": "code",
    "id": "W1rdtqqfg512",
    "outputId": "55ddd2d8-8a14-48f0-cba8-e92fd16f4ae8"
   },
   "outputs": [
    {
     "name": "stdout",
     "output_type": "stream",
     "text": [
      "Top terms per cluster:\n",
      "\n",
      "\n",
      "Top words in Cluster-0 :\n",
      "\n",
      "['time'],['work'],['use'],['like'],['new'],['system'],['datum'],['user'],['need'],['code'],['people'],['year'],['way'],['design'],['change'],['high'],['find'],['company'],['know'],['service'],\n",
      "\n",
      "Top words in Cluster-1 :\n",
      "\n",
      "['support'],['service'],['information'],['term'],['article'],['provide'],['let'],['help'],['review'],['feature'],['new'],['create'],['need'],['know'],['question'],['release'],['source'],['problem'],['user'],['read'],\n",
      "\n",
      "Top words in Cluster-2 :\n",
      "\n",
      "['say'],['year'],['company'],['new'],['people'],['time'],['tell'],['like'],['report'],['find'],['come'],['go'],['service'],['know'],['include'],['work'],['long'],['want'],['world'],['state'],\n",
      "\n",
      "Top words in Cluster-3 :\n",
      "\n",
      "['happen'],['try'],['use'],['code'],['project'],['build'],['software'],['want'],['release'],['run'],['review'],['million'],['new'],['work'],['follow'],['available'],['support'],['datum'],['example'],['easy'],"
     ]
    }
   ],
   "source": [
    "print(\"Top terms per cluster:\")\n",
    "order_centroids = km.cluster_centers_.argsort()[:, ::-1] \n",
    "for i in range(num_clusters):\n",
    "    print(\"\\n\")\n",
    "    print(\"Top words in Cluster-%d :\" % i, end='')\n",
    "    print(\"\\n\")\n",
    "    for ind in order_centroids[i, :20]: #replace 6 with n words per cluster\n",
    "        print('%s' % terms[ind].split(' '), end=',')"
   ]
  },
  {
   "cell_type": "code",
   "execution_count": 62,
   "metadata": {
    "colab": {
     "base_uri": "https://localhost:8080/",
     "height": 663
    },
    "colab_type": "code",
    "id": "7CTzP0D5g5y_",
    "outputId": "8097429c-09d1-41ae-d055-f9e2ebd96190"
   },
   "outputs": [
    {
     "data": {
      "text/html": [
       "<div>\n",
       "<style scoped>\n",
       "    .dataframe tbody tr th:only-of-type {\n",
       "        vertical-align: middle;\n",
       "    }\n",
       "\n",
       "    .dataframe tbody tr th {\n",
       "        vertical-align: top;\n",
       "    }\n",
       "\n",
       "    .dataframe thead th {\n",
       "        text-align: right;\n",
       "    }\n",
       "</style>\n",
       "<table border=\"1\" class=\"dataframe\">\n",
       "  <thead>\n",
       "    <tr style=\"text-align: right;\">\n",
       "      <th></th>\n",
       "      <th>Title</th>\n",
       "      <th>age</th>\n",
       "      <th>posted_by_user</th>\n",
       "      <th>URL</th>\n",
       "      <th>domain</th>\n",
       "      <th>num_upvotes</th>\n",
       "      <th>comments</th>\n",
       "      <th>text</th>\n",
       "      <th>exception</th>\n",
       "      <th>word_count</th>\n",
       "      <th>newtext</th>\n",
       "      <th>tokens</th>\n",
       "      <th>tokenize_and_stem</th>\n",
       "      <th>tokenize_and_lemmatize</th>\n",
       "      <th>cluster_group</th>\n",
       "    </tr>\n",
       "  </thead>\n",
       "  <tbody>\n",
       "    <tr>\n",
       "      <th>0</th>\n",
       "      <td>Robocallers face fight on many fronts</td>\n",
       "      <td>0 minutes ago</td>\n",
       "      <td>petercooper</td>\n",
       "      <td>https://www.axios.com/robocalls-fcc-congress-t...</td>\n",
       "      <td>phoronix.com</td>\n",
       "      <td>1 point</td>\n",
       "      <td>\\n1 point by petercooper 0 minutes ago  | hide...</td>\n",
       "      <td>federal regulators lawmakers and private compa...</td>\n",
       "      <td></td>\n",
       "      <td>202</td>\n",
       "      <td>(federal, regulators, lawmakers, and, private,...</td>\n",
       "      <td>federal regulators lawmakers and private compa...</td>\n",
       "      <td>feder regul lawmak privat compani haven t foun...</td>\n",
       "      <td>federal regulator lawmaker private company hav...</td>\n",
       "      <td>0</td>\n",
       "    </tr>\n",
       "    <tr>\n",
       "      <th>1</th>\n",
       "      <td>World's First and Only Hackproof Site</td>\n",
       "      <td>0 minutes ago</td>\n",
       "      <td>hhs</td>\n",
       "      <td>http://hackprooftechnologies.com/index.html</td>\n",
       "      <td>axios.com</td>\n",
       "      <td>1 point</td>\n",
       "      <td>\\n1 point by hhs 0 minutes ago  | hide | past ...</td>\n",
       "      <td>in the news</td>\n",
       "      <td></td>\n",
       "      <td>3</td>\n",
       "      <td>(in, the, news)</td>\n",
       "      <td>in the news</td>\n",
       "      <td>news</td>\n",
       "      <td>news</td>\n",
       "      <td>1</td>\n",
       "    </tr>\n",
       "    <tr>\n",
       "      <th>2</th>\n",
       "      <td>Affinity Profiling and Discrimination by Assoc...</td>\n",
       "      <td>1 minute ago</td>\n",
       "      <td>hexadec</td>\n",
       "      <td>https://poseidon01.ssrn.com/delivery.php?ID=19...</td>\n",
       "      <td>hackprooftechnologies.com</td>\n",
       "      <td>1 point</td>\n",
       "      <td>\\n1 point by hexadec 1 minute ago  | hide | pa...</td>\n",
       "      <td></td>\n",
       "      <td>HTTP Error 403: Forbidden</td>\n",
       "      <td>1</td>\n",
       "      <td>()</td>\n",
       "      <td></td>\n",
       "      <td></td>\n",
       "      <td></td>\n",
       "      <td>1</td>\n",
       "    </tr>\n",
       "    <tr>\n",
       "      <th>3</th>\n",
       "      <td>React Benefits: A Blessing for Businesses?</td>\n",
       "      <td>2 minutes ago</td>\n",
       "      <td>DyslexicAtheist</td>\n",
       "      <td>https://habr.com/en/post/480070/</td>\n",
       "      <td>ssrn.com</td>\n",
       "      <td>1 point</td>\n",
       "      <td>\\n1 point by DyslexicAtheist 2 minutes ago  | ...</td>\n",
       "      <td>only users with full accounts can post comment...</td>\n",
       "      <td></td>\n",
       "      <td>12</td>\n",
       "      <td>(only, users, with, full, accounts, can, post,...</td>\n",
       "      <td>only users with full accounts can post comment...</td>\n",
       "      <td>user account post comment log</td>\n",
       "      <td>user account post comment log</td>\n",
       "      <td>1</td>\n",
       "    </tr>\n",
       "    <tr>\n",
       "      <th>4</th>\n",
       "      <td>Soundness bugs in Rust libraries: can't live w...</td>\n",
       "      <td>3 minutes ago</td>\n",
       "      <td>martinlaz</td>\n",
       "      <td>https://docs.rs/dtolnay/0.0.7/dtolnay/macro._0...</td>\n",
       "      <td>technologyreview.com</td>\n",
       "      <td>1 point</td>\n",
       "      <td>\\n1 point by martinlaz 3 minutes ago  | hide |...</td>\n",
       "      <td>dtolnay by david tolnay my role at work these ...</td>\n",
       "      <td></td>\n",
       "      <td>1684</td>\n",
       "      <td>(dtolnay, by, david, tolnay, my, role, at, wor...</td>\n",
       "      <td>dtolnay by david tolnay my role at work these ...</td>\n",
       "      <td>dtolnay david tolnay role work day help guid b...</td>\n",
       "      <td>dtolnay david tolnay role work day help guide ...</td>\n",
       "      <td>0</td>\n",
       "    </tr>\n",
       "    <tr>\n",
       "      <th>5</th>\n",
       "      <td>AI Now Institute Annual Report (2019) [pdf]</td>\n",
       "      <td>3 minutes ago</td>\n",
       "      <td>atomlib</td>\n",
       "      <td>https://ainowinstitute.org/AI_Now_2019_Report.pdf</td>\n",
       "      <td>habr.com</td>\n",
       "      <td>1 point</td>\n",
       "      <td>\\n1 point by atomlib 3 minutes ago  | hide | p...</td>\n",
       "      <td></td>\n",
       "      <td>HTTP Error 403: Forbidden</td>\n",
       "      <td>1</td>\n",
       "      <td>()</td>\n",
       "      <td></td>\n",
       "      <td></td>\n",
       "      <td></td>\n",
       "      <td>1</td>\n",
       "    </tr>\n",
       "  </tbody>\n",
       "</table>\n",
       "</div>"
      ],
      "text/plain": [
       "                                               Title  ... cluster_group\n",
       "0              Robocallers face fight on many fronts  ...             0\n",
       "1              World's First and Only Hackproof Site  ...             1\n",
       "2  Affinity Profiling and Discrimination by Assoc...  ...             1\n",
       "3         React Benefits: A Blessing for Businesses?  ...             1\n",
       "4  Soundness bugs in Rust libraries: can't live w...  ...             0\n",
       "5        AI Now Institute Annual Report (2019) [pdf]  ...             1\n",
       "\n",
       "[6 rows x 15 columns]"
      ]
     },
     "execution_count": 62,
     "metadata": {
      "tags": []
     },
     "output_type": "execute_result"
    }
   ],
   "source": [
    "data['cluster_group'] = clusters\n",
    "pd.DataFrame(data).head(6)"
   ]
  },
  {
   "cell_type": "code",
   "execution_count": 0,
   "metadata": {
    "colab": {},
    "colab_type": "code",
    "id": "Z-VF5ygQhb1a"
   },
   "outputs": [],
   "source": [
    "cluster_df = pd.DataFrame(data)\n",
    "cluster_df['cluster_group'].value_counts()"
   ]
  },
  {
   "cell_type": "code",
   "execution_count": 64,
   "metadata": {
    "colab": {
     "base_uri": "https://localhost:8080/",
     "height": 1000
    },
    "colab_type": "code",
    "id": "yVcfixU5FjHB",
    "outputId": "2dbd9b53-b0ad-4df3-c32e-74978379246c"
   },
   "outputs": [
    {
     "name": "stdout",
     "output_type": "stream",
     "text": [
      "[[2.91147548e-02 4.29582108e-02 3.70125034e-02 3.08672291e-02\n",
      "  2.34520374e-02 3.38347581e-02 4.93487492e-02 2.88977557e-02\n",
      "  5.23695746e-02 3.31988702e-02 4.34812583e-02 6.01562789e-02\n",
      "  7.44240116e-02 3.76355237e-02 5.60659854e-02 2.59928971e-02\n",
      "  3.20504347e-02 4.65860161e-02 7.87387841e-02 4.48640731e-02\n",
      "  6.11235659e-02 2.49947838e-02 3.87171952e-02 4.58275841e-02\n",
      "  2.94904640e-02 3.24629262e-02 4.62685058e-02 2.77951441e-02\n",
      "  4.72189329e-02 5.92722118e-02 4.15011874e-02 2.90469082e-02\n",
      "  3.51493915e-02 2.73242858e-02 3.61885064e-02 2.93099301e-02\n",
      "  3.62520194e-02 4.95829926e-02 3.07301830e-02 2.10817101e-02\n",
      "  4.18509541e-02 5.97508475e-02 4.36973872e-02 4.28757101e-02\n",
      "  3.50708651e-02 5.53241589e-02 4.02744756e-02 3.03856132e-02\n",
      "  3.04617658e-02 2.09757345e-02 3.03533476e-02 3.03499708e-02\n",
      "  8.88125058e-02 3.78000952e-02 4.50653219e-02 3.56203085e-02\n",
      "  3.60697716e-02 1.61526434e-02 7.47929105e-02 8.86358422e-02\n",
      "  2.85617362e-02 5.26254920e-02 3.54288232e-02 6.86486511e-02\n",
      "  2.63935197e-02 4.32652756e-02 3.17629406e-02 4.56422678e-02\n",
      "  4.27292331e-02 5.41006743e-02 4.52322332e-02 3.36532776e-02\n",
      "  4.42890742e-02 3.19152584e-02 3.37468880e-02 3.69362749e-02\n",
      "  4.43532104e-02 4.31635326e-02 1.84098633e-02 4.80875390e-02\n",
      "  4.66419648e-02 3.12161221e-02 2.40221728e-02 5.43982748e-02\n",
      "  4.83258345e-02 3.10346815e-02 4.31118587e-02 4.08687028e-02\n",
      "  4.32766023e-02 3.77994856e-02 4.79356409e-02 3.10031643e-02\n",
      "  5.08742665e-02 8.25593282e-02 3.98045255e-02 4.74502058e-02\n",
      "  2.81395704e-02 3.04418114e-02 4.82669956e-02 4.62154905e-02\n",
      "  1.08521476e-01 3.65920001e-02 2.28818354e-02 9.07570815e-02\n",
      "  7.67883658e-02 4.18852591e-02 4.07120480e-02 6.18429675e-02\n",
      "  1.04258400e-01 4.30635279e-02 3.78812750e-02 6.41320600e-02]\n",
      " [0.00000000e+00 1.89029690e-03 0.00000000e+00 1.97802576e-02\n",
      "  6.61044946e-04 4.84504336e-03 3.05832550e-03 1.80430511e-03\n",
      "  3.17131709e-03 0.00000000e+00 3.57512304e-03 0.00000000e+00\n",
      "  5.16123488e-03 4.12915304e-03 2.00041842e-03 0.00000000e+00\n",
      "  2.39748220e-03 1.36464103e-02 0.00000000e+00 2.42377363e-03\n",
      "  1.67952924e-03 6.87827351e-03 9.04940706e-04 0.00000000e+00\n",
      "  0.00000000e+00 4.66344429e-03 2.21958437e-03 2.81580958e-03\n",
      "  1.39918585e-02 4.32033189e-03 1.22675888e-03 2.95630687e-03\n",
      "  4.36962663e-03 7.85399769e-03 0.00000000e+00 7.38558629e-03\n",
      "  9.91885442e-04 0.00000000e+00 0.00000000e+00 0.00000000e+00\n",
      "  1.55772056e-02 3.73547080e-03 5.61052222e-03 2.24330119e-02\n",
      "  7.92257987e-03 1.21069025e-02 3.70640491e-03 5.57824858e-04\n",
      "  1.74505973e-03 2.24167913e-03 1.67692736e-02 2.42821061e-03\n",
      "  4.23280293e-03 1.71434465e-03 5.70497136e-04 0.00000000e+00\n",
      "  1.67811695e-03 5.04473110e-03 1.28056259e-02 1.38080824e-02\n",
      "  7.40211315e-03 0.00000000e+00 5.69602704e-04 2.01969480e-03\n",
      "  5.06715200e-04 1.07798279e-03 0.00000000e+00 9.09211989e-03\n",
      "  2.24035110e-03 7.65563232e-03 1.78343981e-02 9.81804847e-03\n",
      "  8.97073746e-03 9.70139122e-03 7.84734690e-03 0.00000000e+00\n",
      "  2.44630760e-03 5.21643422e-03 1.53659139e-02 5.92709851e-04\n",
      "  5.42998608e-04 1.12275790e-03 0.00000000e+00 2.69702710e-02\n",
      "  0.00000000e+00 3.65757172e-03 5.10310785e-04 4.86293430e-03\n",
      "  7.78484188e-03 9.56155403e-03 3.34914443e-03 1.46627549e-03\n",
      "  3.35674441e-02 0.00000000e+00 4.49479456e-04 0.00000000e+00\n",
      "  0.00000000e+00 2.08017815e-02 0.00000000e+00 0.00000000e+00\n",
      "  8.16159081e-04 0.00000000e+00 2.10219811e-03 7.89865522e-03\n",
      "  9.08337907e-03 5.58390613e-03 0.00000000e+00 2.26049337e-03\n",
      "  1.24455697e-03 1.14813523e-03 6.20641209e-03 6.04699048e-03]\n",
      " [2.32035979e-02 3.95804735e-02 2.61459326e-02 4.10396551e-02\n",
      "  3.56410437e-02 1.31705173e-02 3.47682246e-02 4.94607134e-02\n",
      "  1.85305638e-02 5.37753267e-02 3.78942698e-02 5.48359727e-02\n",
      "  1.67695527e-02 7.29536310e-02 1.47462689e-01 2.44524769e-02\n",
      "  3.25845676e-02 2.82553775e-02 3.78638341e-02 5.06106573e-02\n",
      "  2.93188037e-02 2.55842288e-02 2.71942134e-02 4.08692489e-02\n",
      "  2.61967350e-02 3.47304629e-02 1.50712429e-02 1.77894944e-02\n",
      "  2.31901065e-02 7.30989912e-02 2.76680515e-02 2.49372785e-02\n",
      "  2.51604032e-02 3.75784419e-02 4.24043844e-02 4.56980217e-02\n",
      "  6.91945841e-02 4.57694741e-02 1.78410810e-02 3.31350566e-02\n",
      "  5.55657823e-02 3.75916345e-02 6.28171884e-02 2.87114417e-02\n",
      "  4.09956375e-02 6.49740826e-02 4.40529556e-02 4.37510277e-02\n",
      "  1.73788782e-02 4.37308812e-02 2.29382598e-02 2.87765083e-02\n",
      "  8.45317464e-02 5.97991587e-02 5.18020329e-02 3.25636383e-02\n",
      "  2.88131488e-02 5.57270461e-02 4.52492871e-02 1.19517139e-01\n",
      "  2.04458056e-02 4.59978459e-02 2.56757928e-02 1.12359524e-01\n",
      "  3.87467733e-02 3.95179041e-02 2.35908799e-02 2.65678083e-02\n",
      "  3.85175719e-02 3.85590709e-02 3.18060595e-02 2.75535349e-02\n",
      "  2.17532790e-02 2.83487057e-02 8.12383543e-02 2.34955660e-02\n",
      "  5.22550786e-02 3.69430586e-02 2.08126841e-02 3.98696852e-02\n",
      "  2.95845499e-02 4.28914213e-01 2.98071586e-02 6.87565971e-02\n",
      "  2.70088090e-02 3.03445564e-02 3.14817589e-02 3.32726824e-02\n",
      "  2.12970090e-02 1.38366523e-02 3.71931589e-02 5.69308979e-02\n",
      "  4.17601543e-02 4.05574161e-02 3.90939716e-02 5.35817501e-02\n",
      "  9.10422588e-02 3.87347477e-02 3.47234152e-02 4.83023812e-02\n",
      "  9.97350436e-02 2.97431908e-02 3.74839573e-02 4.74223682e-02\n",
      "  3.59473625e-02 3.40050727e-02 5.94169296e-02 5.23726619e-02\n",
      "  6.07339964e-02 5.92252461e-02 5.46868972e-02 1.68018446e-01]\n",
      " [8.90279157e-03 4.31198645e-02 3.11377975e-02 0.00000000e+00\n",
      "  1.08943379e-02 6.26915636e-02 3.84472289e-02 1.39188746e-02\n",
      "  1.52269654e-01 2.08334662e-03 0.00000000e+00 3.01721977e-02\n",
      "  1.91567159e-01 1.15865118e-02 0.00000000e+00 0.00000000e+00\n",
      "  3.97407289e-03 3.81403288e-02 5.39072004e-02 0.00000000e+00\n",
      "  1.64201023e-02 1.35587017e-02 3.06379056e-02 8.47691341e-03\n",
      "  4.56620785e-02 5.62947795e-03 4.79162985e-02 5.39077058e-03\n",
      "  1.24754276e-02 2.98407680e-02 6.36812893e-02 5.74876318e-03\n",
      "  5.28310830e-03 0.00000000e+00 1.04545727e-02 1.27931643e-02\n",
      "  0.00000000e+00 7.40359297e-03 6.85809165e-03 4.52080077e-01\n",
      "  2.35065520e-02 2.43994041e-02 3.30649451e-02 3.09108635e-02\n",
      "  1.97521178e-02 7.14562744e-03 2.14671283e-03 8.82392445e-03\n",
      "  3.53003962e-02 0.00000000e+00 4.77978475e-03 4.74442547e-03\n",
      "  1.53041728e-02 9.02712175e-03 1.83671691e-02 2.23450821e-02\n",
      "  6.37242231e-03 1.16044853e-01 3.19038149e-02 1.06246570e-01\n",
      "  4.20283022e-02 1.17519246e-02 1.72689227e-02 9.87671165e-03\n",
      "  4.39858051e-03 1.30373540e-02 6.85947385e-03 2.44452171e-02\n",
      "  7.94409819e-03 1.85383925e-01 2.62341898e-02 3.12617990e-03\n",
      "  1.73866207e-02 1.25767919e-01 5.49712891e-03 3.36353736e-02\n",
      "  9.28789378e-03 2.45713563e-02 1.19104001e-01 0.00000000e+00\n",
      "  1.21510588e-01 0.00000000e+00 4.75917545e-03 0.00000000e+00\n",
      "  3.34650530e-02 1.10450921e-02 0.00000000e+00 1.84688556e-02\n",
      "  1.27265914e-01 3.13543069e-02 1.74358453e-02 1.12619587e-02\n",
      "  5.55090826e-02 2.08251178e-02 9.74960165e-03 0.00000000e+00\n",
      "  5.11457881e-03 1.06347418e-02 1.67831724e-02 0.00000000e+00\n",
      "  4.39883158e-02 4.30936451e-01 0.00000000e+00 2.01589223e-01\n",
      "  1.48735800e-02 0.00000000e+00 1.26625453e-01 1.70118266e-02\n",
      "  1.02342052e-01 7.92095623e-03 1.06342676e-02 0.00000000e+00]]\n",
      "(4, 112)\n"
     ]
    }
   ],
   "source": [
    "print(km.cluster_centers_)\n",
    "print(km.cluster_centers_.shape)"
   ]
  },
  {
   "cell_type": "code",
   "execution_count": 65,
   "metadata": {
    "colab": {
     "base_uri": "https://localhost:8080/",
     "height": 629
    },
    "colab_type": "code",
    "id": "5bhj6pOQFpOC",
    "outputId": "556e4e45-6bce-430d-8511-148ca2293720"
   },
   "outputs": [
    {
     "data": {
      "text/plain": [
       "array([[ 57,  78,  49,  39, 102,   4,  82,  21,  15,  64,  33,  27,  96,\n",
       "         60,   7,  31,   0,  35,  24,  51,  50,  47,  97,  48,  38,   3,\n",
       "         91,  85,  81,  66,  73,  16,  25,   9,  71,  74,   5,  44,  32,\n",
       "         62,  55,  56,  34,  36, 101,  75,   2,  13,  89,  53, 110,  22,\n",
       "         94,  46, 106,  87,  30,  40, 105,  68,  43,   1, 109,  86,  77,\n",
       "         65,  88,  10,  42,  72,  76,  19,  54,  70,  67,  23,  99,  26,\n",
       "         17,  80,  28,  95,  90,  79,  98,  84,   6,  37,  92,   8,  61,\n",
       "         69,  83,  45,  14,  29,  41,  11,  20, 107, 111,  63,  12,  58,\n",
       "        104,  18,  93,  59,  52, 103, 108, 100],\n",
       "       [  0,  34,  37,  38,  39,  61,  66,  75,  24,  82,  93,  95,  96,\n",
       "         98,  99, 101, 106,  84,  23,  55,  11,  18,  15,   2,   9,  94,\n",
       "         64,  86,  80,  47,  62,  54,  79,   4, 100,  22,  36,  65,  81,\n",
       "        109,  30, 108,  91,  56,  20,  53,  48,   7,   1,  14,  63, 102,\n",
       "         26,  68,  49, 107,  16,  19,  51,  76,  27,  31,   6,   8,  90,\n",
       "         10,  85,  46,  41,  13,  52,  29,  32,  25,   5,  87,  57,  12,\n",
       "         77, 105,  42, 111, 110,  21,  35,  60,  69,  88,  74,  33, 103,\n",
       "         44,  72, 104,  67,  89,  73,  71,  45,  58,  17,  59,  28,  78,\n",
       "         40,  50,  70,   3,  97,  43,  83,  92],\n",
       "       [  5,  89,  26,  12,  48,  27,  38,   8,  60,  78,  88,  72,  50,\n",
       "         28,   0,  75,  66,  15,  31,  32,  21,  62,   2,  24,  67,  84,\n",
       "         22,  71,  30,  17,  73,  43,  51,  56,  20,  80, 101,  82,  85,\n",
       "         86,  70,  55,  16,  39,  87, 105,  98,  25,   6,   4, 104,  77,\n",
       "         90, 102,  33,  41,  18,  10,  68,  69,  97,  64,  94,  65,   1,\n",
       "         79,  93,  23,  44,   3,  92,  34,  49,  47,  46,  58,  35,  37,\n",
       "         61, 103,  99,   7,  19,  54,  76, 107,  95,   9, 110,  11,  40,\n",
       "         57,  91, 109, 106,  53, 108,  42,  45,  83,  36,  13,  29,  74,\n",
       "         52,  96, 100,  63,  59,  14, 111,  81],\n",
       "       [111,  36,  33,  49,  79,  15,  14,  81,  83,  10,  19,  86,  95,\n",
       "          3,  99, 105, 102,   9,  46,  71,  16,  64,  51,  82,  50,  96,\n",
       "         32,  27,  74,  25,  31,  56,  38,  66,  45,  37, 109,  68,  23,\n",
       "         47,   0,  53,  76,  94,  63,  34, 110,  97,   4,  85,  91,  13,\n",
       "         61,  28,  35,  65,  21,   7, 104,  52,  20,  98, 107,  62,  72,\n",
       "         90,  54,  87,  44,  93,  55,  40,  41,  67,  77,  70,  29,  11,\n",
       "         22,  43,   2,  89,  58,  42,  84,  75,  48,  17,   6,  60,   1,\n",
       "        100,  24,  26,  18,  92,   5,  30, 108,  59,  57,  78,  80,  73,\n",
       "        106,  88,   8,  69,  12, 103, 101,  39]])"
      ]
     },
     "execution_count": 65,
     "metadata": {
      "tags": []
     },
     "output_type": "execute_result"
    }
   ],
   "source": [
    "km.cluster_centers_.argsort()"
   ]
  },
  {
   "cell_type": "code",
   "execution_count": 66,
   "metadata": {
    "colab": {
     "base_uri": "https://localhost:8080/",
     "height": 629
    },
    "colab_type": "code",
    "id": "iE-ZfjESF1Va",
    "outputId": "5d6ed138-744f-4a30-e519-390cc13a2c1d"
   },
   "outputs": [
    {
     "data": {
      "text/plain": [
       "array([[100, 108, 103,  52,  59,  93,  18, 104,  58,  12,  63, 111, 107,\n",
       "         20,  11,  41,  29,  14,  45,  83,  69,  61,   8,  92,  37,   6,\n",
       "         84,  98,  79,  90,  95,  28,  80,  17,  26,  99,  23,  67,  70,\n",
       "         54,  19,  76,  72,  42,  10,  88,  65,  77,  86, 109,   1,  43,\n",
       "         68, 105,  40,  30,  87, 106,  46,  94,  22, 110,  53,  89,  13,\n",
       "          2,  75, 101,  36,  34,  56,  55,  62,  32,  44,   5,  74,  71,\n",
       "          9,  25,  16,  73,  66,  81,  85,  91,   3,  38,  48,  97,  47,\n",
       "         50,  51,  24,  35,   0,  31,   7,  60,  96,  27,  33,  64,  15,\n",
       "         21,  82,   4, 102,  39,  49,  78,  57],\n",
       "       [ 92,  83,  43,  97,   3,  70,  50,  40,  78,  28,  59,  17,  58,\n",
       "         45,  71,  73,  89,  67, 104,  72,  44, 103,  33,  74,  88,  69,\n",
       "         60,  35,  21, 110, 111,  42, 105,  77,  12,  57,  87,   5,  25,\n",
       "         32,  29,  52,  13,  41,  46,  85,  10,  90,   8,   6,  31,  27,\n",
       "         76,  51,  19,  16, 107,  49,  68,  26, 102,  63,  14,   1,   7,\n",
       "         48,  53,  20,  56,  91, 108,  30, 109,  81,  65,  36,  22, 100,\n",
       "          4,  79,  54,  62,  47,  80,  86,  64,  94,   9,   2,  15,  18,\n",
       "         11,  55,  23,  84, 106, 101,  99,  98,  96,  95,  93,  82,  24,\n",
       "         75,  66,  61,  39,  38,  37,  34,   0],\n",
       "       [ 81, 111,  14,  59,  63, 100,  96,  52,  74,  29,  13,  36,  83,\n",
       "         45,  42, 108,  53, 106, 109,  91,  57,  40,  11, 110,   9,  95,\n",
       "        107,  76,  54,  19,   7,  99, 103,  61,  37,  35,  58,  46,  47,\n",
       "         49,  34,  92,   3,  44,  23,  93,  79,   1,  65,  94,  64,  97,\n",
       "         69,  68,  10,  18,  41,  33, 102,  90,  77, 104,   4,   6,  25,\n",
       "         98, 105,  87,  39,  16,  55,  70,  86,  85,  82, 101,  80,  20,\n",
       "         56,  51,  43,  73,  17,  30,  71,  22,  84,  67,  24,   2,  62,\n",
       "         21,  32,  31,  15,  66,  75,   0,  28,  50,  72,  88,  78,  60,\n",
       "          8,  38,  27,  48,  12,  26,  89,   5],\n",
       "       [ 39, 101, 103,  12,  69,   8,  88, 106,  73,  80,  78,  57,  59,\n",
       "        108,  30,   5,  92,  18,  26,  24, 100,   1,  60,   6,  17,  48,\n",
       "         75,  84,  42,  58,  89,   2,  43,  22,  11,  29,  70,  77,  67,\n",
       "         41,  40,  55,  93,  44,  87,  54,  90,  72,  62, 107,  98,  20,\n",
       "         52, 104,   7,  21,  65,  35,  28,  61,  13,  91,  85,   4,  97,\n",
       "        110,  34,  63,  94,  76,  53,   0,  47,  23,  68, 109,  37,  45,\n",
       "         66,  38,  56,  31,  25,  74,  27,  32,  96,  50,  82,  51,  64,\n",
       "         16,  71,  46,   9, 102, 105,  99,   3,  95,  86,  19,  10,  83,\n",
       "         81,  14,  15,  79,  49,  33,  36, 111]])"
      ]
     },
     "execution_count": 66,
     "metadata": {
      "tags": []
     },
     "output_type": "execute_result"
    }
   ],
   "source": [
    "km.cluster_centers_.argsort()[:,::-1]"
   ]
  },
  {
   "cell_type": "code",
   "execution_count": 67,
   "metadata": {
    "colab": {
     "base_uri": "https://localhost:8080/",
     "height": 323
    },
    "colab_type": "code",
    "id": "V2RO9XcbF3XY",
    "outputId": "6ad0afd4-a2ef-44ff-b14f-367da1121edf"
   },
   "outputs": [
    {
     "name": "stdout",
     "output_type": "stream",
     "text": [
      "Top terms per cluster:\n",
      "\n",
      "\n",
      "Top words in Cluster-0 :\n",
      "\n",
      "['time'],['work'],['use'],['like'],['new'],['system'],\n",
      "\n",
      "Top words in Cluster-1 :\n",
      "\n",
      "['support'],['service'],['information'],['term'],['article'],['provide'],\n",
      "\n",
      "Top words in Cluster-2 :\n",
      "\n",
      "['say'],['year'],['company'],['new'],['people'],['time'],\n",
      "\n",
      "Top words in Cluster-3 :\n",
      "\n",
      "['happen'],['try'],['use'],['code'],['project'],['build'],"
     ]
    }
   ],
   "source": [
    "print(\"Top terms per cluster:\")\n",
    "order_centroids = km.cluster_centers_.argsort()[:, ::-1] \n",
    "for i in range(num_clusters):\n",
    "    print(\"\\n\")\n",
    "    print(\"Top words in Cluster-%d :\" % i, end='')\n",
    "    print(\"\\n\")\n",
    "    for ind in order_centroids[i, :6]: #replace 6 with n words per cluster\n",
    "        print('%s' % terms[ind].split(' '), end=',')"
   ]
  },
  {
   "cell_type": "code",
   "execution_count": 68,
   "metadata": {
    "colab": {
     "base_uri": "https://localhost:8080/",
     "height": 51
    },
    "colab_type": "code",
    "id": "Y6IWOB3yF3S6",
    "outputId": "5fb6ef21-15b6-455f-9168-66c6acc1ae65"
   },
   "outputs": [
    {
     "data": {
      "text/plain": [
       "TruncatedSVD(algorithm='randomized', n_components=26, n_iter=20,\n",
       "             random_state=143, tol=0.0)"
      ]
     },
     "execution_count": 68,
     "metadata": {
      "tags": []
     },
     "output_type": "execute_result"
    }
   ],
   "source": [
    "from sklearn.decomposition import TruncatedSVD\n",
    "\n",
    "n_components = 26\n",
    "\n",
    "svd_model = TruncatedSVD(n_components=n_components, algorithm='randomized',n_iter=20,random_state=143)\n",
    "\n",
    "svd_matrix = svd_model.fit(tfidf_matrix)\n",
    "\n",
    "svd_matrix"
   ]
  },
  {
   "cell_type": "code",
   "execution_count": 69,
   "metadata": {
    "colab": {
     "base_uri": "https://localhost:8080/",
     "height": 238
    },
    "colab_type": "code",
    "id": "LaFfRhFBGbTN",
    "outputId": "77f2a112-0a84-4b54-d08a-21b5073e5083"
   },
   "outputs": [
    {
     "name": "stdout",
     "output_type": "stream",
     "text": [
      "Explained Variance Ratio : [0.0935574  0.0634984  0.04434292 0.03842685 0.03149611 0.02926005\n",
      " 0.02581421 0.02486432 0.0227425  0.01968909 0.01847286 0.01744708\n",
      " 0.01721257 0.01663101 0.01635415 0.01552814 0.01519329 0.01421615\n",
      " 0.01372639 0.01307949 0.01290932 0.01267937 0.01251776 0.01220969\n",
      " 0.01120402 0.01105837]\n",
      "\n",
      "Total Explained Variance : 62.41 %\n",
      "\n",
      "The singular values are [9.2251993  4.40928541 3.67609894 3.42586264 3.09523986 2.98271595\n",
      " 2.80159308 2.749641   2.62996242 2.44776516 2.36998132 2.30648652\n",
      " 2.287817   2.24891718 2.23060857 2.17391717 2.1497043  2.07906516\n",
      " 2.04293657 1.99435014 1.98167769 1.96585829 1.9510183  1.92683208\n",
      " 1.84634608 1.83370663]\n"
     ]
    }
   ],
   "source": [
    "print(f\"Explained Variance Ratio : {svd_matrix.explained_variance_ratio_}\") \n",
    "print(f\"\\nTotal Explained Variance : {round(svd_matrix.explained_variance_ratio_.sum() * 100, 2)} %\")\n",
    "print(f\"\\nThe singular values are {svd_matrix.singular_values_}\")"
   ]
  },
  {
   "cell_type": "code",
   "execution_count": 70,
   "metadata": {
    "colab": {
     "base_uri": "https://localhost:8080/",
     "height": 1000
    },
    "colab_type": "code",
    "id": "V8_9Ik4NGbPN",
    "outputId": "77336d56-ba3f-47c0-d326-25a1c7030b03"
   },
   "outputs": [
    {
     "name": "stdout",
     "output_type": "stream",
     "text": [
      "The component is [0.05127    0.08136776 0.06545345 0.06233024 0.05185444 0.05729619\n",
      " 0.08851032 0.06514769 0.08951757 0.07236349 0.07813052 0.112902\n",
      " 0.12339215 0.09301902 0.14757531 0.04657003 0.05921782 0.08380306\n",
      " 0.12601248 0.08705318 0.09003108 0.05043407 0.06878385 0.08487675\n",
      " 0.05619154 0.06232139 0.07429589 0.04705935 0.07698177 0.12066015\n",
      " 0.07473414 0.05191829 0.05890391 0.05860113 0.07255282 0.06979413\n",
      " 0.09025801 0.09050595 0.04986792 0.09796372 0.09415946 0.09455855\n",
      " 0.09530535 0.08321149 0.07338583 0.11431866 0.07872524 0.06473643\n",
      " 0.05163109 0.05378296 0.05998377 0.05611644 0.17077879 0.08222475\n",
      " 0.09064386 0.06709127 0.06366482 0.06418498 0.13167327 0.20230993\n",
      " 0.05363244 0.09002119 0.06011832 0.15277241 0.05689415 0.07719823\n",
      " 0.05359829 0.08098144 0.07521344 0.11209544 0.08437592 0.0638705\n",
      " 0.074989   0.07101189 0.08512185 0.06200129 0.08354277 0.07838951\n",
      " 0.05383624 0.08345571 0.09037497 0.27267909 0.04899641 0.11359278\n",
      " 0.08133419 0.05775136 0.06930635 0.07456465 0.0806037  0.06106212\n",
      " 0.08431738 0.06969845 0.11041023 0.12595688 0.07484927 0.08804186\n",
      " 0.08733794 0.07217505 0.087565   0.09030283 0.20437497 0.11410973\n",
      " 0.05340513 0.16561423 0.12027608 0.0767277  0.10078447 0.11359951\n",
      " 0.17911738 0.09027115 0.08197236 0.18005676] and shape is (112,)\n",
      "Topic 0: \n",
      "say -- 0.2726790852191779\n",
      "time -- 0.20437496963791643\n",
      "new -- 0.20230992895548447\n",
      "year -- 0.18005675812954097\n",
      "work -- 0.17911738314455958\n",
      "like -- 0.17077879288642728\n",
      " \n",
      "The component is [ 5.62646489e-03  4.39771648e-02  3.33761232e-02 -2.07395478e-02\n",
      " -2.99201965e-02  5.75810700e-02  4.02474309e-02 -5.22794805e-02\n",
      "  1.67959652e-01 -1.68501590e-02  1.76781334e-02 -8.85022356e-03\n",
      "  3.33143193e-01 -5.24938744e-02 -1.63333199e-01 -1.55709457e-02\n",
      " -1.25291906e-02  6.00092489e-02  6.32283490e-02 -4.87341740e-02\n",
      "  2.78820471e-02  4.50308580e-03  2.27106120e-02 -6.20750068e-03\n",
      "  3.47172062e-02 -1.52376907e-02  7.56815000e-02  9.50025102e-03\n",
      "  5.67004482e-02 -4.29104728e-02  4.59715666e-02 -5.08748706e-03\n",
      "  7.55461974e-03 -2.13521589e-02 -2.24266266e-02 -2.21778474e-02\n",
      " -6.33717255e-02 -1.52707209e-02  1.84726926e-03  2.87791130e-01\n",
      " -6.88300642e-03  4.45432330e-03 -2.24005489e-02  3.93186229e-02\n",
      "  8.47547049e-03 -3.21699797e-02 -3.99307257e-02 -2.73463999e-02\n",
      "  3.09782077e-02 -4.36043589e-02  2.36320728e-02 -5.63198191e-03\n",
      " -2.21834184e-02 -5.35647749e-02 -1.65242948e-02  1.23013740e-02\n",
      " -6.65457004e-03  2.94942496e-02  8.17535729e-02  2.17454038e-02\n",
      "  3.49747443e-02  3.43361313e-03  1.88847186e-02 -1.26197015e-01\n",
      " -2.60935839e-02  5.49506456e-03  9.06270358e-03  3.50930185e-02\n",
      " -2.49925901e-04  1.89172407e-01  3.46222763e-02 -2.77758566e-02\n",
      "  3.65822736e-02  1.11657295e-01 -8.04386319e-02  3.07633898e-02\n",
      " -5.30328979e-02  7.07942145e-03  8.41288252e-02 -2.34683461e-02\n",
      "  1.25053674e-01 -5.61383550e-01 -2.15641798e-02 -5.11405290e-02\n",
      "  3.50188090e-02  5.28567010e-04 -2.34300958e-03 -4.04727968e-03\n",
      "  1.30881715e-01  5.34406192e-02  5.68496649e-03 -2.08493007e-02\n",
      "  7.33383529e-02  5.74737757e-02 -2.64012938e-02 -5.74441322e-02\n",
      " -9.30867012e-02 -1.45085301e-02 -7.17539418e-03 -3.99959037e-02\n",
      " -5.53922199e-03  3.05322158e-01 -2.33233585e-02  2.32521454e-01\n",
      "  7.62601317e-02 -1.03235625e-02  4.73678268e-02 -1.22263364e-02\n",
      "  9.28108554e-02 -6.46996880e-02 -1.46680522e-02 -2.14498489e-01] and shape is (112,)\n",
      "Topic 1: \n",
      "code -- 0.3331431927020295\n",
      "try -- 0.30532215795411327\n",
      "happen -- 0.28779113000069956\n",
      "use -- 0.23252145413789213\n",
      "project -- 0.18917240699260213\n",
      "build -- 0.16795965221503256\n",
      " \n",
      "The component is [-2.27342987e-02 -1.32106658e-02 -4.54491129e-02 -8.20681878e-02\n",
      "  2.14919727e-02 -3.99338157e-02 -9.32802246e-02  2.83830530e-02\n",
      "  1.01918919e-01 -1.60595433e-04 -6.95199916e-02 -4.71195001e-02\n",
      "  1.43479797e-01  4.80579300e-02  1.02779000e-01 -3.68429702e-02\n",
      " -5.87758929e-02 -1.83067074e-02 -2.15023042e-01  2.65082658e-02\n",
      " -4.72653574e-02 -3.05915383e-02 -3.77255579e-02  2.15052293e-02\n",
      "  1.41705107e-02 -1.52048621e-02 -7.64586428e-02 -4.55513039e-02\n",
      " -9.78963797e-02  7.86232686e-03 -2.64312050e-02 -5.40716817e-02\n",
      " -9.83113225e-03 -3.59787610e-02  2.80162561e-02 -2.78182852e-02\n",
      "  4.40159373e-02  3.07505407e-03 -4.04777459e-03  3.61779915e-01\n",
      " -2.07120265e-02 -1.27531869e-01 -3.55519894e-02 -1.96231031e-01\n",
      " -2.73688965e-02 -6.84599528e-02 -6.43625203e-02  2.77865850e-03\n",
      " -7.89123059e-03  2.03417718e-02 -9.27892867e-02 -3.67309087e-02\n",
      "  2.31263881e-02 -5.67639016e-03  4.30289525e-02  1.03954224e-02\n",
      " -4.05210901e-02  1.22423877e-01 -1.03653218e-01  3.78197196e-02\n",
      " -2.96218384e-02 -1.17280401e-01  5.67708647e-03  2.65916790e-02\n",
      "  2.36250312e-02 -3.27948522e-02 -3.22498871e-02 -2.22117376e-02\n",
      " -8.76978900e-02  1.40695346e-01 -1.77040829e-01 -1.08025310e-02\n",
      " -2.52187911e-02  1.31167395e-01  4.95829506e-03 -5.78109301e-02\n",
      " -8.12037905e-02 -7.96488512e-02 -2.45873442e-02 -2.73554479e-02\n",
      "  2.24877693e-02  3.65905467e-01  9.58466696e-03 -2.40914401e-01\n",
      " -3.50595041e-02 -2.59697147e-02 -1.14314864e-01 -4.05027994e-02\n",
      "  8.48783811e-02 -1.60533020e-02  1.78468180e-02 -2.46896295e-02\n",
      " -2.61994483e-01 -1.78104297e-01  2.09212895e-02 -2.74565340e-02\n",
      "  8.36731534e-02 -1.05355004e-01  2.72051730e-02  1.96902198e-02\n",
      " -2.94976625e-02  3.31805860e-01 -1.21787212e-02  2.94706280e-02\n",
      " -1.14087868e-01  2.50184509e-02  1.28761626e-01 -1.28517125e-02\n",
      "  5.53153575e-02  2.03283242e-02  1.45648441e-02  9.12349329e-02] and shape is (112,)\n",
      "Topic 2: \n",
      "say -- 0.36590546653204664\n",
      "happen -- 0.3617799154058892\n",
      "try -- 0.33180586037251986\n",
      "code -- 0.14347979740872072\n",
      "project -- 0.14069534622229082\n",
      "release -- 0.13116739543107017\n",
      " \n",
      "The component is [-0.03452263  0.03751576  0.01431739  0.07157694 -0.03844213  0.03940468\n",
      "  0.00747408 -0.00594526  0.03050103 -0.0283703  -0.03190746 -0.03819826\n",
      " -0.02710579 -0.06517784  0.14024834 -0.00952272  0.01698986  0.00073254\n",
      "  0.10318929 -0.11001161 -0.01846676  0.0062058  -0.03586477 -0.11620466\n",
      " -0.01960214 -0.03031523 -0.03193162 -0.00078002 -0.00309921 -0.09190103\n",
      "  0.02486087 -0.02197176 -0.04256476  0.00280166 -0.08386165 -0.0043959\n",
      " -0.10268976 -0.08664491 -0.0652918   0.18556431 -0.00946     0.00755452\n",
      "  0.09063088  0.20098665  0.05105685 -0.00212718 -0.01944078 -0.02161631\n",
      " -0.03407142 -0.03405453  0.05769971 -0.01675299 -0.24659238 -0.0486796\n",
      " -0.09683569 -0.06601968 -0.04465462  0.07559938 -0.04350463  0.03474591\n",
      "  0.00199924 -0.00202965 -0.02213209 -0.10613835 -0.04741709 -0.03327582\n",
      " -0.04089252 -0.08917229  0.03242208  0.10770258  0.16327722 -0.08342977\n",
      " -0.08895258  0.09061707  0.06481655  0.02740389  0.03783226  0.0244394\n",
      "  0.19313799 -0.06443618 -0.00398375  0.38382351 -0.04790615  0.3122376\n",
      " -0.03189515 -0.00989074 -0.02743854 -0.02072572  0.07063498 -0.00805807\n",
      " -0.0802953   0.00958588  0.30399901  0.00719575 -0.0911748   0.00895951\n",
      " -0.04488018  0.12129755 -0.16303842 -0.1668152  -0.13994429  0.15171221\n",
      " -0.05343115  0.05046362 -0.05681434 -0.17894197 -0.03034204 -0.12165513\n",
      " -0.15099698 -0.06889574 -0.04844717 -0.03114976] and shape is (112,)\n",
      "Topic 3: \n",
      "say -- 0.3838235051479269\n",
      "service -- 0.31223760357488833\n",
      "support -- 0.30399900900612997\n",
      "information -- 0.20098664611545755\n",
      "review -- 0.19313799272518772\n",
      "happen -- 0.185564312372862\n",
      " \n",
      "The component is [ 1.43333722e-03  1.94228482e-04 -3.40212682e-02 -1.59587443e-01\n",
      "  5.53484859e-02 -2.16489685e-02 -9.01605670e-02  3.69510306e-02\n",
      "  4.38534817e-02 -2.56491175e-02 -7.71640826e-02 -6.96004198e-02\n",
      " -3.71388035e-02  2.58007288e-02  2.48465162e-01 -2.19667488e-02\n",
      " -7.17631582e-02  4.62775008e-02 -1.80135160e-01  1.70310452e-02\n",
      " -7.42276669e-02 -3.59680828e-02 -6.42996448e-02  1.02667229e-01\n",
      "  2.59087679e-02  3.31326144e-03 -5.79367909e-02 -7.17450991e-02\n",
      " -2.33825970e-02 -3.57658508e-02 -3.15936093e-02 -3.47005210e-02\n",
      "  1.07985014e-02 -4.44009737e-02  4.71864329e-02 -8.71501341e-03\n",
      "  6.01748384e-02  3.18067418e-02  1.30918453e-02  4.35892285e-03\n",
      "  7.83457668e-02 -1.92596295e-01 -6.25986563e-02  1.22558910e-01\n",
      " -2.18905542e-02  1.39411537e-01 -9.89122316e-02 -2.03427932e-02\n",
      "  2.02360133e-02 -7.68903126e-03  1.72658039e-01 -8.41607193e-02\n",
      "  1.50673855e-01 -5.22130273e-02  5.43752183e-02  1.65438727e-02\n",
      " -1.71905388e-02 -1.61506612e-02  5.47506097e-02 -3.72922168e-02\n",
      " -7.05763491e-02 -1.81646195e-01 -5.14749479e-03  1.51285275e-01\n",
      " -2.27492622e-03 -2.82272273e-02 -7.28398864e-02  2.07472459e-02\n",
      " -1.28274767e-01 -6.78635246e-02  7.36741867e-02  5.72016062e-02\n",
      "  4.68497187e-02 -1.33749665e-02 -7.96964208e-02 -2.13415164e-02\n",
      " -1.33558791e-01 -1.81488935e-01  9.45225340e-02  6.64569982e-02\n",
      " -5.23339261e-02 -1.73237377e-01 -4.78402147e-04  3.75815010e-01\n",
      " -1.03508804e-02  5.47480085e-02 -1.67546366e-01 -2.44443044e-02\n",
      "  2.06679735e-03 -3.30849127e-02  3.76466923e-02 -6.52181935e-02\n",
      "  2.26627496e-01 -2.59718403e-01  1.95824644e-02 -4.92058507e-02\n",
      "  3.76678121e-02  9.86967677e-02  1.18163798e-01  7.65239057e-02\n",
      " -9.36423129e-02  1.89011341e-02  8.78429039e-03 -8.52608251e-02\n",
      "  2.42960051e-01  1.10282322e-01  6.43281793e-02  3.25757387e-02\n",
      "  6.49160288e-02  5.12533940e-02  9.23979080e-03 -1.02141696e-02] and shape is (112,)\n",
      "Topic 4: \n",
      "service -- 0.37581500983932714\n",
      "company -- 0.24846516187436135\n",
      "user -- 0.24296005136529764\n",
      "support -- 0.22662749620836461\n",
      "let -- 0.17265803942500263\n",
      "people -- 0.15128527489313817\n",
      " \n",
      "The component is [-4.90373006e-03  4.54864131e-02  6.02708635e-02 -6.62693258e-03\n",
      " -3.22750621e-02  2.44602513e-02  3.50647385e-02  1.41560720e-02\n",
      "  1.15627954e-01  2.12623027e-02  3.37360246e-02  2.52417256e-02\n",
      "  2.13749395e-01 -4.86838617e-02  4.29722368e-01 -5.48863644e-03\n",
      "  3.07636279e-02  5.96279471e-02  5.37913026e-02 -8.15512893e-02\n",
      "  1.30036056e-01 -4.18591214e-03 -3.38427329e-02  2.00878016e-03\n",
      " -4.18524827e-03 -7.33129968e-03  7.98522182e-03  2.75345336e-02\n",
      "  7.03510015e-02 -1.25583590e-01 -3.76752347e-02 -2.88836639e-02\n",
      "  1.36364334e-02  4.79932821e-02 -2.50641399e-02  3.95155215e-03\n",
      " -4.52010063e-02 -5.44067112e-02 -3.35909440e-02 -1.50477443e-01\n",
      " -3.30616756e-02 -5.71395452e-02  3.77218501e-02 -1.08456535e-01\n",
      "  4.45379895e-02 -1.65592631e-01 -3.36055921e-02 -1.47013107e-02\n",
      " -1.29834712e-02 -2.08345976e-02 -1.07459252e-01 -2.72408288e-02\n",
      " -7.50637886e-02 -6.86184534e-02 -2.09343903e-02 -9.63148169e-03\n",
      "  7.00461883e-03 -2.00794995e-02  5.28488152e-02  1.74741367e-02\n",
      " -2.32846578e-02 -7.19205634e-02  3.47971305e-02 -9.48934319e-02\n",
      " -2.63715494e-02  2.01896390e-02  1.14906439e-02  1.59316705e-02\n",
      "  2.31440677e-02 -6.02249745e-02 -9.01424863e-02 -5.61599225e-02\n",
      " -9.92513207e-03  2.27912365e-02 -1.38014954e-02  1.04089598e-02\n",
      " -1.59770410e-01 -1.17087279e-02 -1.73593338e-01  1.13596515e-02\n",
      "  8.74413357e-03  7.10833147e-02 -1.80798380e-02  5.83957269e-02\n",
      "  1.74414461e-02  7.24790755e-02 -4.92086580e-02 -3.85774805e-02\n",
      "  9.50701310e-02  2.93940900e-02  3.22292856e-03  1.18508643e-02\n",
      " -2.46201780e-01  1.94462702e-01 -3.03620084e-02  1.01424712e-01\n",
      " -7.83396202e-06 -1.68857810e-01 -5.68717502e-02 -1.01979371e-01\n",
      " -5.03246352e-03 -1.46113882e-01 -5.83512783e-02  8.81957204e-03\n",
      "  5.15645535e-01 -6.63159869e-02 -5.62050505e-02 -6.32576126e-02\n",
      " -2.62424464e-02 -2.44666884e-02  8.77039645e-03 -7.58625098e-02] and shape is (112,)\n",
      "Topic 5: \n",
      "user -- 0.5156455353161217\n",
      "company -- 0.4297223684175364\n",
      "code -- 0.21374939534902862\n",
      "system -- 0.1944627020415917\n",
      "design -- 0.1300360560289209\n",
      "build -- 0.11562795355314419\n",
      " \n",
      "The component is [-1.13503619e-02  3.31008868e-02  2.23343844e-02  1.37750044e-02\n",
      "  2.22654944e-02 -8.07209999e-02 -3.74738268e-02 -2.45718984e-02\n",
      " -8.67539469e-02  6.25573377e-02  1.05157013e-01 -4.80847860e-02\n",
      "  7.38464417e-01  1.16883648e-02 -1.69631257e-01 -3.98418950e-03\n",
      " -3.39954854e-02  2.58274091e-02 -1.45296395e-01 -1.66421766e-02\n",
      "  1.20737688e-03 -1.36125188e-02 -9.78233784e-03  1.22371207e-02\n",
      "  6.16059766e-03  3.05934712e-02  5.31392142e-03  6.39904103e-03\n",
      "  3.80898850e-02 -2.10836851e-02  5.37859014e-03 -2.81797726e-02\n",
      " -5.43505513e-02 -3.62192953e-02 -1.90463420e-02  3.53923040e-02\n",
      " -2.98054993e-02  1.03541732e-02 -4.61322446e-03 -1.56365930e-01\n",
      "  4.37673044e-03 -6.07393477e-02 -2.30468187e-02  1.57364262e-03\n",
      "  1.49770787e-02  6.91093335e-02 -5.29051699e-02 -2.95134448e-02\n",
      " -1.37301691e-02  2.38764689e-03  7.74730375e-02 -2.63726503e-02\n",
      "  1.23206659e-02 -3.19000044e-02 -9.58750195e-03 -1.30740701e-02\n",
      "  9.66898821e-03 -4.69810129e-02  1.56996900e-01 -9.48314986e-02\n",
      "  9.79423848e-03  3.48644021e-02 -7.48847964e-02 -7.76447522e-02\n",
      "  3.13394086e-02 -1.27350190e-04  1.36325400e-02  2.59702672e-02\n",
      " -2.07333953e-02 -1.51001974e-01  2.34244038e-02  7.07877775e-03\n",
      "  4.18861978e-02 -1.35970332e-01 -5.81867038e-02  1.77463246e-03\n",
      " -1.14486853e-01  4.39217705e-02  9.44702905e-03 -2.03157822e-02\n",
      "  5.29321505e-02  2.44365726e-01  7.54108012e-03  4.80898803e-02\n",
      " -5.02904627e-02 -4.52293448e-02 -2.46526640e-02  2.03399102e-02\n",
      " -6.30940808e-02 -4.01759239e-02 -1.31220690e-02  4.77181040e-02\n",
      "  1.31308667e-01 -1.03016637e-01  2.67070672e-02 -4.13873140e-02\n",
      "  2.02031892e-02  1.58165907e-02 -1.43378141e-02  1.57420266e-02\n",
      "  7.74202503e-02 -1.68460348e-01  2.22173313e-02 -1.13909677e-03\n",
      " -1.84965570e-01  2.95745240e-02 -5.71414278e-04 -1.46922287e-02\n",
      " -6.91461015e-02 -2.77008940e-02  8.17935872e-02 -6.28568281e-02] and shape is (112,)\n",
      "Topic 6: \n",
      "code -- 0.7384644166322766\n",
      "say -- 0.2443657256109789\n",
      "need -- 0.1569968999002384\n",
      "support -- 0.13130866698241672\n",
      "case -- 0.10515701328855824\n",
      "write -- 0.08179358719745702\n",
      " \n",
      "The component is [ 2.67480449e-02  5.02956139e-02  2.59922354e-02  7.52980488e-02\n",
      "  2.28720700e-02  2.12823384e-04 -2.18311769e-02  5.26072768e-03\n",
      " -4.48732309e-04 -6.79786348e-03  6.73376258e-02  3.05249842e-02\n",
      " -1.16867557e-02  3.34186174e-03 -4.55714090e-01  3.30168587e-03\n",
      "  5.53745362e-02 -7.04625005e-02  9.77734592e-02 -3.05695514e-02\n",
      " -2.94929719e-01 -1.04766550e-02  2.45302120e-02 -2.40895396e-02\n",
      "  1.76969352e-02 -4.12866356e-02  6.04309841e-02 -2.41231268e-02\n",
      "  6.63013877e-02  6.18740309e-02 -1.14579090e-02  1.61207259e-02\n",
      " -4.94329326e-02 -5.52171023e-02 -5.66300458e-03 -1.59257995e-02\n",
      "  1.56129869e-03 -5.99865985e-03 -1.13969810e-02  1.00847712e-01\n",
      " -3.98724249e-03 -7.08625203e-03 -4.28300832e-02  9.95122660e-03\n",
      "  1.45602737e-03 -6.76567453e-03  9.46455490e-03 -5.42523556e-02\n",
      "  1.34117679e-02  1.93518693e-02 -9.99241408e-03 -2.20571151e-02\n",
      "  2.26728303e-02  2.16458447e-02 -4.57090722e-02  8.23362432e-03\n",
      " -1.23693916e-02  2.90473758e-02 -1.83678252e-02 -7.53005982e-02\n",
      "  3.69737460e-02  4.98609043e-02 -2.89254001e-02  2.25117999e-01\n",
      " -1.05681650e-02  5.50966366e-02 -1.38967140e-02  1.05431137e-02\n",
      " -1.47454478e-02 -1.39564039e-01 -3.94588295e-02  2.62772288e-02\n",
      "  2.71717196e-02 -5.23241724e-02 -3.54077494e-02 -1.39172010e-02\n",
      "  1.10469117e-01  3.05476977e-02 -1.82847721e-02 -1.40061832e-02\n",
      " -5.92688686e-03  2.24578594e-01 -1.70915010e-02 -1.18157027e-03\n",
      "  3.32152945e-02  2.78715445e-02 -9.11615114e-03 -2.07497173e-02\n",
      " -1.50390353e-01 -7.62131243e-02 -6.52869543e-02 -1.87389753e-02\n",
      " -6.17905270e-02 -7.33188544e-02 -3.66972076e-02 -6.69458619e-02\n",
      " -9.08642330e-03 -1.97172463e-02  2.58450441e-02  3.87401766e-02\n",
      " -2.05707809e-01  1.04305735e-01  2.12822098e-02  1.26286950e-01\n",
      "  5.72400503e-01  7.10485813e-04  1.33013604e-02  2.76990058e-02\n",
      " -1.03506761e-01 -5.23245459e-02  2.91304545e-02 -7.86724410e-02] and shape is (112,)\n",
      "Topic 7: \n",
      "user -- 0.5724005031367471\n",
      "people -- 0.2251179992664574\n",
      "say -- 0.2245785941326021\n",
      "use -- 0.12628695018552286\n",
      "research -- 0.11046911672096542\n",
      "try -- 0.10430573515443366\n",
      " \n",
      "The component is [-3.84047148e-03  2.50825928e-02  4.94475523e-03 -1.45498890e-01\n",
      " -1.77838016e-02 -6.51092416e-03 -1.77038889e-02 -4.79672401e-02\n",
      "  4.65168346e-03 -8.12011273e-03 -1.99299561e-02  2.07911432e-02\n",
      " -2.20698143e-01  2.68361011e-04 -4.13473866e-01 -1.71067974e-02\n",
      "  1.81074311e-02  4.33382957e-02 -2.64530962e-01 -1.38544853e-02\n",
      "  1.97114427e-01  3.61288284e-02 -8.07421361e-02 -7.12373449e-03\n",
      "  4.39331361e-03  3.58154549e-03 -3.92311462e-02  5.41525094e-02\n",
      "  3.73268359e-03 -1.08949368e-01 -3.60477638e-02 -9.76097647e-03\n",
      " -4.50979417e-02  3.69431053e-02  1.07883574e-02  5.80313317e-02\n",
      "  1.76763793e-02 -1.72691763e-02  6.50747356e-04 -2.65424363e-02\n",
      " -2.64779525e-02 -1.55250062e-01 -9.93891526e-03  1.50858078e-02\n",
      "  2.66424770e-02  5.20230026e-02 -6.56222195e-02  5.43864667e-04\n",
      " -3.37249553e-02  3.80463294e-02  7.37681728e-02  2.66704530e-02\n",
      "  3.70441632e-02 -3.04580967e-02  2.27765383e-02 -8.92698307e-03\n",
      " -5.10690650e-02 -4.24085997e-02  2.04100955e-01  3.36320153e-01\n",
      " -6.33329458e-02 -1.14703484e-01  4.66211811e-02 -2.02259285e-01\n",
      "  4.93432438e-03  2.67233715e-02  2.43499603e-02 -2.08654730e-02\n",
      "  2.67358890e-03  6.46469685e-02 -2.40747311e-02  1.62334897e-02\n",
      " -1.60116151e-03  4.91908944e-02 -1.26483576e-01 -4.54767063e-02\n",
      " -2.25475293e-01 -1.18477360e-01 -2.09985058e-03 -2.16160570e-02\n",
      " -4.91547467e-02  1.66502926e-01  9.93755339e-03 -9.11825272e-02\n",
      "  8.15979606e-03 -2.35212828e-02 -8.39905191e-02 -6.52222989e-02\n",
      "  3.56011737e-02 -8.22920517e-03  1.60282231e-02 -1.75568025e-02\n",
      "  1.63600136e-01  3.74195393e-01 -2.33210482e-03  1.02316807e-01\n",
      "  1.83024136e-02  3.97825029e-02  3.88281426e-02  7.30091870e-03\n",
      "  4.30603808e-02 -1.26614995e-02  1.92105417e-02 -1.19633780e-02\n",
      "  1.05680543e-01  3.79010527e-02 -2.36469697e-02 -4.76937854e-02\n",
      " -7.82882179e-03  2.40720838e-02  2.67275030e-02 -1.54191814e-02] and shape is (112,)\n",
      "Topic 8: \n",
      "system -- 0.3741953927723521\n",
      "new -- 0.3363201529560958\n",
      "need -- 0.20410095540503304\n",
      "design -- 0.19711442673981908\n",
      "say -- 0.1665029255522808\n",
      "support -- 0.16360013630704187\n",
      " \n",
      "The component is [-2.27731006e-02 -5.95374974e-03  3.15327145e-03 -1.97254460e-02\n",
      "  6.63680030e-03 -4.81829068e-02 -1.03064096e-02  7.31592002e-02\n",
      " -1.38211543e-01  1.87987793e-04  8.40814969e-02  1.84374095e-02\n",
      " -1.12467553e-01  9.93195288e-03  8.06832019e-02  8.73765583e-03\n",
      "  1.12009056e-02 -1.18968547e-01  2.53046004e-02  1.67886601e-01\n",
      " -1.95898924e-01 -2.04103792e-02 -1.84526275e-02  6.60403785e-02\n",
      " -2.59995921e-02  4.70417297e-02  1.71505504e-02  2.51298787e-02\n",
      " -6.90380172e-02 -1.80831539e-02  6.46923282e-02 -1.66639118e-03\n",
      " -1.72411144e-02 -5.81413494e-02  3.28449167e-02 -2.43731719e-03\n",
      "  6.71199664e-02 -1.19230103e-02 -3.60525913e-02  1.91941726e-01\n",
      " -1.53286556e-01 -4.96048525e-02 -2.85483426e-02 -7.97191894e-03\n",
      "  2.11801532e-02  8.23249547e-02  4.08888102e-02 -2.19903619e-02\n",
      " -3.99757701e-03  3.39445019e-03  1.03136055e-01 -4.23637305e-02\n",
      " -5.19550263e-02  5.70188442e-02  1.75920019e-02 -4.31273977e-02\n",
      "  4.75533397e-02  1.90521943e-02 -1.24017965e-01 -2.95591521e-01\n",
      "  5.42921403e-02  1.12309224e-01 -5.13552375e-02 -3.44591145e-01\n",
      "  1.07471241e-02  8.06544377e-02  1.84236828e-02  7.67263680e-02\n",
      "  7.81500368e-03 -1.88296058e-01  2.69924546e-02 -5.93001151e-03\n",
      " -4.99968453e-02 -1.40864929e-01 -1.05827796e-01  9.79370438e-03\n",
      " -2.82946560e-01  1.12412541e-01  4.04469585e-02  8.06560422e-03\n",
      "  3.55964968e-02  2.99251182e-03 -1.85725023e-03  1.03825299e-01\n",
      "  4.03641870e-02 -4.74362933e-02  9.28585871e-02 -2.66038747e-02\n",
      " -1.74667210e-02 -9.29780345e-02  5.09153364e-02  6.36546020e-02\n",
      " -3.29300263e-02  2.31986417e-01  6.70951047e-02 -1.04573361e-01\n",
      "  4.12881271e-02  2.93241838e-02  5.74421392e-02 -4.60307801e-02\n",
      "  3.35685929e-01  1.94216722e-01  3.96320750e-02 -9.39881459e-02\n",
      "  9.81201224e-02  4.18076722e-02  1.09834855e-01 -8.06745526e-02\n",
      "  3.45884082e-02 -7.82053104e-02 -7.94705895e-03  6.73257954e-02] and shape is (112,)\n",
      "Topic 9: \n",
      "time -- 0.33568592945402703\n",
      "system -- 0.2319864165561277\n",
      "try -- 0.19421672175654497\n",
      "happen -- 0.19194172643679006\n",
      "day -- 0.1678866006408319\n",
      "result -- 0.11241254143109217\n",
      " \n",
      "The component is [ 3.23339249e-02 -1.05450089e-01  2.77715607e-02  1.44067649e-02\n",
      "  6.76504508e-02 -5.83715850e-03 -6.38943534e-02  4.05971940e-02\n",
      " -8.09009354e-02 -1.67365393e-02 -9.53309153e-03  4.70554661e-02\n",
      " -3.16306056e-02 -4.00784824e-03 -3.02629615e-02  3.93025091e-02\n",
      "  8.46446951e-02 -1.22553807e-02 -2.40201618e-01 -1.07049640e-01\n",
      "  4.77553175e-02 -4.17650122e-02  1.75218819e-04  2.66729806e-02\n",
      "  1.84115445e-02  1.51686996e-02 -2.38262074e-02  2.62520753e-03\n",
      " -1.28534280e-01  3.20653446e-02  5.23094159e-02  1.26243509e-02\n",
      " -8.72204674e-02  1.55685058e-02 -3.34939115e-02 -5.29208954e-02\n",
      " -3.15145760e-02  5.25616360e-03  3.70012198e-03  1.04066035e-01\n",
      "  7.04786132e-02  5.75021527e-02  3.24467864e-02 -1.16681588e-01\n",
      " -1.23818823e-02 -8.84127456e-02 -3.26631669e-02 -3.33481764e-02\n",
      "  2.18969974e-03 -3.18604426e-02 -7.41523484e-02 -2.06622552e-02\n",
      " -5.51530587e-02 -5.55612376e-02 -8.38249398e-03 -6.75236712e-03\n",
      " -3.51176126e-03 -6.40365678e-02  1.04828294e-01 -1.59885817e-01\n",
      "  1.04388990e-03 -5.48068715e-05 -3.36647573e-02  2.85124255e-01\n",
      " -2.99194836e-02  4.85006417e-02  5.70718821e-02  1.05542697e-01\n",
      "  8.84219192e-02 -1.60458677e-01  4.04067337e-02  9.72773019e-02\n",
      "  9.20820004e-02 -1.69592145e-01  2.31413138e-02  6.83020381e-02\n",
      "  5.06676128e-02 -8.03150513e-02  2.43741712e-03  3.98439463e-02\n",
      "  2.59095743e-02 -1.08429911e-02 -2.03572066e-02  3.74738298e-01\n",
      "  2.58513189e-02  4.12756716e-03 -6.27492167e-02  8.67959721e-02\n",
      "  6.50743738e-02 -2.56549933e-02 -5.39826164e-03 -4.47021779e-02\n",
      " -2.03100322e-01  3.88090354e-01 -9.98344298e-04  1.88101583e-01\n",
      " -1.86811598e-02 -9.61998934e-02 -1.92782661e-02  7.61125430e-02\n",
      " -1.42526375e-01  1.51518484e-01  4.69968350e-03  1.16398915e-01\n",
      " -2.36954119e-01 -4.43394193e-02  3.95135279e-02  3.43452609e-03\n",
      "  4.66235029e-02  3.53470940e-02  3.00846190e-02 -1.67810064e-01] and shape is (112,)\n",
      "Topic 10: \n",
      "system -- 0.38809035394229885\n",
      "service -- 0.3747382980468888\n",
      "people -- 0.2851242548290328\n",
      "technology -- 0.18810158341722996\n",
      "try -- 0.15151848400683254\n",
      "use -- 0.11639891515601876\n",
      " \n",
      "The component is [-1.36190769e-02 -7.30778676e-02 -1.52923080e-02  5.01610764e-01\n",
      " -5.00171086e-02 -1.97911262e-02 -5.29156613e-02 -3.91449782e-02\n",
      " -2.71983666e-02 -4.88666804e-02 -2.40470236e-02 -7.04788765e-02\n",
      "  1.17353018e-01  1.08970682e-02 -9.79080267e-02 -2.54144071e-02\n",
      "  6.77632437e-02 -4.63325658e-02 -1.13221384e-01  8.51939763e-02\n",
      "  3.98695184e-02 -1.95578158e-02 -2.21546501e-02  1.54594080e-02\n",
      " -3.84228502e-02 -3.32937331e-02 -1.00534891e-01 -4.18411947e-02\n",
      "  7.54779310e-03  7.56429168e-02 -7.02594769e-02 -1.93517670e-02\n",
      "  4.09531108e-02 -6.05210332e-02  1.40622175e-02 -1.27463010e-01\n",
      "  4.01542818e-03 -1.72367916e-02  3.71552625e-02 -9.27446258e-02\n",
      " -5.74140891e-02 -5.62933844e-02 -2.89614396e-02 -5.34989769e-03\n",
      "  3.99353999e-02  7.35164527e-02 -8.01988012e-02  4.98688560e-03\n",
      "  4.25485534e-02 -1.36301504e-02  3.46723151e-02 -9.82922103e-03\n",
      "  5.77034859e-02  4.11013973e-02 -5.73562915e-04 -6.16223338e-03\n",
      " -3.82222385e-02 -1.33941167e-02 -3.04907854e-01 -1.63448141e-01\n",
      "  8.69201003e-02 -8.28546274e-02  1.47127982e-01 -3.35240039e-02\n",
      " -3.51163585e-03 -4.07057291e-02 -2.66199873e-04 -2.18723354e-02\n",
      " -2.49957960e-02  1.96558872e-01 -2.13292069e-02 -8.91223721e-02\n",
      "  1.28486787e-02  6.09484885e-02  1.11892477e-01 -4.99189753e-02\n",
      "  8.85783231e-02 -4.86740094e-02  9.31579544e-02 -3.57789450e-03\n",
      " -7.06235240e-02  2.97929730e-02 -1.11989428e-02  5.75895372e-02\n",
      " -4.47639905e-03 -2.02637103e-02 -5.86445195e-02 -8.28751617e-02\n",
      "  8.74308891e-02  2.46482508e-01  2.64823592e-02 -1.01805554e-01\n",
      "  2.05218570e-02  2.13541391e-01 -4.49263266e-02  8.07491686e-03\n",
      " -1.31492631e-02  9.38181137e-02  1.77075031e-02  3.89364094e-02\n",
      " -5.78067825e-02 -1.02518360e-01 -3.91414925e-03 -1.29415240e-01\n",
      "  9.52566461e-02  1.07157738e-01  3.11333711e-02 -6.74150202e-02\n",
      "  3.25128626e-01 -1.09310578e-01  8.62661756e-02  1.64448132e-03] and shape is (112,)\n",
      "Topic 11: \n",
      "article -- 0.5016107639299412\n",
      "work -- 0.32512862626399375\n",
      "source -- 0.24648250838917157\n",
      "system -- 0.21354139084355234\n",
      "project -- 0.19655887196416869\n",
      "open -- 0.1471279822221305\n",
      " \n",
      "The component is [ 0.00895399 -0.01636723 -0.01597307 -0.0956758   0.04012838 -0.0526548\n",
      " -0.07216511 -0.11263758 -0.16736639 -0.01100152  0.00218135 -0.00362396\n",
      " -0.10949212 -0.02904038  0.09154128  0.01229374  0.00216008  0.11763751\n",
      "  0.13108637  0.01788818 -0.271437    0.02535291 -0.03646148  0.01533604\n",
      "  0.02016043 -0.02204829 -0.01111772 -0.01168145 -0.09577263  0.03097252\n",
      " -0.00962602 -0.01517071 -0.02174426 -0.07836875 -0.00589893  0.04896137\n",
      "  0.01119732 -0.07403659 -0.04648902 -0.09472603  0.20456667 -0.07947682\n",
      " -0.02622147  0.11571257  0.12473727 -0.0273709  -0.13956776 -0.03284031\n",
      " -0.02186947  0.00528211 -0.00405642 -0.05291929 -0.03859369 -0.04749051\n",
      "  0.01139477  0.03207904 -0.00097606 -0.0604042   0.36439815 -0.16938145\n",
      " -0.01195953 -0.04664888  0.03190162  0.0592417   0.02004784  0.0053125\n",
      " -0.00512449  0.07818804  0.06466457  0.21162618  0.00095776  0.09132321\n",
      "  0.04949499 -0.09727673  0.32425538  0.00223138 -0.07998536  0.0607425\n",
      " -0.02195023 -0.12231699  0.11584494  0.06634648 -0.05592576 -0.22814133\n",
      "  0.00436927  0.02356106 -0.05525959 -0.28004892 -0.0403838   0.04988521\n",
      "  0.01046744  0.05663398  0.03364973  0.05976388 -0.0074712  -0.08453236\n",
      "  0.02005638 -0.00408393 -0.01145154 -0.05663406  0.00214538 -0.03557898\n",
      " -0.03912754  0.06411036 -0.02852156 -0.0654251   0.08707799 -0.06298587\n",
      "  0.2552613  -0.05516081 -0.00529486 -0.13458903] and shape is (112,)\n",
      "Topic 12: \n",
      "need -- 0.36439815390723074\n",
      "report -- 0.3242553805166903\n",
      "work -- 0.25526129607462017\n",
      "project -- 0.21162618232230185\n",
      "help -- 0.20456666748138086\n",
      "datum -- 0.13108636897127873\n",
      " \n",
      "The component is [-3.71712268e-02  7.33209322e-02  2.23971120e-02  4.62428736e-01\n",
      "  1.09729300e-03  1.55600599e-02 -1.67332905e-01  2.23188536e-02\n",
      " -1.04395097e-01 -2.15226193e-02 -5.57652655e-02  3.48432101e-02\n",
      " -1.61357058e-02  2.93709384e-02  5.59772312e-02 -2.32884896e-02\n",
      " -1.31119711e-02  2.80593829e-02  3.86202282e-01  6.10700304e-02\n",
      " -1.84187150e-01  3.95386800e-02 -4.48794096e-02  3.91916774e-02\n",
      "  1.85101033e-02 -4.03280751e-02 -2.24687279e-02 -5.55297135e-03\n",
      "  2.14003523e-02 -4.43309690e-02 -2.02013230e-02 -1.05792790e-02\n",
      "  2.94962621e-02  2.57610097e-02  3.11079023e-03 -3.43612255e-02\n",
      "  2.52248112e-02  2.17997908e-02  2.88327984e-02  4.31527448e-02\n",
      " -4.12125119e-02 -2.79074594e-01 -9.85840082e-03  9.54466348e-02\n",
      " -2.81916357e-02  3.27889457e-02 -1.75119745e-02 -2.65086428e-02\n",
      "  3.91191704e-02 -2.37043852e-03 -3.85810578e-02 -2.36226456e-02\n",
      "  1.86345868e-02 -3.52458351e-02  1.20210745e-02  1.82516574e-02\n",
      " -2.56981115e-02 -1.18471542e-02  1.24552523e-01  1.78355926e-01\n",
      " -1.88698866e-02 -5.69701350e-02 -1.39970765e-02  3.52186065e-04\n",
      "  1.32956456e-03  2.70331501e-02 -4.96947864e-02 -1.06954534e-01\n",
      " -2.70661406e-02 -5.36158421e-02 -9.12519664e-02  5.51635915e-02\n",
      "  2.80995170e-02 -9.10072816e-02 -2.39554538e-01  1.81351895e-03\n",
      " -5.95992922e-02 -1.30157465e-01 -6.92981836e-02  5.80283868e-02\n",
      "  1.72007890e-02 -5.94901195e-02  2.11985452e-02 -1.23271176e-02\n",
      " -4.58437513e-03  4.72380123e-02 -1.44924611e-01 -1.01883998e-01\n",
      "  1.89094580e-02 -9.36247172e-02 -3.94042830e-02 -1.34625538e-01\n",
      " -4.55854038e-02  1.66857289e-02  1.21192760e-02  2.37929955e-01\n",
      " -4.21697021e-02 -6.24712653e-02  4.73366045e-02  1.49289543e-02\n",
      "  8.89342734e-02  4.63193136e-03 -1.55014882e-02  1.20971472e-01\n",
      " -1.90211028e-01 -2.32774480e-02  5.52322567e-02  2.32993164e-02\n",
      " -1.79939297e-01  6.05856837e-02  1.29646455e-01  2.69676382e-02] and shape is (112,)\n",
      "Topic 13: \n",
      "article -- 0.46242873585148586\n",
      "datum -- 0.3862022815337359\n",
      "technology -- 0.2379299550948758\n",
      "new -- 0.17835592592763488\n",
      "write -- 0.12964645493186966\n",
      "need -- 0.12455252294625759\n",
      " \n",
      "The component is [-1.62639938e-03  1.27375059e-01  2.41458801e-03  1.34691257e-01\n",
      " -2.36560818e-03  3.89257615e-02 -7.02385476e-03  2.01672240e-02\n",
      "  7.03146031e-02 -1.42122438e-02  2.94371871e-02 -6.36558823e-02\n",
      " -1.88663406e-01  1.45773130e-02 -1.95531975e-01 -4.22637894e-03\n",
      " -7.21254627e-02  1.12248144e-01 -1.43550252e-01  7.22640447e-02\n",
      " -1.48215379e-01  7.18898769e-04 -4.41922836e-02 -9.61755453e-03\n",
      "  8.53203567e-02  6.32626319e-02 -5.13333135e-02  3.99866148e-03\n",
      "  1.95306061e-01 -1.73386392e-02  9.90947610e-02 -4.91662787e-02\n",
      " -2.08931793e-04 -1.39111771e-01 -1.72347126e-03 -8.41639316e-04\n",
      " -4.92794783e-02  5.43430648e-02 -1.27822852e-02 -1.07218321e-01\n",
      "  7.37861452e-02 -1.35588918e-03  5.03645921e-02 -1.32499802e-01\n",
      " -2.03870976e-02 -1.17634278e-01  5.57964397e-02 -1.75950304e-02\n",
      " -8.02584831e-05  1.31951847e-02 -9.76170299e-02 -8.05411167e-02\n",
      " -6.30611270e-03 -2.43904654e-02  8.71333651e-03 -2.05986068e-02\n",
      " -4.63296113e-02 -2.50269238e-02  1.44581118e-01  3.27288934e-02\n",
      "  3.45308841e-02  1.03962069e-01  7.01162354e-02 -1.58204901e-01\n",
      "  2.55940063e-02  4.00121085e-02 -6.81906595e-02  8.33558491e-02\n",
      " -3.31588549e-02  2.64262582e-01  2.56401929e-02 -1.97755952e-02\n",
      "  3.61042909e-02  8.39104847e-02  5.47643982e-02  3.11011633e-02\n",
      " -9.69527804e-02 -1.08767823e-02 -1.49178269e-01 -1.48019068e-02\n",
      "  7.77484528e-02  2.35169301e-02 -3.57262035e-02  4.05180260e-01\n",
      " -3.78192855e-02  2.13620767e-02 -2.45296025e-02  1.95463151e-01\n",
      " -2.63242518e-03  1.08725187e-01  1.12124211e-01  6.98072707e-03\n",
      " -2.02702519e-01 -2.41316603e-01 -2.75672921e-02 -1.48597185e-01\n",
      " -8.46988586e-02 -1.27138723e-01 -1.75998168e-02 -9.09794254e-02\n",
      "  1.86983329e-01 -7.42704838e-02  2.79040180e-02  7.24029786e-02\n",
      " -5.43555812e-02 -5.05902499e-02  1.15525167e-02 -3.10724998e-02\n",
      " -1.67201220e-02 -5.04869289e-02  5.75292090e-02  5.45083884e-02] and shape is (112,)\n",
      "Topic 14: \n",
      "service -- 0.40518025997315366\n",
      "project -- 0.26426258193011726\n",
      "small -- 0.19546315070164688\n",
      "feature -- 0.19530606132501516\n",
      "time -- 0.18698332907623808\n",
      "need -- 0.14458111792456765\n",
      " \n",
      "The component is [ 0.00125608  0.10355962 -0.04230457  0.47343719  0.03155908 -0.06973325\n",
      "  0.04221145 -0.06412294  0.03109606  0.04765419  0.10116239  0.13600856\n",
      " -0.03001165  0.00782907  0.20863502  0.04685596  0.0022185   0.02104457\n",
      " -0.48135651 -0.0510127  -0.08748397  0.04866121 -0.00332573 -0.02572296\n",
      " -0.05073282 -0.02706055 -0.00637264  0.02865554 -0.02452648 -0.0461971\n",
      " -0.02579494 -0.0127112   0.0240894   0.00725303 -0.03080675  0.09122991\n",
      "  0.00125464 -0.00302174 -0.00299648  0.05653083  0.01299253  0.05610749\n",
      "  0.03874516 -0.04229479 -0.02729944 -0.04799898  0.01818504 -0.01284314\n",
      " -0.03817245 -0.01549779  0.00750571 -0.01446936 -0.10274645  0.10951149\n",
      " -0.07998003 -0.01564471 -0.03151119  0.03803701  0.2073902   0.1607815\n",
      "  0.06924292  0.09043931 -0.09723173  0.10650292 -0.03172993  0.01760956\n",
      " -0.00154218  0.01546649  0.00497379 -0.12148291 -0.02625067  0.05045137\n",
      " -0.01164451  0.07590276  0.00052875  0.01867462  0.00601781  0.02041692\n",
      "  0.05547629 -0.09365742 -0.12195638 -0.1483187  -0.0106202  -0.15171577\n",
      " -0.05440551  0.03562602  0.06431809 -0.04936563 -0.18547671 -0.15126586\n",
      "  0.02224344  0.04438553  0.12221385  0.01697205  0.01773526 -0.19492101\n",
      "  0.04806553  0.01654385 -0.04466055 -0.01544798  0.0414971   0.06149177\n",
      " -0.01849363 -0.01958275  0.06467574 -0.11697758 -0.0185349   0.01633852\n",
      "  0.0110059   0.01722624 -0.07035059  0.05617784] and shape is (112,)\n",
      "Topic 15: \n",
      "article -- 0.4734371895643136\n",
      "company -- 0.20863501873757626\n",
      "need -- 0.20739020136737102\n",
      "new -- 0.16078150130833477\n",
      "change -- 0.13600856101041497\n",
      "support -- 0.12221385447097222\n",
      " \n",
      "The component is [ 2.89776944e-02 -7.63068348e-02  1.78505067e-02  2.87751600e-01\n",
      "  1.47053927e-02  5.51429306e-02  6.86987803e-02  2.50458351e-02\n",
      "  1.10062817e-01 -1.27892610e-02 -8.95861696e-02 -1.22619673e-01\n",
      " -1.72129156e-01  1.27755819e-02 -7.27465772e-02 -1.85077531e-02\n",
      " -2.15005813e-02  9.18445719e-02  1.19673327e-01 -6.53972385e-02\n",
      "  5.12144777e-01 -6.53468922e-03  1.44376459e-03 -2.18646247e-02\n",
      "  5.43228484e-02  3.36806629e-02  3.37473783e-02 -1.22382839e-02\n",
      "  1.16075899e-01  5.67687452e-02  1.58572223e-02 -1.79658222e-02\n",
      " -2.89577371e-02  2.74592233e-02  1.47985020e-02  7.45668063e-02\n",
      "  1.23055886e-02 -3.56074419e-02 -2.73212786e-04  7.56083947e-02\n",
      "  7.51473421e-02 -9.77479220e-03 -4.26925770e-02  3.08948216e-02\n",
      " -1.38119604e-01 -4.92229583e-02 -3.43638066e-02 -2.71518652e-02\n",
      "  6.46588524e-02 -5.15637097e-02  1.92236865e-02 -2.64457525e-02\n",
      "  5.40270723e-02 -9.19892096e-02  1.30274235e-01 -1.59061513e-02\n",
      "  4.53759960e-02 -5.89694158e-02  1.19289572e-02 -6.05386732e-02\n",
      " -2.74398322e-02 -6.61218318e-02 -6.67463155e-02 -2.87042973e-02\n",
      " -1.67973932e-03 -3.70711076e-02  6.21840906e-02  5.11439611e-02\n",
      " -3.18537509e-02 -2.45040273e-01  5.32145006e-03  3.16778410e-02\n",
      "  3.99266036e-02 -1.01068717e-01  1.07307942e-01 -4.81889960e-03\n",
      " -9.78488046e-02  1.10197505e-01  2.06723894e-02 -9.85658018e-02\n",
      "  2.09311868e-01  1.07580949e-01  7.12663253e-05 -3.19912398e-02\n",
      "  2.77064223e-02  6.05254638e-02 -3.25497420e-02 -5.00369395e-02\n",
      " -8.18382997e-02 -1.16571534e-01 -3.20082395e-03  7.58386067e-02\n",
      "  3.99140405e-02 -2.00878528e-01 -1.01425801e-02 -8.70324737e-02\n",
      " -3.73257497e-02 -1.36616362e-01  3.61201137e-03 -5.36396999e-03\n",
      "  5.96326823e-02  1.17959150e-01 -1.07438468e-02 -1.63257326e-01\n",
      "  9.90401945e-03  1.96014034e-02  1.33539464e-01 -5.37153891e-02\n",
      "  1.02714993e-01 -2.31501809e-02  2.64096509e-02 -2.29416436e-01] and shape is (112,)\n",
      "Topic 16: \n",
      "design -- 0.5121447767770504\n",
      "article -- 0.2877515997035011\n",
      "run -- 0.2093118683880218\n",
      "want -- 0.13353946364854138\n",
      "look -- 0.13027423456113602\n",
      "datum -- 0.11967332694092778\n",
      " \n",
      "The component is [ 3.80568331e-03  9.60629695e-02  3.53890398e-02  1.37419768e-01\n",
      " -1.11385716e-02 -2.59199841e-02  1.12102193e-02  6.86232246e-02\n",
      "  2.93430789e-02 -3.00192460e-03  3.53815848e-03  4.13463407e-02\n",
      " -1.53162469e-01 -7.09017038e-02  1.15934577e-01  3.82338944e-04\n",
      "  1.63795033e-02  3.68431427e-02 -1.27891096e-01 -4.49276776e-02\n",
      "  1.19407180e-01 -1.02609304e-01 -9.02203520e-03  6.39486890e-02\n",
      "  5.15840615e-02  9.82311324e-03  7.00668321e-02  3.85535848e-02\n",
      " -7.10212119e-04 -2.73278943e-02  2.68636973e-02  2.11357134e-03\n",
      "  1.69253416e-02  2.01759492e-02  1.90198336e-02 -3.70338433e-02\n",
      "  1.02799527e-02  3.08701816e-02  4.81411158e-02 -8.86964804e-02\n",
      " -2.53424740e-01  1.36947900e-01 -2.48106756e-02 -6.25939808e-02\n",
      "  5.17123595e-02  2.35685201e-03  4.00026602e-02 -2.87776564e-02\n",
      "  6.98916284e-03  4.15288102e-02  1.21379800e-01 -6.60971849e-03\n",
      "  8.93858203e-02  7.36118046e-03  2.83362129e-02  6.88496608e-02\n",
      "  7.85745750e-02 -8.77795015e-02  1.16118099e-01 -2.78392378e-01\n",
      " -1.27600269e-02 -1.55200399e-01 -2.27271623e-02 -6.97301171e-02\n",
      "  4.60494511e-02  3.86282592e-02  3.35763848e-02 -1.25188557e-01\n",
      " -9.10374349e-03  2.35454806e-01  7.46909296e-02 -1.75638584e-01\n",
      " -6.23424844e-02 -1.50594702e-01 -1.71576100e-01  7.73012366e-02\n",
      " -1.45087685e-01  7.80371344e-02 -2.22144240e-02  6.22341606e-03\n",
      "  1.25215468e-01  6.87475816e-02 -1.10059697e-02 -1.09453923e-01\n",
      "  4.93829093e-02 -1.18232395e-01  4.16104741e-02  3.26535379e-02\n",
      " -6.61385271e-02 -1.48612564e-02 -5.92715928e-02  7.52221552e-02\n",
      " -1.47871983e-02 -7.11612172e-02 -7.50402561e-03  1.13885620e-02\n",
      "  3.26612592e-02  1.68888886e-01  7.38641093e-02  7.36237446e-02\n",
      " -2.91882728e-01 -4.61989412e-02 -1.88298989e-02  3.86114835e-01\n",
      " -2.28067780e-02  7.42381863e-02  1.03815819e-01  1.03485562e-01\n",
      " -1.05715389e-01 -1.66106269e-02  2.19186295e-02  1.75647247e-02] and shape is (112,)\n",
      "Topic 17: \n",
      "use -- 0.3861148348287738\n",
      "project -- 0.23545480607662325\n",
      "term -- 0.16888888601699342\n",
      "article -- 0.13741976815329401\n",
      "high -- 0.1369478995090952\n",
      "run -- 0.12521546849577508\n",
      " \n",
      "The component is [-9.28343836e-03  1.39520130e-01  3.84722100e-02 -5.13009525e-02\n",
      " -2.87825650e-02  5.66611635e-04 -6.65435990e-02 -1.03268068e-01\n",
      " -2.23025194e-03  2.89198412e-02  3.13596061e-02 -3.79516974e-03\n",
      " -3.93520796e-02  1.28574599e-02  4.63725035e-02 -6.38198579e-02\n",
      " -5.50442607e-03 -5.56663237e-02 -1.64045173e-01  7.50828755e-02\n",
      "  1.04243234e-02  9.15055919e-02  3.45562607e-02  2.58762556e-03\n",
      "  2.67440569e-02 -1.99211299e-02 -1.23458805e-02  3.79397726e-02\n",
      " -6.28734499e-02 -2.04615173e-02 -3.43859081e-02 -2.02436019e-02\n",
      " -2.07799445e-02  2.26471704e-02  1.97017465e-02 -1.01011957e-01\n",
      " -4.67222615e-02 -1.69001357e-02  3.16286762e-02 -2.92651645e-02\n",
      "  7.43384358e-03 -7.08761371e-02  2.14345139e-03 -8.64195762e-03\n",
      " -1.95620313e-02  6.22668434e-02 -3.27620378e-02  3.66783135e-02\n",
      " -6.26969324e-02 -3.45782550e-02  5.42385053e-02  7.48111362e-03\n",
      "  1.28714355e-01 -7.96865347e-03  4.33812332e-02  2.21402110e-03\n",
      " -4.94598233e-02 -5.90972598e-02 -3.24955351e-01  1.40683462e-01\n",
      "  1.70194175e-02  5.27349300e-02 -8.80518330e-02 -2.21424970e-01\n",
      " -2.42791848e-03 -9.86143824e-02 -1.85549798e-03  7.64940782e-03\n",
      " -7.01173771e-02 -1.32808130e-01  1.75893562e-02  6.95702409e-02\n",
      "  5.46910952e-02 -8.18773254e-02  4.32479605e-01  6.65780558e-03\n",
      "  7.90731450e-02  3.49124546e-02  4.65409887e-02 -2.79886530e-02\n",
      " -2.66744095e-03 -2.90754171e-02  4.48547510e-02  1.52615346e-02\n",
      "  4.15494426e-05  3.30169236e-02 -2.73841059e-02 -5.04348173e-02\n",
      " -1.50669519e-01 -1.02639356e-01  3.95881884e-02 -9.61358866e-02\n",
      " -3.82071914e-02 -7.54448695e-02  4.94679788e-02  2.06811509e-01\n",
      " -3.19355475e-03  4.92298234e-02  5.71138075e-02 -8.64552523e-02\n",
      "  1.05375108e-01 -5.44405157e-02 -3.81225621e-02  4.82997222e-01\n",
      "  3.02059074e-02 -5.37449905e-02  3.57835890e-03 -1.73809886e-02\n",
      " -3.56259052e-02  5.86105902e-02  4.23041091e-02 -1.72950624e-01] and shape is (112,)\n",
      "Topic 18: \n",
      "use -- 0.48299722214148677\n",
      "report -- 0.43247960508287403\n",
      "technology -- 0.20681150905178777\n",
      "new -- 0.14068346202850956\n",
      "add -- 0.13952012988680007\n",
      "like -- 0.12871435548153984\n",
      " \n",
      "The component is [-0.01178756 -0.00452787 -0.0017498  -0.02903476 -0.00127769 -0.04776269\n",
      "  0.11642531 -0.04294447 -0.05814004  0.01569516  0.01784038 -0.04558533\n",
      " -0.06090282 -0.04829896  0.0174406   0.04695984 -0.02662818  0.06416973\n",
      " -0.113934   -0.10101967 -0.24162952  0.03916171  0.07767559 -0.02602617\n",
      " -0.01105275 -0.08758778 -0.01544596 -0.02708071  0.1040992   0.00684153\n",
      "  0.06554357  0.05202529  0.00638446  0.00781283 -0.06778998  0.06637997\n",
      " -0.08371878 -0.02118635  0.01201244 -0.0141528  -0.11380102  0.07381879\n",
      " -0.00762501 -0.01113842 -0.04280262  0.02078285  0.03761866  0.07959549\n",
      "  0.01177376  0.05415744  0.05696261  0.04607897 -0.1202604  -0.03407016\n",
      " -0.05359593  0.01582873  0.00572407 -0.07132539 -0.11917269  0.08733261\n",
      "  0.05190357 -0.13332241  0.11857871  0.0068869  -0.01285647 -0.01640359\n",
      "  0.0423346   0.09271737 -0.07515949 -0.01704343 -0.04737206 -0.00976983\n",
      "  0.02584124 -0.03093176 -0.29097043  0.00502142 -0.01016804  0.08022212\n",
      "  0.02146278  0.07850765 -0.02310155  0.06997814  0.01543738 -0.03916518\n",
      "  0.10058709  0.01387837  0.05976319  0.01694627 -0.03944956  0.09445139\n",
      "  0.03290845  0.25516784  0.03738931 -0.19287284  0.04171775  0.41365261\n",
      " -0.05647611  0.0008274  -0.03181096 -0.07038123  0.08552168  0.00419471\n",
      " -0.00845261 -0.0833681  -0.00829085 -0.20224311  0.10743129  0.09235031\n",
      "  0.32831129  0.07557563  0.07668257 -0.2814796 ] and shape is (112,)\n",
      "Topic 19: \n",
      "technology -- 0.41365261112208573\n",
      "work -- 0.3283112859842767\n",
      "state -- 0.2551678436164107\n",
      "open -- 0.11857870900376576\n",
      "base -- 0.116425314943937\n",
      "want -- 0.10743129386778809\n",
      " \n",
      "The component is [ 3.76658218e-02 -9.06873876e-02  1.07797493e-02 -8.21011833e-02\n",
      " -4.26118644e-02  3.36040785e-02 -3.62305011e-02 -6.44477114e-02\n",
      "  1.53034772e-01  1.16867274e-01 -8.93381844e-02  7.43665221e-02\n",
      " -4.00495687e-02 -1.29517199e-01 -7.03481182e-02  3.38400365e-02\n",
      "  3.62383685e-02 -9.49622564e-02 -6.89728774e-02  1.69154076e-01\n",
      "  6.23572916e-03 -5.52186826e-02  1.28164446e-02 -3.19850646e-02\n",
      "  2.47131559e-02  1.14601747e-02  9.39826312e-03 -1.78767905e-02\n",
      "  1.45427661e-01 -1.81227525e-01  2.41820862e-02 -4.54714847e-02\n",
      "  5.70010577e-02 -4.57185793e-03  5.87495790e-03 -5.73297199e-02\n",
      "  2.97976430e-02  5.20181816e-02  4.52006397e-02 -6.59520527e-02\n",
      " -3.90181335e-02 -1.35350779e-03  1.32681929e-02 -2.87643413e-02\n",
      " -1.42608305e-01  1.86626072e-02 -8.87547916e-02 -3.50295229e-02\n",
      "  7.62183184e-03 -2.21042525e-02  2.34496459e-02 -3.31981276e-03\n",
      " -1.50925807e-01  6.47442814e-02 -1.24156280e-01 -3.20836648e-02\n",
      " -1.97647736e-02 -9.41186574e-03  5.72606108e-02 -8.21711483e-02\n",
      " -1.64512161e-01  7.21306484e-02  1.59241389e-03  3.28587513e-01\n",
      "  4.35383489e-04  1.88544193e-03  1.34626356e-02 -2.29040790e-01\n",
      " -6.02359646e-02 -1.64911755e-01  1.05948355e-01 -3.12217181e-01\n",
      " -5.60602242e-02  8.46115711e-02 -4.63933653e-02  3.19639565e-02\n",
      "  7.93457878e-02 -2.95181378e-02  1.78491289e-02  2.33765172e-02\n",
      "  2.27971167e-01  1.43690055e-02 -2.35982392e-02 -2.22053368e-02\n",
      "  4.99412551e-02 -7.01529015e-02 -1.19851362e-01 -1.87483449e-01\n",
      "  7.11778520e-02 -5.27632230e-02  2.28224892e-02 -6.99806691e-02\n",
      " -2.31813544e-02 -2.20258704e-02 -2.16162582e-03  4.67976631e-02\n",
      " -3.19602697e-04  7.52344316e-02 -4.32411207e-02 -8.20416573e-02\n",
      "  3.40441186e-01 -6.32179813e-02 -8.85926040e-02  1.42362944e-01\n",
      " -1.24473479e-02  2.68971692e-03  2.23746853e-02 -9.73129430e-02\n",
      "  1.52232881e-01 -8.16589688e-02 -3.29645004e-02  8.01757404e-02] and shape is (112,)\n",
      "Topic 20: \n",
      "time -- 0.34044118612816476\n",
      "people -- 0.3285875134428447\n",
      "run -- 0.2279711668225404\n",
      "day -- 0.16915407641917754\n",
      "build -- 0.15303477187403844\n",
      "work -- 0.15223288094215784\n",
      " \n",
      "The component is [ 1.28310129e-02 -1.34614820e-01  5.22472283e-02  9.74582600e-02\n",
      "  3.70737097e-02  2.36641981e-02  3.04825440e-04  6.94004133e-03\n",
      "  2.64163086e-01  7.11902821e-02 -2.95247993e-03 -1.70996913e-02\n",
      "  2.32275466e-03 -1.61894332e-02 -1.55617234e-01 -7.62856143e-03\n",
      "  5.41664450e-02  5.08495679e-02 -3.80430850e-02  1.05200155e-01\n",
      " -6.05246774e-02  1.48777036e-02 -1.59170575e-02 -3.16944905e-02\n",
      " -5.25590655e-02  3.60435884e-02 -5.74211302e-02 -7.05533215e-02\n",
      " -1.47668310e-01 -2.57687416e-02  1.42061467e-02  3.99320896e-02\n",
      "  1.09912064e-01  3.38875593e-02 -8.43408938e-03  8.19299355e-02\n",
      " -6.80576417e-02  4.73043781e-02  3.64133603e-02 -1.17441979e-02\n",
      "  2.68315731e-01  4.42307205e-02 -1.96089732e-02  7.58529163e-02\n",
      " -6.83837758e-02  1.07413060e-01 -8.64914090e-03 -1.60128854e-02\n",
      "  7.19632802e-02  2.85946005e-03  1.71525400e-02 -3.49799921e-02\n",
      " -1.56647987e-01  6.77443404e-02 -1.41206382e-02 -9.26920681e-03\n",
      "  2.62439451e-02  1.29405922e-01  1.02022037e-01 -1.60229355e-01\n",
      "  3.83780675e-03 -9.89990671e-03 -2.36977699e-02 -2.09158925e-01\n",
      "  6.15690685e-02 -3.25072485e-03  8.37752686e-03 -6.20235677e-02\n",
      "  8.46410314e-02 -1.52636521e-01  5.92339104e-02  1.09223470e-01\n",
      "  1.01380250e-01  1.35702673e-01  1.16561082e-01  6.27625867e-02\n",
      " -2.28780856e-01  1.05191626e-01  2.65670574e-02  5.71184849e-02\n",
      " -5.60804544e-02 -7.08031951e-02  2.22675290e-02 -2.11334230e-02\n",
      "  3.72825725e-03  1.46043456e-02  7.15992336e-02 -2.34401536e-02\n",
      "  1.39563742e-01 -6.76669248e-02 -6.02737519e-02  8.25065274e-02\n",
      " -1.41733349e-01 -1.32071203e-01  1.65918350e-02  3.52995728e-01\n",
      "  2.16146019e-02  6.36589037e-02 -1.49414949e-02 -4.29870677e-02\n",
      " -2.48435001e-01 -4.34232371e-02 -3.15485237e-02 -4.27300903e-03\n",
      "  2.73202388e-02  2.19116134e-02 -4.29541462e-02 -3.60616798e-02\n",
      "  4.94826721e-02  8.90224113e-02  1.39961551e-02  2.89341902e-01] and shape is (112,)\n",
      "Topic 21: \n",
      "technology -- 0.35299572821414715\n",
      "year -- 0.28934190180091435\n",
      "help -- 0.268315730591005\n",
      "build -- 0.2641630859109251\n",
      "software -- 0.13956374159109225\n",
      "release -- 0.1357026728658118\n",
      " \n",
      "The component is [-3.24943634e-03 -1.45449084e-02 -1.45997559e-02  7.33500355e-02\n",
      "  1.19401523e-01 -7.50017814e-02  2.43216164e-02 -4.62928522e-02\n",
      "  1.08608612e-01 -2.42975292e-02 -2.85413885e-02  4.88594557e-03\n",
      " -6.75682550e-03 -3.99704337e-02 -9.02178968e-02  6.59224191e-02\n",
      " -3.96993214e-02 -5.17726507e-02 -5.26514925e-02 -5.18633226e-02\n",
      "  9.12150519e-02 -8.31822779e-02  1.07504401e-03  1.06024548e-01\n",
      "  8.54264344e-03 -6.22869866e-02 -1.29080121e-02  5.24131461e-02\n",
      " -2.23015446e-01 -1.00011721e-01 -4.74279195e-02 -2.01456362e-02\n",
      "  3.87785715e-02  6.07070002e-02 -2.36217203e-03  2.32939126e-02\n",
      " -1.25887897e-02  2.69784414e-02  6.66527774e-02 -5.33717708e-02\n",
      " -1.05344297e-01  2.85762508e-02 -4.87674372e-02  6.15844920e-02\n",
      "  1.30156799e-01  1.56453390e-02 -9.51959503e-03  2.66577079e-02\n",
      "  8.68772188e-03  1.88213413e-02  7.87445632e-02 -5.61724694e-02\n",
      " -7.41686730e-02 -8.87773152e-02 -7.06741720e-02  3.56553212e-02\n",
      "  5.25251536e-02 -8.32731576e-05  2.36982424e-02 -1.94433428e-01\n",
      "  3.12203452e-03  9.70426080e-02 -2.45423759e-02  1.30941803e-01\n",
      " -2.64166536e-02 -4.25729394e-02  3.98019397e-02 -8.87344372e-02\n",
      "  2.92760665e-02  2.55091168e-01  3.29234234e-02  3.15683064e-01\n",
      " -1.82983376e-01  1.05920858e-01  6.10428983e-02  1.43949000e-02\n",
      "  4.60715667e-02  4.48996462e-02  2.51464915e-02 -2.62024761e-02\n",
      " -9.11628376e-02  3.17058556e-02  3.43525469e-02 -8.91167326e-04\n",
      " -5.04353252e-02  6.30127674e-02  8.56282543e-03 -5.74025976e-02\n",
      "  1.73964175e-01 -1.52814668e-02  4.04830765e-02  1.59410123e-02\n",
      " -1.01117210e-01 -9.07135087e-02  4.39832838e-02  1.07851494e-01\n",
      " -8.32650592e-02  9.11414799e-02  6.69825104e-02  7.58763458e-02\n",
      "  3.60629200e-01  1.37044282e-02 -6.00460290e-02 -1.30850791e-01\n",
      "  1.05841479e-01  2.82626583e-02  2.37223315e-02  6.70033352e-02\n",
      " -3.09192615e-01  1.49049889e-01  3.53299166e-02 -2.46869720e-01] and shape is (112,)\n",
      "Topic 22: \n",
      "time -- 0.36062920043820185\n",
      "question -- 0.3156830636379405\n",
      "project -- 0.25509116765018225\n",
      "software -- 0.17396417468414554\n",
      "world -- 0.1490498889129266\n",
      "people -- 0.1309418030084616\n",
      " \n",
      "The component is [ 0.01472349  0.04171359  0.0113419  -0.02685465 -0.01156177 -0.08896987\n",
      " -0.09017624  0.00709721 -0.07030623 -0.03875512  0.14166349  0.07448645\n",
      " -0.01683401 -0.00988407 -0.01418237 -0.01272362  0.05390949 -0.18564868\n",
      " -0.0072772  -0.06958029  0.1755488  -0.0251543  -0.04475221 -0.00879056\n",
      " -0.02378488 -0.06134783  0.02494397  0.00436189  0.34060544 -0.04054054\n",
      "  0.00220613  0.03344103 -0.11797387  0.06118362 -0.07836369 -0.04445872\n",
      " -0.03452441 -0.05723406 -0.00857494  0.00800506  0.0966386  -0.15210741\n",
      " -0.09024834 -0.08327232  0.20704297 -0.07172152 -0.05602771 -0.03660864\n",
      " -0.04859522  0.06148464  0.04812507 -0.01570873 -0.17786842  0.01655589\n",
      " -0.02477226  0.03250559  0.09676253 -0.04972302 -0.20186375  0.04681214\n",
      "  0.04603126  0.09069162 -0.09444734  0.17912204 -0.01124395  0.00060132\n",
      "  0.05059575  0.20826768  0.0927807   0.19298592 -0.06705361  0.08344632\n",
      "  0.21576894 -0.1119165   0.00809304 -0.0451964  -0.20324887  0.10745321\n",
      "  0.02809073  0.00979279  0.10193096 -0.08132755 -0.00401381 -0.01178266\n",
      "  0.04815809  0.03725687 -0.10265695 -0.07845841  0.03773866 -0.12468694\n",
      "  0.01240053 -0.04050933 -0.04413633 -0.09546605  0.00163892  0.06308\n",
      " -0.05093783  0.28555481 -0.01085509 -0.02139904 -0.01681495  0.02368206\n",
      " -0.00191667 -0.08267462 -0.0136926  -0.11634423 -0.04189388  0.09046779\n",
      " -0.01905638 -0.03286327  0.02001582  0.2493907 ] and shape is (112,)\n",
      "Topic 23: \n",
      "feature -- 0.3406054367124909\n",
      "term -- 0.2855548055077411\n",
      "year -- 0.24939070060675098\n",
      "read -- 0.21576893672847777\n",
      "problem -- 0.208267678070763\n",
      "issue -- 0.20704296549430637\n",
      " \n",
      "The component is [-0.00391565  0.00258905  0.00884368 -0.00136613  0.06711383  0.02572192\n",
      " -0.04591173 -0.03516233  0.16134509  0.00283199 -0.16355999 -0.03798492\n",
      " -0.01888881  0.12749927  0.03181567 -0.03358061  0.02908719  0.14720291\n",
      " -0.04909663 -0.0951903  -0.21204991  0.0549085   0.05118418  0.00179798\n",
      " -0.05565308  0.04509897  0.17988626  0.00056041  0.36852799 -0.11369754\n",
      " -0.03008934  0.11343094  0.02694666  0.08161679 -0.02975958 -0.02339192\n",
      "  0.0026671   0.03637825 -0.02982598 -0.0557168  -0.09451719  0.12503709\n",
      " -0.06996558 -0.03608065  0.07805008  0.01702148 -0.05518821  0.00472324\n",
      "  0.02778094  0.03393227  0.01572555  0.12418105  0.02816826  0.02229523\n",
      "  0.00225641 -0.03802477  0.0199627   0.05447069 -0.09251896 -0.13883486\n",
      " -0.10134815 -0.17762705 -0.03130315 -0.12059573  0.03856343  0.00778042\n",
      "  0.02782769  0.07738322 -0.16988483 -0.04277429 -0.00309823  0.29306758\n",
      "  0.14182484  0.25527067 -0.01791543  0.02163167  0.13915473 -0.01395317\n",
      " -0.04179941 -0.0234332   0.18714184  0.04482477 -0.02297658  0.04891073\n",
      "  0.03603759 -0.03553701  0.07478932 -0.20567183  0.02191058 -0.14197031\n",
      " -0.05702616 -0.07346581 -0.00640621  0.17789359  0.01811043 -0.1337396\n",
      "  0.1018109   0.02100341  0.01620183  0.03459977 -0.03223165 -0.05106005\n",
      "  0.06519658 -0.03921654 -0.11796966  0.00903177 -0.01441475 -0.05184005\n",
      " -0.07884613  0.13945706  0.04473699 -0.04352851] and shape is (112,)\n",
      "Topic 24: \n",
      "feature -- 0.3685279872932935\n",
      "question -- 0.2930675752106793\n",
      "release -- 0.2552706689525782\n",
      "run -- 0.18714183982138088\n",
      "example -- 0.17988626166726307\n",
      "system -- 0.1778935928829023\n",
      " \n",
      "The component is [-0.0357541   0.0112541   0.03814468 -0.02219537 -0.01796768  0.03033653\n",
      " -0.0410359  -0.05763887  0.1623145   0.03622211  0.17417951  0.08547601\n",
      " -0.11557867 -0.06294513  0.0571472  -0.00511179  0.04112512 -0.0241663\n",
      " -0.04550524 -0.11063694 -0.13814443 -0.06469829 -0.07491343  0.02705016\n",
      "  0.04056931 -0.04503498 -0.03801738  0.04515713 -0.0264072   0.29223225\n",
      " -0.01396383  0.02368683  0.07976327  0.02680537  0.06201109 -0.05770448\n",
      "  0.03988084  0.07986753 -0.00591411 -0.08968685  0.00129872 -0.12004525\n",
      "  0.00154572 -0.00587569  0.24207172  0.00077251 -0.05484334  0.00402916\n",
      "  0.08070277 -0.05349604  0.01574552 -0.09537696  0.03761684 -0.07980132\n",
      " -0.05066828 -0.01405954  0.02332869 -0.01890376 -0.08687413  0.15952233\n",
      "  0.22072535  0.08015587  0.07582164  0.03956267  0.01000866 -0.02501298\n",
      "  0.03146387 -0.00040367  0.22615621 -0.28093597 -0.01980425 -0.09919865\n",
      "  0.02178573  0.28868207 -0.07096369 -0.0199261  -0.14308678  0.12458893\n",
      " -0.00344585  0.02028801  0.18344402  0.02998578 -0.00578593 -0.00090262\n",
      "  0.00063982 -0.0208707  -0.0273168  -0.08862966  0.11736807  0.14407715\n",
      "  0.0127357   0.05519906 -0.00871788 -0.03380338  0.0060424  -0.09632891\n",
      "  0.02850405  0.04602035  0.01907118  0.00076732 -0.07795378 -0.03383229\n",
      " -0.00313874  0.00684699 -0.15323919  0.22710231  0.01738063 -0.01587017\n",
      " -0.13718108 -0.09304786 -0.01350428 -0.2425784 ] and shape is (112,)\n",
      "Topic 25: \n",
      "find -- 0.2922322512528454\n",
      "release -- 0.2886820742678312\n",
      "issue -- 0.24207172235186186\n",
      "ve -- 0.22710230891092442\n",
      "process -- 0.2261562078154984\n",
      "note -- 0.22072534801609264\n",
      " \n"
     ]
    }
   ],
   "source": [
    "for i, comp in enumerate(svd_model.components_):\n",
    "    print(f\"The component is {comp} and shape is {comp.shape}\")\n",
    "    terms_comp = zip(terms, comp)\n",
    "    sorted_terms = sorted(terms_comp, key= lambda x:x[1], reverse=True)[:6]\n",
    "    print(\"Topic \"+str(i)+\": \")\n",
    "    for t in sorted_terms:\n",
    "        print(f\"{t[0]} -- {t[1]}\")\n",
    "    print(\" \")"
   ]
  },
  {
   "cell_type": "code",
   "execution_count": 71,
   "metadata": {
    "colab": {
     "base_uri": "https://localhost:8080/",
     "height": 663
    },
    "colab_type": "code",
    "id": "h0i9bPUYGbNP",
    "outputId": "c882aa8c-0ed0-44f0-f9a1-e27c324c1d4a"
   },
   "outputs": [
    {
     "name": "stdout",
     "output_type": "stream",
     "text": [
      "\n",
      "Doc Topic Matrix: \n",
      " [[ 0.35389077  0.13762926  0.18904131 ...  0.00695688 -0.03293656\n",
      "   0.14886262]\n",
      " [ 0.          0.          0.         ...  0.          0.\n",
      "   0.        ]\n",
      " [ 0.          0.          0.         ...  0.          0.\n",
      "   0.        ]\n",
      " ...\n",
      " [ 0.54312726  0.06017301 -0.21643461 ... -0.04764279 -0.03506077\n",
      "   0.01895396]\n",
      " [ 0.23975149  0.07128112 -0.42587795 ...  0.02509964  0.00190984\n",
      "   0.00652143]\n",
      " [ 0.60010103 -0.00357946 -0.05556103 ... -0.0769217  -0.05190645\n",
      "  -0.00488959]]\n",
      "\n",
      "SVD Categories: \n",
      " [ 0  0  0  7  0  0  0  0  0  1  0  0  0  0  0  6  0  0  0  0  0  0  0  0\n",
      "  0  0  6  0  3  0  0  0  0 18 17  0  0  0 12  0  0  0  0  0 16  0  0  1\n",
      " 14  0  0 17  0  0  0 13  0  0  0  0  0  0  1  0  0  0  0  0  0 16  0  6\n",
      "  0 24  0  0  0  0  0 16  0  0  0  0  0  0  0  0  0  0  0  0  0  0  0  0\n",
      "  0  0  0  0  0  0  0  0  0  0  0  0  0  0  0  0  0  0  0  0  0  0 23  0\n",
      "  0  0  0 10  0  0  0  1  0  0  0  0  0  0  0  0  0  0  0  0  0  0  1  1\n",
      "  0  0  0  0  7  0  1  0  1  0  0  0  0  0  0  1  0  0  0  0  3  0 11  7\n",
      "  3  0  3  0  0  0  0  0  6  0  3  0  0  0  0  0 14  6  0  0  0  0  0  0\n",
      "  0  0  0  0  0  0  0  6  0  0 14  0  0  0  1  0  0  0  0 11  0  0  0  0\n",
      "  0  0  0 11  0  0  1  0  1  0 13 17  0  0  0  0  0  3  0  0  0 21  0  0\n",
      "  0  0  0  1  0  0  0  0  0  0  0  0  0  0  0  0  0  0  0  0  0  0  0  0\n",
      "  3  0  0  0  0  0  0  0  0  0  0  0  0  1  0  0  0  0  5  5  0  0  0  0\n",
      "  0  0  0  0  0  0 14  0  0  0  0  0  0  9 11  0  0  0 25  0  0  0  0  0\n",
      "  0  0  1  0  0  0  0 25  0  0  0  0  6  0  0 18  0  0 12  0 24  0  0 18\n",
      " 19  0 25  0  0  0  0 21  0  0 12  0  0  0  0  0 14  0  0  0  0  0  0  0\n",
      "  0  0 15  0  0  0  0  0  0  0  0  0  0  0  0  0  0  0  0  0  0  0  0  0\n",
      "  0  1  0  0  0  0  0  1 24  0  0  0  0  0  0  0  0  0  0  0  0  0  0  0\n",
      "  0  0  0  0  0  0  0  0  0  0  0  0  0  1  0 15  0  0  0  0 12  3  0  0\n",
      "  0  0  0  0  0  0  0  0  0  0  0  0  0  0  0  0  0  1  0  0  0  0  0  0\n",
      "  0 21  0  0  0  0  0  1  0  0  0  0  0  0  0  0  0  0  0  0  0  0  0  0\n",
      "  0 25  0  0  0  0  0  0  0  0  0  0  3  0]\n"
     ]
    }
   ],
   "source": [
    "doc_topic_matrix = svd_matrix.transform(tfidf_matrix)\n",
    "print(\"\\nDoc Topic Matrix: \\n\",doc_topic_matrix)\n",
    "svd_categories = np.argmax(doc_topic_matrix, axis=1)\n",
    "print(\"\\nSVD Categories: \\n\",svd_categories)"
   ]
  },
  {
   "cell_type": "code",
   "execution_count": 73,
   "metadata": {
    "colab": {
     "base_uri": "https://localhost:8080/",
     "height": 1000
    },
    "colab_type": "code",
    "id": "yCcp3NZ5Grkv",
    "outputId": "6cee82c8-ca6f-4786-e56b-6e7d08468787"
   },
   "outputs": [
    {
     "data": {
      "text/html": [
       "<div>\n",
       "<style scoped>\n",
       "    .dataframe tbody tr th:only-of-type {\n",
       "        vertical-align: middle;\n",
       "    }\n",
       "\n",
       "    .dataframe tbody tr th {\n",
       "        vertical-align: top;\n",
       "    }\n",
       "\n",
       "    .dataframe thead th {\n",
       "        text-align: right;\n",
       "    }\n",
       "</style>\n",
       "<table border=\"1\" class=\"dataframe\">\n",
       "  <thead>\n",
       "    <tr style=\"text-align: right;\">\n",
       "      <th></th>\n",
       "      <th>Title</th>\n",
       "      <th>age</th>\n",
       "      <th>posted_by_user</th>\n",
       "      <th>URL</th>\n",
       "      <th>domain</th>\n",
       "      <th>num_upvotes</th>\n",
       "      <th>comments</th>\n",
       "      <th>text</th>\n",
       "      <th>exception</th>\n",
       "      <th>word_count</th>\n",
       "      <th>newtext</th>\n",
       "      <th>tokens</th>\n",
       "      <th>tokenize_and_stem</th>\n",
       "      <th>tokenize_and_lemmatize</th>\n",
       "      <th>cluster_group</th>\n",
       "      <th>SVD_group</th>\n",
       "    </tr>\n",
       "  </thead>\n",
       "  <tbody>\n",
       "    <tr>\n",
       "      <th>0</th>\n",
       "      <td>Robocallers face fight on many fronts</td>\n",
       "      <td>0 minutes ago</td>\n",
       "      <td>petercooper</td>\n",
       "      <td>https://www.axios.com/robocalls-fcc-congress-t...</td>\n",
       "      <td>phoronix.com</td>\n",
       "      <td>1 point</td>\n",
       "      <td>\\n1 point by petercooper 0 minutes ago  | hide...</td>\n",
       "      <td>federal regulators lawmakers and private compa...</td>\n",
       "      <td></td>\n",
       "      <td>202</td>\n",
       "      <td>(federal, regulators, lawmakers, and, private,...</td>\n",
       "      <td>federal regulators lawmakers and private compa...</td>\n",
       "      <td>feder regul lawmak privat compani haven t foun...</td>\n",
       "      <td>federal regulator lawmaker private company hav...</td>\n",
       "      <td>0</td>\n",
       "      <td>0</td>\n",
       "    </tr>\n",
       "    <tr>\n",
       "      <th>1</th>\n",
       "      <td>World's First and Only Hackproof Site</td>\n",
       "      <td>0 minutes ago</td>\n",
       "      <td>hhs</td>\n",
       "      <td>http://hackprooftechnologies.com/index.html</td>\n",
       "      <td>axios.com</td>\n",
       "      <td>1 point</td>\n",
       "      <td>\\n1 point by hhs 0 minutes ago  | hide | past ...</td>\n",
       "      <td>in the news</td>\n",
       "      <td></td>\n",
       "      <td>3</td>\n",
       "      <td>(in, the, news)</td>\n",
       "      <td>in the news</td>\n",
       "      <td>news</td>\n",
       "      <td>news</td>\n",
       "      <td>1</td>\n",
       "      <td>0</td>\n",
       "    </tr>\n",
       "    <tr>\n",
       "      <th>2</th>\n",
       "      <td>Affinity Profiling and Discrimination by Assoc...</td>\n",
       "      <td>1 minute ago</td>\n",
       "      <td>hexadec</td>\n",
       "      <td>https://poseidon01.ssrn.com/delivery.php?ID=19...</td>\n",
       "      <td>hackprooftechnologies.com</td>\n",
       "      <td>1 point</td>\n",
       "      <td>\\n1 point by hexadec 1 minute ago  | hide | pa...</td>\n",
       "      <td></td>\n",
       "      <td>HTTP Error 403: Forbidden</td>\n",
       "      <td>1</td>\n",
       "      <td>()</td>\n",
       "      <td></td>\n",
       "      <td></td>\n",
       "      <td></td>\n",
       "      <td>1</td>\n",
       "      <td>0</td>\n",
       "    </tr>\n",
       "    <tr>\n",
       "      <th>3</th>\n",
       "      <td>React Benefits: A Blessing for Businesses?</td>\n",
       "      <td>2 minutes ago</td>\n",
       "      <td>DyslexicAtheist</td>\n",
       "      <td>https://habr.com/en/post/480070/</td>\n",
       "      <td>ssrn.com</td>\n",
       "      <td>1 point</td>\n",
       "      <td>\\n1 point by DyslexicAtheist 2 minutes ago  | ...</td>\n",
       "      <td>only users with full accounts can post comment...</td>\n",
       "      <td></td>\n",
       "      <td>12</td>\n",
       "      <td>(only, users, with, full, accounts, can, post,...</td>\n",
       "      <td>only users with full accounts can post comment...</td>\n",
       "      <td>user account post comment log</td>\n",
       "      <td>user account post comment log</td>\n",
       "      <td>1</td>\n",
       "      <td>7</td>\n",
       "    </tr>\n",
       "    <tr>\n",
       "      <th>4</th>\n",
       "      <td>Soundness bugs in Rust libraries: can't live w...</td>\n",
       "      <td>3 minutes ago</td>\n",
       "      <td>martinlaz</td>\n",
       "      <td>https://docs.rs/dtolnay/0.0.7/dtolnay/macro._0...</td>\n",
       "      <td>technologyreview.com</td>\n",
       "      <td>1 point</td>\n",
       "      <td>\\n1 point by martinlaz 3 minutes ago  | hide |...</td>\n",
       "      <td>dtolnay by david tolnay my role at work these ...</td>\n",
       "      <td></td>\n",
       "      <td>1684</td>\n",
       "      <td>(dtolnay, by, david, tolnay, my, role, at, wor...</td>\n",
       "      <td>dtolnay by david tolnay my role at work these ...</td>\n",
       "      <td>dtolnay david tolnay role work day help guid b...</td>\n",
       "      <td>dtolnay david tolnay role work day help guide ...</td>\n",
       "      <td>0</td>\n",
       "      <td>0</td>\n",
       "    </tr>\n",
       "    <tr>\n",
       "      <th>5</th>\n",
       "      <td>AI Now Institute Annual Report (2019) [pdf]</td>\n",
       "      <td>3 minutes ago</td>\n",
       "      <td>atomlib</td>\n",
       "      <td>https://ainowinstitute.org/AI_Now_2019_Report.pdf</td>\n",
       "      <td>habr.com</td>\n",
       "      <td>1 point</td>\n",
       "      <td>\\n1 point by atomlib 3 minutes ago  | hide | p...</td>\n",
       "      <td></td>\n",
       "      <td>HTTP Error 403: Forbidden</td>\n",
       "      <td>1</td>\n",
       "      <td>()</td>\n",
       "      <td></td>\n",
       "      <td></td>\n",
       "      <td></td>\n",
       "      <td>1</td>\n",
       "      <td>0</td>\n",
       "    </tr>\n",
       "    <tr>\n",
       "      <th>6</th>\n",
       "      <td>Algorithms drive online discrimination, academ...</td>\n",
       "      <td>3 minutes ago</td>\n",
       "      <td>burntsushi</td>\n",
       "      <td>https://www.ft.com/content/bc959e8c-1b67-11ea-...</td>\n",
       "      <td>docs.rs</td>\n",
       "      <td>1 point</td>\n",
       "      <td>\\n1 point by burntsushi 3 minutes ago  | hide ...</td>\n",
       "      <td>gain a global perspective on the us and go bey...</td>\n",
       "      <td></td>\n",
       "      <td>32</td>\n",
       "      <td>(gain, a, global, perspective, on, the, us, an...</td>\n",
       "      <td>gain a global perspective on the us and go bey...</td>\n",
       "      <td>gain global perspect curat news analysi journa...</td>\n",
       "      <td>gain global perspective curated news analysis ...</td>\n",
       "      <td>1</td>\n",
       "      <td>0</td>\n",
       "    </tr>\n",
       "    <tr>\n",
       "      <th>7</th>\n",
       "      <td>VirtualBox 6.1</td>\n",
       "      <td>5 minutes ago</td>\n",
       "      <td>atomlib</td>\n",
       "      <td>https://www.virtualbox.org/wiki/Changelog-6.1#v0</td>\n",
       "      <td>habr.com</td>\n",
       "      <td>1 point</td>\n",
       "      <td>\\n1 point by atomlib 5 minutes ago  | hide | p...</td>\n",
       "      <td>this page lists all changes of the virtualbox ...</td>\n",
       "      <td></td>\n",
       "      <td>1107</td>\n",
       "      <td>(this, page, lists, all, changes, of, the, vir...</td>\n",
       "      <td>this page lists all changes of the virtualbox ...</td>\n",
       "      <td>page list chang virtualbox download branch vir...</td>\n",
       "      <td>page list change virtualbox download branch vi...</td>\n",
       "      <td>0</td>\n",
       "      <td>0</td>\n",
       "    </tr>\n",
       "    <tr>\n",
       "      <th>8</th>\n",
       "      <td>AT&amp;T Launches 5G Network in 10 Cities</td>\n",
       "      <td>6 minutes ago</td>\n",
       "      <td>atlasunshrugged</td>\n",
       "      <td>https://about.att.com/story/2019/5g_launch.html</td>\n",
       "      <td>ainowinstitute.org</td>\n",
       "      <td>1 point</td>\n",
       "      <td>\\n1 point by atlasunshrugged 6 minutes ago  | ...</td>\n",
       "      <td>consumers and businesses in birmingham ala ind...</td>\n",
       "      <td></td>\n",
       "      <td>920</td>\n",
       "      <td>(consumers, and, businesses, in, birmingham, a...</td>\n",
       "      <td>consumers and businesses in birmingham ala ind...</td>\n",
       "      <td>consum busi birmingham ala indianapoli los ang...</td>\n",
       "      <td>consumer business birmingham ala indianapolis ...</td>\n",
       "      <td>0</td>\n",
       "      <td>0</td>\n",
       "    </tr>\n",
       "    <tr>\n",
       "      <th>9</th>\n",
       "      <td>Show HN: Drop-In Minimal CSS – Preview Minimal...</td>\n",
       "      <td>7 minutes ago</td>\n",
       "      <td>DyslexicAtheist</td>\n",
       "      <td>https://github.com/dohliam/dropin-minimal-css</td>\n",
       "      <td>ft.com</td>\n",
       "      <td>1 point</td>\n",
       "      <td>\\n1 point by DyslexicAtheist 7 minutes ago  | ...</td>\n",
       "      <td>github is home to over million developers work...</td>\n",
       "      <td></td>\n",
       "      <td>406</td>\n",
       "      <td>(github, is, home, to, over, million, develope...</td>\n",
       "      <td>github is home to over million developers work...</td>\n",
       "      <td>github home million develop work host review c...</td>\n",
       "      <td>github home million developer work host review...</td>\n",
       "      <td>3</td>\n",
       "      <td>1</td>\n",
       "    </tr>\n",
       "  </tbody>\n",
       "</table>\n",
       "</div>"
      ],
      "text/plain": [
       "                                               Title  ... SVD_group\n",
       "0              Robocallers face fight on many fronts  ...         0\n",
       "1              World's First and Only Hackproof Site  ...         0\n",
       "2  Affinity Profiling and Discrimination by Assoc...  ...         0\n",
       "3         React Benefits: A Blessing for Businesses?  ...         7\n",
       "4  Soundness bugs in Rust libraries: can't live w...  ...         0\n",
       "5        AI Now Institute Annual Report (2019) [pdf]  ...         0\n",
       "6  Algorithms drive online discrimination, academ...  ...         0\n",
       "7                                     VirtualBox 6.1  ...         0\n",
       "8              AT&T Launches 5G Network in 10 Cities  ...         0\n",
       "9  Show HN: Drop-In Minimal CSS – Preview Minimal...  ...         1\n",
       "\n",
       "[10 rows x 16 columns]"
      ]
     },
     "execution_count": 73,
     "metadata": {
      "tags": []
     },
     "output_type": "execute_result"
    }
   ],
   "source": [
    "data['SVD_group'] = svd_categories\n",
    "pd.DataFrame(data).head(10)"
   ]
  },
  {
   "cell_type": "code",
   "execution_count": 0,
   "metadata": {
    "colab": {},
    "colab_type": "code",
    "id": "aaB35bIxhboA"
   },
   "outputs": [],
   "source": [
    "Sum_of_squared_distances = []\n",
    "K = range(1,8)\n",
    "for k in K:\n",
    "    kmeanModel = KMeans(n_clusters=k, random_state=143)\n",
    "    kmeanModel.fit(doc_topic_matrix)\n",
    "    Sum_of_squared_distances.append(kmeanModel.inertia_)"
   ]
  },
  {
   "cell_type": "code",
   "execution_count": 75,
   "metadata": {
    "colab": {
     "base_uri": "https://localhost:8080/",
     "height": 295
    },
    "colab_type": "code",
    "id": "ETf8wGMJhblj",
    "outputId": "dd5ab3ab-57eb-4f57-d5da-51d3d921bb84"
   },
   "outputs": [
    {
     "data": {
      "image/png": "[encoded data removed]",
      "text/plain": [
       "<Figure size 432x288 with 1 Axes>"
      ]
     },
     "metadata": {
      "tags": []
     },
     "output_type": "display_data"
    }
   ],
   "source": [
    "font = {'family' : 'normal',\n",
    "        'weight' : 'bold',\n",
    "        'size'   : 10}\n",
    "\n",
    "plt.rc('font', **font)\n",
    "plt.plot(K, Sum_of_squared_distances, 'bx-')\n",
    "plt.xlabel('k')\n",
    "plt.ylabel('Sum_of_squared_distances')\n",
    "plt.title('Elbow Method For Optimal k')\n",
    "plt.show()"
   ]
  },
  {
   "cell_type": "code",
   "execution_count": 76,
   "metadata": {
    "colab": {
     "base_uri": "https://localhost:8080/",
     "height": 510
    },
    "colab_type": "code",
    "id": "vAZL3rKXg5v5",
    "outputId": "d271f3cd-2765-42f8-ac69-157db544a153"
   },
   "outputs": [
    {
     "name": "stdout",
     "output_type": "stream",
     "text": [
      "the cluster centers are [[ 4.56403502e-02  9.75401112e-03 -3.22927116e-02  3.16047499e-02\n",
      "   2.57703902e-02 -1.40402263e-02  4.13853936e-03 -1.53477248e-03\n",
      "   8.02479616e-03 -8.94743039e-03 -7.51244714e-03  1.37660204e-02\n",
      "   2.41943330e-03  2.01269747e-03  9.63922243e-03  1.26412032e-02\n",
      "   2.59817829e-03 -2.39600421e-03  8.17152530e-04 -4.22808756e-03\n",
      "  -8.55364771e-03  1.12836408e-02  1.02133755e-03  5.90187666e-03\n",
      "   8.56863916e-03  4.29314807e-03]\n",
      " [ 4.79504035e-01  6.95652154e-02 -7.82433199e-02 -6.20394290e-02\n",
      "  -8.61093399e-04  2.00937691e-02 -9.32730152e-03 -1.54874590e-02\n",
      "  -1.24511980e-02 -9.25585085e-03  5.79194030e-03  7.42922344e-03\n",
      "  -6.03055640e-03 -2.41104388e-03 -5.69577799e-04 -3.82200114e-03\n",
      "  -3.03269046e-03 -2.06635377e-04  3.30827296e-03  2.00047525e-03\n",
      "   4.41945977e-03  1.43012683e-03  4.18286800e-03 -9.77641951e-04\n",
      "  -1.65596288e-03 -2.73033747e-03]\n",
      " [ 5.85738951e-01 -2.96585561e-01  1.38172237e-01  1.09664376e-01\n",
      "  -3.13907841e-02  6.50562309e-03  4.45438615e-02  2.79925702e-02\n",
      "   1.40789101e-02  9.16475945e-03 -1.16079452e-02 -3.20475129e-03\n",
      "   1.38379488e-02 -8.79355370e-03  4.91444940e-03 -2.31863629e-04\n",
      "   3.40514253e-03  9.38996036e-03 -6.29595576e-03 -4.32392655e-03\n",
      "  -4.63033144e-03 -2.11840458e-03 -6.85912416e-03 -5.67942715e-03\n",
      "   2.95114967e-03  6.35285345e-03]\n",
      " [ 4.16546936e-01  5.43009860e-01  3.66488163e-01  2.15436091e-01\n",
      "  -2.42321911e-02 -1.06327340e-01 -8.88936533e-02  4.72311474e-02\n",
      "  -2.65398340e-02  5.64249344e-02  4.65107063e-02 -4.52565401e-02\n",
      "  -2.72340311e-02  6.30196508e-03 -2.86172469e-02  6.22359428e-03\n",
      "   3.64141121e-02 -1.69583376e-02 -1.03336926e-02  3.30509792e-03\n",
      "  -4.86050736e-03  9.15936601e-04 -5.76499845e-03 -4.43522937e-04\n",
      "  -1.10307044e-02 -1.40366804e-02]]\n"
     ]
    },
    {
     "data": {
      "text/plain": [
       "['doc_topic_cluster_best_K.pkl']"
      ]
     },
     "execution_count": 76,
     "metadata": {
      "tags": []
     },
     "output_type": "execute_result"
    }
   ],
   "source": [
    "num_clusters = 4\n",
    "\n",
    "km = KMeans(n_clusters=num_clusters)\n",
    "\n",
    "km.fit(doc_topic_matrix)\n",
    "\n",
    "clusters = km.labels_.tolist()\n",
    "\n",
    "centers = km.cluster_centers_\n",
    "print(f\"the cluster centers are {centers}\")\n",
    "\n",
    "joblib.dump(km,  'doc_topic_cluster_best_K.pkl')"
   ]
  },
  {
   "cell_type": "code",
   "execution_count": 0,
   "metadata": {
    "colab": {},
    "colab_type": "code",
    "id": "__EjxyjcgYZ_"
   },
   "outputs": [],
   "source": [
    "clusters = km.labels_.tolist()\n",
    "data['doc_topic_cluster_group'] = clusters"
   ]
  },
  {
   "cell_type": "code",
   "execution_count": 78,
   "metadata": {
    "colab": {
     "base_uri": "https://localhost:8080/",
     "height": 102
    },
    "colab_type": "code",
    "id": "Y9wVDgEMHj2L",
    "outputId": "3c254d83-765e-40a0-9198-ea3d59212939"
   },
   "outputs": [
    {
     "data": {
      "text/plain": [
       "1    221\n",
       "0    175\n",
       "2     74\n",
       "3     24\n",
       "Name: doc_topic_cluster_group, dtype: int64"
      ]
     },
     "execution_count": 78,
     "metadata": {
      "tags": []
     },
     "output_type": "execute_result"
    }
   ],
   "source": [
    "doc_cluster_df = pd.DataFrame(data)\n",
    "doc_cluster_df['doc_topic_cluster_group'].value_counts()"
   ]
  },
  {
   "cell_type": "code",
   "execution_count": 0,
   "metadata": {
    "colab": {},
    "colab_type": "code",
    "id": "40H70uC0IPA9"
   },
   "outputs": [],
   "source": [
    "doc_cluster_df['tokenized_text'] = [text.split(' ') for text in doc_cluster_df['tokenize_and_lemmatize']]"
   ]
  },
  {
   "cell_type": "code",
   "execution_count": 0,
   "metadata": {
    "colab": {},
    "colab_type": "code",
    "id": "on4jm0oaI_8D"
   },
   "outputs": [],
   "source": [
    "grouped_text = doc_cluster_df.groupby('cluster_group')['tokenized_text']"
   ]
  },
  {
   "cell_type": "code",
   "execution_count": 0,
   "metadata": {
    "colab": {},
    "colab_type": "code",
    "id": "JsW96veHH_Wf"
   },
   "outputs": [],
   "source": [
    "from itertools import chain, product\n"
   ]
  },
  {
   "cell_type": "code",
   "execution_count": 0,
   "metadata": {
    "colab": {},
    "colab_type": "code",
    "id": "eP6fpKYKHnWc"
   },
   "outputs": [],
   "source": [
    "frequent_words_df = pd.DataFrame(columns={\"values\", \"counts\", \"cluster_id\"})\n",
    "\n",
    "for num in range(num_clusters):\n",
    "    values, counts = np.unique(list(chain.from_iterable(grouped_text.get_group(num))), return_counts=True)\n",
    "    sorted_indices = np.argsort(-counts)\n",
    "    frequent_words_df = frequent_words_df.append({\"values\":values[sorted_indices], \"counts\":counts[sorted_indices], \"cluster_id\": num}, ignore_index=True)"
   ]
  },
  {
   "cell_type": "code",
   "execution_count": 94,
   "metadata": {
    "colab": {
     "base_uri": "https://localhost:8080/",
     "height": 173
    },
    "colab_type": "code",
    "id": "H9OqHgVlHzIy",
    "outputId": "73214376-5e8f-4171-f440-8feecd18bc6e"
   },
   "outputs": [
    {
     "data": {
      "text/html": [
       "<div>\n",
       "<style scoped>\n",
       "    .dataframe tbody tr th:only-of-type {\n",
       "        vertical-align: middle;\n",
       "    }\n",
       "\n",
       "    .dataframe tbody tr th {\n",
       "        vertical-align: top;\n",
       "    }\n",
       "\n",
       "    .dataframe thead th {\n",
       "        text-align: right;\n",
       "    }\n",
       "</style>\n",
       "<table border=\"1\" class=\"dataframe\">\n",
       "  <thead>\n",
       "    <tr style=\"text-align: right;\">\n",
       "      <th></th>\n",
       "      <th>values</th>\n",
       "      <th>cluster_id</th>\n",
       "      <th>counts</th>\n",
       "    </tr>\n",
       "  </thead>\n",
       "  <tbody>\n",
       "    <tr>\n",
       "      <th>0</th>\n",
       "      <td>[s, t, time, use, work, like, datum, new, user...</td>\n",
       "      <td>0</td>\n",
       "      <td>[3050, 1232, 1054, 791, 770, 764, 759, 710, 61...</td>\n",
       "    </tr>\n",
       "    <tr>\n",
       "      <th>1</th>\n",
       "      <td>[f, n, x, w, z, o, g, s, l, t, k, u, y, m, v, ...</td>\n",
       "      <td>1</td>\n",
       "      <td>[1363, 922, 874, 838, 818, 817, 805, 805, 799,...</td>\n",
       "    </tr>\n",
       "    <tr>\n",
       "      <th>2</th>\n",
       "      <td>[s, say, staff, session, t, child, want, exper...</td>\n",
       "      <td>2</td>\n",
       "      <td>[2489, 1891, 1715, 1701, 1617, 1241, 1227, 105...</td>\n",
       "    </tr>\n",
       "    <tr>\n",
       "      <th>3</th>\n",
       "      <td>[github, download, try, happen, use, desktop, ...</td>\n",
       "      <td>3</td>\n",
       "      <td>[105, 104, 101, 96, 67, 48, 47, 43, 41, 36, 36...</td>\n",
       "    </tr>\n",
       "  </tbody>\n",
       "</table>\n",
       "</div>"
      ],
      "text/plain": [
       "                                              values  ...                                             counts\n",
       "0  [s, t, time, use, work, like, datum, new, user...  ...  [3050, 1232, 1054, 791, 770, 764, 759, 710, 61...\n",
       "1  [f, n, x, w, z, o, g, s, l, t, k, u, y, m, v, ...  ...  [1363, 922, 874, 838, 818, 817, 805, 805, 799,...\n",
       "2  [s, say, staff, session, t, child, want, exper...  ...  [2489, 1891, 1715, 1701, 1617, 1241, 1227, 105...\n",
       "3  [github, download, try, happen, use, desktop, ...  ...  [105, 104, 101, 96, 67, 48, 47, 43, 41, 36, 36...\n",
       "\n",
       "[4 rows x 3 columns]"
      ]
     },
     "execution_count": 94,
     "metadata": {
      "tags": []
     },
     "output_type": "execute_result"
    }
   ],
   "source": [
    "frequent_words_df.head()"
   ]
  },
  {
   "cell_type": "code",
   "execution_count": 96,
   "metadata": {
    "colab": {
     "base_uri": "https://localhost:8080/",
     "height": 1000
    },
    "colab_type": "code",
    "id": "M6VReaKnJg2P",
    "outputId": "7e3dacef-872a-46a7-9b94-979e81ad50a9"
   },
   "outputs": [
    {
     "data": {
      "image/png": "[encoded data removed]",
      "text/plain": [
       "<Figure size 1800x1800 with 4 Axes>"
      ]
     },
     "metadata": {
      "tags": []
     },
     "output_type": "display_data"
    }
   ],
   "source": [
    "font = {'family' : 'normal',\n",
    "        'weight' : 'bold',\n",
    "        'size'   : 35}\n",
    "\n",
    "plt.rc('font', **font)\n",
    "\n",
    "fig = plt.figure(figsize=(25,25))\n",
    "plt.subplot(2,2,1)\n",
    "plt.barh(frequent_words_df.loc[0,'values'][:20], frequent_words_df.loc[0,'counts'][:20])\n",
    "plt.gca().invert_yaxis()\n",
    "\n",
    "\n",
    "plt.subplot(2,2,2)\n",
    "plt.barh(frequent_words_df.loc[1,'values'][:20], frequent_words_df.loc[1,'counts'][:20])\n",
    "plt.gca().invert_yaxis()\n",
    "\n",
    "plt.subplot(2,2,3)\n",
    "plt.barh(frequent_words_df.loc[2,'values'][:20], frequent_words_df.loc[2,'counts'][:20])\n",
    "plt.gca().invert_yaxis()\n",
    "\n",
    "plt.subplot(2,2,4)\n",
    "plt.barh(frequent_words_df.loc[3,'values'][:20], frequent_words_df.loc[3,'counts'][:20])\n",
    "plt.gca().invert_yaxis()"
   ]
  },
  {
   "cell_type": "markdown",
   "metadata": {},
   "source": [
    "# top 3 topics "
   ]
  },
  {
   "cell_type": "markdown",
   "metadata": {},
   "source": [
    "# topic 1 is related to new year work.\n",
    "# topic 2 is related to building a project\n",
    "# topic 3 is related to trying code and project release "
   ]
  },
  {
   "cell_type": "markdown",
   "metadata": {
    "colab_type": "text",
    "id": "gsSQYMbDKMiA"
   },
   "source": [
    "## Observations\n",
    "\n",
    "We can notice that with document topic matrix.we were able to achieve similar results when compared to tfidf matrix. we can also notice that 1st group is related to progamming code ,2nd is related to alphabets,3rd is related to social activities ,4th is related to IT"
   ]
  },
  {
   "cell_type": "code",
   "execution_count": 0,
   "metadata": {
    "colab": {},
    "colab_type": "code",
    "id": "2LoPQOgdJrIb"
   },
   "outputs": [],
   "source": []
  }
 ],
 "metadata": {
  "accelerator": "GPU",
  "colab": {
   "collapsed_sections": [],
   "name": "web_scraping_Batch74__3174_raghavendra_rao1.ipynb",
   "provenance": []
  },
  "kernelspec": {
   "display_name": "Python 3",
   "language": "python",
   "name": "python3"
  },
  "language_info": {
   "codemirror_mode": {
    "name": "ipython",
    "version": 3
   },
   "file_extension": ".py",
   "mimetype": "text/x-python",
   "name": "python",
   "nbconvert_exporter": "python",
   "pygments_lexer": "ipython3",
   "version": "3.7.3"
  }
 },
 "nbformat": 4,
 "nbformat_minor": 1
}
